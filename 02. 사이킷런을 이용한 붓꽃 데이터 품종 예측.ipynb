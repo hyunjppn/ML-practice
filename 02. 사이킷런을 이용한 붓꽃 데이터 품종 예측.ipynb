{
 "cells": [
  {
   "cell_type": "code",
   "execution_count": 4,
   "metadata": {},
   "outputs": [],
   "source": [
    "# 붓꽃 데이터 로드\n",
    "from sklearn.datasets import load_iris\n",
    "# 분류 알고리즘\n",
    "from sklearn.tree import DecisionTreeClassifier\n",
    "# 학습 데이터, 테스트 데이터 분리하는 함수\n",
    "from sklearn.model_selection import train_test_split"
   ]
  },
  {
   "cell_type": "code",
   "execution_count": 5,
   "metadata": {},
   "outputs": [
    {
     "name": "stderr",
     "output_type": "stream",
     "text": [
      "C:\\Users\\TJ\\anaconda3\\envs\\ml01-02\\lib\\importlib\\_bootstrap.py:219: RuntimeWarning: numpy.ufunc size changed, may indicate binary incompatibility. Expected 192 from C header, got 216 from PyObject\n",
      "  return f(*args, **kwds)\n"
     ]
    }
   ],
   "source": [
    "import numpy as np\n",
    "import pandas as pd"
   ]
  },
  {
   "cell_type": "code",
   "execution_count": 6,
   "metadata": {},
   "outputs": [
    {
     "data": {
      "text/plain": [
       "sklearn.utils.Bunch"
      ]
     },
     "execution_count": 6,
     "metadata": {},
     "output_type": "execute_result"
    }
   ],
   "source": [
    "# 붓꽃 데이터 세트를 로딩\n",
    "iris = load_iris()\n",
    "type(iris)"
   ]
  },
  {
   "cell_type": "code",
   "execution_count": 9,
   "metadata": {},
   "outputs": [
    {
     "data": {
      "text/plain": [
       "array([[5.1, 3.5, 1.4, 0.2],\n",
       "       [4.9, 3. , 1.4, 0.2],\n",
       "       [4.7, 3.2, 1.3, 0.2],\n",
       "       [4.6, 3.1, 1.5, 0.2],\n",
       "       [5. , 3.6, 1.4, 0.2],\n",
       "       [5.4, 3.9, 1.7, 0.4],\n",
       "       [4.6, 3.4, 1.4, 0.3],\n",
       "       [5. , 3.4, 1.5, 0.2],\n",
       "       [4.4, 2.9, 1.4, 0.2],\n",
       "       [4.9, 3.1, 1.5, 0.1],\n",
       "       [5.4, 3.7, 1.5, 0.2],\n",
       "       [4.8, 3.4, 1.6, 0.2],\n",
       "       [4.8, 3. , 1.4, 0.1],\n",
       "       [4.3, 3. , 1.1, 0.1],\n",
       "       [5.8, 4. , 1.2, 0.2],\n",
       "       [5.7, 4.4, 1.5, 0.4],\n",
       "       [5.4, 3.9, 1.3, 0.4],\n",
       "       [5.1, 3.5, 1.4, 0.3],\n",
       "       [5.7, 3.8, 1.7, 0.3],\n",
       "       [5.1, 3.8, 1.5, 0.3],\n",
       "       [5.4, 3.4, 1.7, 0.2],\n",
       "       [5.1, 3.7, 1.5, 0.4],\n",
       "       [4.6, 3.6, 1. , 0.2],\n",
       "       [5.1, 3.3, 1.7, 0.5],\n",
       "       [4.8, 3.4, 1.9, 0.2],\n",
       "       [5. , 3. , 1.6, 0.2],\n",
       "       [5. , 3.4, 1.6, 0.4],\n",
       "       [5.2, 3.5, 1.5, 0.2],\n",
       "       [5.2, 3.4, 1.4, 0.2],\n",
       "       [4.7, 3.2, 1.6, 0.2],\n",
       "       [4.8, 3.1, 1.6, 0.2],\n",
       "       [5.4, 3.4, 1.5, 0.4],\n",
       "       [5.2, 4.1, 1.5, 0.1],\n",
       "       [5.5, 4.2, 1.4, 0.2],\n",
       "       [4.9, 3.1, 1.5, 0.2],\n",
       "       [5. , 3.2, 1.2, 0.2],\n",
       "       [5.5, 3.5, 1.3, 0.2],\n",
       "       [4.9, 3.6, 1.4, 0.1],\n",
       "       [4.4, 3. , 1.3, 0.2],\n",
       "       [5.1, 3.4, 1.5, 0.2],\n",
       "       [5. , 3.5, 1.3, 0.3],\n",
       "       [4.5, 2.3, 1.3, 0.3],\n",
       "       [4.4, 3.2, 1.3, 0.2],\n",
       "       [5. , 3.5, 1.6, 0.6],\n",
       "       [5.1, 3.8, 1.9, 0.4],\n",
       "       [4.8, 3. , 1.4, 0.3],\n",
       "       [5.1, 3.8, 1.6, 0.2],\n",
       "       [4.6, 3.2, 1.4, 0.2],\n",
       "       [5.3, 3.7, 1.5, 0.2],\n",
       "       [5. , 3.3, 1.4, 0.2],\n",
       "       [7. , 3.2, 4.7, 1.4],\n",
       "       [6.4, 3.2, 4.5, 1.5],\n",
       "       [6.9, 3.1, 4.9, 1.5],\n",
       "       [5.5, 2.3, 4. , 1.3],\n",
       "       [6.5, 2.8, 4.6, 1.5],\n",
       "       [5.7, 2.8, 4.5, 1.3],\n",
       "       [6.3, 3.3, 4.7, 1.6],\n",
       "       [4.9, 2.4, 3.3, 1. ],\n",
       "       [6.6, 2.9, 4.6, 1.3],\n",
       "       [5.2, 2.7, 3.9, 1.4],\n",
       "       [5. , 2. , 3.5, 1. ],\n",
       "       [5.9, 3. , 4.2, 1.5],\n",
       "       [6. , 2.2, 4. , 1. ],\n",
       "       [6.1, 2.9, 4.7, 1.4],\n",
       "       [5.6, 2.9, 3.6, 1.3],\n",
       "       [6.7, 3.1, 4.4, 1.4],\n",
       "       [5.6, 3. , 4.5, 1.5],\n",
       "       [5.8, 2.7, 4.1, 1. ],\n",
       "       [6.2, 2.2, 4.5, 1.5],\n",
       "       [5.6, 2.5, 3.9, 1.1],\n",
       "       [5.9, 3.2, 4.8, 1.8],\n",
       "       [6.1, 2.8, 4. , 1.3],\n",
       "       [6.3, 2.5, 4.9, 1.5],\n",
       "       [6.1, 2.8, 4.7, 1.2],\n",
       "       [6.4, 2.9, 4.3, 1.3],\n",
       "       [6.6, 3. , 4.4, 1.4],\n",
       "       [6.8, 2.8, 4.8, 1.4],\n",
       "       [6.7, 3. , 5. , 1.7],\n",
       "       [6. , 2.9, 4.5, 1.5],\n",
       "       [5.7, 2.6, 3.5, 1. ],\n",
       "       [5.5, 2.4, 3.8, 1.1],\n",
       "       [5.5, 2.4, 3.7, 1. ],\n",
       "       [5.8, 2.7, 3.9, 1.2],\n",
       "       [6. , 2.7, 5.1, 1.6],\n",
       "       [5.4, 3. , 4.5, 1.5],\n",
       "       [6. , 3.4, 4.5, 1.6],\n",
       "       [6.7, 3.1, 4.7, 1.5],\n",
       "       [6.3, 2.3, 4.4, 1.3],\n",
       "       [5.6, 3. , 4.1, 1.3],\n",
       "       [5.5, 2.5, 4. , 1.3],\n",
       "       [5.5, 2.6, 4.4, 1.2],\n",
       "       [6.1, 3. , 4.6, 1.4],\n",
       "       [5.8, 2.6, 4. , 1.2],\n",
       "       [5. , 2.3, 3.3, 1. ],\n",
       "       [5.6, 2.7, 4.2, 1.3],\n",
       "       [5.7, 3. , 4.2, 1.2],\n",
       "       [5.7, 2.9, 4.2, 1.3],\n",
       "       [6.2, 2.9, 4.3, 1.3],\n",
       "       [5.1, 2.5, 3. , 1.1],\n",
       "       [5.7, 2.8, 4.1, 1.3],\n",
       "       [6.3, 3.3, 6. , 2.5],\n",
       "       [5.8, 2.7, 5.1, 1.9],\n",
       "       [7.1, 3. , 5.9, 2.1],\n",
       "       [6.3, 2.9, 5.6, 1.8],\n",
       "       [6.5, 3. , 5.8, 2.2],\n",
       "       [7.6, 3. , 6.6, 2.1],\n",
       "       [4.9, 2.5, 4.5, 1.7],\n",
       "       [7.3, 2.9, 6.3, 1.8],\n",
       "       [6.7, 2.5, 5.8, 1.8],\n",
       "       [7.2, 3.6, 6.1, 2.5],\n",
       "       [6.5, 3.2, 5.1, 2. ],\n",
       "       [6.4, 2.7, 5.3, 1.9],\n",
       "       [6.8, 3. , 5.5, 2.1],\n",
       "       [5.7, 2.5, 5. , 2. ],\n",
       "       [5.8, 2.8, 5.1, 2.4],\n",
       "       [6.4, 3.2, 5.3, 2.3],\n",
       "       [6.5, 3. , 5.5, 1.8],\n",
       "       [7.7, 3.8, 6.7, 2.2],\n",
       "       [7.7, 2.6, 6.9, 2.3],\n",
       "       [6. , 2.2, 5. , 1.5],\n",
       "       [6.9, 3.2, 5.7, 2.3],\n",
       "       [5.6, 2.8, 4.9, 2. ],\n",
       "       [7.7, 2.8, 6.7, 2. ],\n",
       "       [6.3, 2.7, 4.9, 1.8],\n",
       "       [6.7, 3.3, 5.7, 2.1],\n",
       "       [7.2, 3.2, 6. , 1.8],\n",
       "       [6.2, 2.8, 4.8, 1.8],\n",
       "       [6.1, 3. , 4.9, 1.8],\n",
       "       [6.4, 2.8, 5.6, 2.1],\n",
       "       [7.2, 3. , 5.8, 1.6],\n",
       "       [7.4, 2.8, 6.1, 1.9],\n",
       "       [7.9, 3.8, 6.4, 2. ],\n",
       "       [6.4, 2.8, 5.6, 2.2],\n",
       "       [6.3, 2.8, 5.1, 1.5],\n",
       "       [6.1, 2.6, 5.6, 1.4],\n",
       "       [7.7, 3. , 6.1, 2.3],\n",
       "       [6.3, 3.4, 5.6, 2.4],\n",
       "       [6.4, 3.1, 5.5, 1.8],\n",
       "       [6. , 3. , 4.8, 1.8],\n",
       "       [6.9, 3.1, 5.4, 2.1],\n",
       "       [6.7, 3.1, 5.6, 2.4],\n",
       "       [6.9, 3.1, 5.1, 2.3],\n",
       "       [5.8, 2.7, 5.1, 1.9],\n",
       "       [6.8, 3.2, 5.9, 2.3],\n",
       "       [6.7, 3.3, 5.7, 2.5],\n",
       "       [6.7, 3. , 5.2, 2.3],\n",
       "       [6.3, 2.5, 5. , 1.9],\n",
       "       [6.5, 3. , 5.2, 2. ],\n",
       "       [6.2, 3.4, 5.4, 2.3],\n",
       "       [5.9, 3. , 5.1, 1.8]])"
      ]
     },
     "execution_count": 9,
     "metadata": {},
     "output_type": "execute_result"
    }
   ],
   "source": [
    "iris_data = iris.data\n",
    "iris_data"
   ]
  },
  {
   "cell_type": "code",
   "execution_count": 10,
   "metadata": {},
   "outputs": [
    {
     "data": {
      "text/plain": [
       "array([0, 0, 0, 0, 0, 0, 0, 0, 0, 0, 0, 0, 0, 0, 0, 0, 0, 0, 0, 0, 0, 0,\n",
       "       0, 0, 0, 0, 0, 0, 0, 0, 0, 0, 0, 0, 0, 0, 0, 0, 0, 0, 0, 0, 0, 0,\n",
       "       0, 0, 0, 0, 0, 0, 1, 1, 1, 1, 1, 1, 1, 1, 1, 1, 1, 1, 1, 1, 1, 1,\n",
       "       1, 1, 1, 1, 1, 1, 1, 1, 1, 1, 1, 1, 1, 1, 1, 1, 1, 1, 1, 1, 1, 1,\n",
       "       1, 1, 1, 1, 1, 1, 1, 1, 1, 1, 1, 1, 2, 2, 2, 2, 2, 2, 2, 2, 2, 2,\n",
       "       2, 2, 2, 2, 2, 2, 2, 2, 2, 2, 2, 2, 2, 2, 2, 2, 2, 2, 2, 2, 2, 2,\n",
       "       2, 2, 2, 2, 2, 2, 2, 2, 2, 2, 2, 2, 2, 2, 2, 2, 2, 2])"
      ]
     },
     "execution_count": 10,
     "metadata": {},
     "output_type": "execute_result"
    }
   ],
   "source": [
    "# iris.target key : 레이블(답) 데이터 추출\n",
    "iris_label = iris.target\n",
    "iris_label"
   ]
  },
  {
   "cell_type": "code",
   "execution_count": 13,
   "metadata": {},
   "outputs": [
    {
     "data": {
      "text/plain": [
       "array(['setosa', 'versicolor', 'virginica'], dtype='<U10')"
      ]
     },
     "execution_count": 13,
     "metadata": {},
     "output_type": "execute_result"
    }
   ],
   "source": [
    "# 품종명 추출\n",
    "iris.target_names"
   ]
  },
  {
   "cell_type": "code",
   "execution_count": 16,
   "metadata": {},
   "outputs": [
    {
     "data": {
      "text/html": [
       "<div>\n",
       "<style scoped>\n",
       "    .dataframe tbody tr th:only-of-type {\n",
       "        vertical-align: middle;\n",
       "    }\n",
       "\n",
       "    .dataframe tbody tr th {\n",
       "        vertical-align: top;\n",
       "    }\n",
       "\n",
       "    .dataframe thead th {\n",
       "        text-align: right;\n",
       "    }\n",
       "</style>\n",
       "<table border=\"1\" class=\"dataframe\">\n",
       "  <thead>\n",
       "    <tr style=\"text-align: right;\">\n",
       "      <th></th>\n",
       "      <th>sepal length (cm)</th>\n",
       "      <th>sepal width (cm)</th>\n",
       "      <th>petal length (cm)</th>\n",
       "      <th>petal width (cm)</th>\n",
       "    </tr>\n",
       "  </thead>\n",
       "  <tbody>\n",
       "    <tr>\n",
       "      <th>0</th>\n",
       "      <td>5.1</td>\n",
       "      <td>3.5</td>\n",
       "      <td>1.4</td>\n",
       "      <td>0.2</td>\n",
       "    </tr>\n",
       "    <tr>\n",
       "      <th>1</th>\n",
       "      <td>4.9</td>\n",
       "      <td>3.0</td>\n",
       "      <td>1.4</td>\n",
       "      <td>0.2</td>\n",
       "    </tr>\n",
       "    <tr>\n",
       "      <th>2</th>\n",
       "      <td>4.7</td>\n",
       "      <td>3.2</td>\n",
       "      <td>1.3</td>\n",
       "      <td>0.2</td>\n",
       "    </tr>\n",
       "    <tr>\n",
       "      <th>3</th>\n",
       "      <td>4.6</td>\n",
       "      <td>3.1</td>\n",
       "      <td>1.5</td>\n",
       "      <td>0.2</td>\n",
       "    </tr>\n",
       "    <tr>\n",
       "      <th>4</th>\n",
       "      <td>5.0</td>\n",
       "      <td>3.6</td>\n",
       "      <td>1.4</td>\n",
       "      <td>0.2</td>\n",
       "    </tr>\n",
       "  </tbody>\n",
       "</table>\n",
       "</div>"
      ],
      "text/plain": [
       "   sepal length (cm)  sepal width (cm)  petal length (cm)  petal width (cm)\n",
       "0                5.1               3.5                1.4               0.2\n",
       "1                4.9               3.0                1.4               0.2\n",
       "2                4.7               3.2                1.3               0.2\n",
       "3                4.6               3.1                1.5               0.2\n",
       "4                5.0               3.6                1.4               0.2"
      ]
     },
     "execution_count": 16,
     "metadata": {},
     "output_type": "execute_result"
    }
   ],
   "source": [
    "# 추출한 데이터 -> 데이터프레임 생성\n",
    "iris_df = pd.DataFrame(\n",
    "      data=iris_data\n",
    "    , columns=iris.feature_names  # 컬럼명\n",
    "    )\n",
    "\n",
    "iris_df.head()"
   ]
  },
  {
   "cell_type": "code",
   "execution_count": 18,
   "metadata": {},
   "outputs": [
    {
     "data": {
      "text/html": [
       "<div>\n",
       "<style scoped>\n",
       "    .dataframe tbody tr th:only-of-type {\n",
       "        vertical-align: middle;\n",
       "    }\n",
       "\n",
       "    .dataframe tbody tr th {\n",
       "        vertical-align: top;\n",
       "    }\n",
       "\n",
       "    .dataframe thead th {\n",
       "        text-align: right;\n",
       "    }\n",
       "</style>\n",
       "<table border=\"1\" class=\"dataframe\">\n",
       "  <thead>\n",
       "    <tr style=\"text-align: right;\">\n",
       "      <th></th>\n",
       "      <th>sepal length (cm)</th>\n",
       "      <th>sepal width (cm)</th>\n",
       "      <th>petal length (cm)</th>\n",
       "      <th>petal width (cm)</th>\n",
       "      <th>label</th>\n",
       "    </tr>\n",
       "  </thead>\n",
       "  <tbody>\n",
       "    <tr>\n",
       "      <th>0</th>\n",
       "      <td>5.1</td>\n",
       "      <td>3.5</td>\n",
       "      <td>1.4</td>\n",
       "      <td>0.2</td>\n",
       "      <td>0</td>\n",
       "    </tr>\n",
       "    <tr>\n",
       "      <th>1</th>\n",
       "      <td>4.9</td>\n",
       "      <td>3.0</td>\n",
       "      <td>1.4</td>\n",
       "      <td>0.2</td>\n",
       "      <td>0</td>\n",
       "    </tr>\n",
       "    <tr>\n",
       "      <th>2</th>\n",
       "      <td>4.7</td>\n",
       "      <td>3.2</td>\n",
       "      <td>1.3</td>\n",
       "      <td>0.2</td>\n",
       "      <td>0</td>\n",
       "    </tr>\n",
       "    <tr>\n",
       "      <th>3</th>\n",
       "      <td>4.6</td>\n",
       "      <td>3.1</td>\n",
       "      <td>1.5</td>\n",
       "      <td>0.2</td>\n",
       "      <td>0</td>\n",
       "    </tr>\n",
       "    <tr>\n",
       "      <th>4</th>\n",
       "      <td>5.0</td>\n",
       "      <td>3.6</td>\n",
       "      <td>1.4</td>\n",
       "      <td>0.2</td>\n",
       "      <td>0</td>\n",
       "    </tr>\n",
       "  </tbody>\n",
       "</table>\n",
       "</div>"
      ],
      "text/plain": [
       "   sepal length (cm)  sepal width (cm)  petal length (cm)  petal width (cm)  \\\n",
       "0                5.1               3.5                1.4               0.2   \n",
       "1                4.9               3.0                1.4               0.2   \n",
       "2                4.7               3.2                1.3               0.2   \n",
       "3                4.6               3.1                1.5               0.2   \n",
       "4                5.0               3.6                1.4               0.2   \n",
       "\n",
       "   label  \n",
       "0      0  \n",
       "1      0  \n",
       "2      0  \n",
       "3      0  \n",
       "4      0  "
      ]
     },
     "execution_count": 18,
     "metadata": {},
     "output_type": "execute_result"
    }
   ],
   "source": [
    "# 레이블(답) 추가\n",
    "iris_df['label'] = iris.target\n",
    "iris_df.head()"
   ]
  },
  {
   "cell_type": "code",
   "execution_count": 24,
   "metadata": {},
   "outputs": [],
   "source": [
    "# 전체 데이터 : 150개\n",
    "# 학습 데이터 : 120개 (테스트데이터 : 30개 <0.2>)\n",
    "# 학습 레이블 : 120개, 테스트 레이블 : 30개 분리\n",
    "# 학습데이터 , 테스트데이터, 학습답, 테스트답\n",
    "X_train , X_test, y_train, y_test= train_test_split(\n",
    "    iris_data  # 분리할 데이터\n",
    "    , iris_label # 분리할 답\n",
    "    , test_size = 0.2 # 테스트 데이터 크기\n",
    "    , random_state = 11 # random_seed 와 동일\n",
    ")"
   ]
  },
  {
   "cell_type": "code",
   "execution_count": 25,
   "metadata": {},
   "outputs": [
    {
     "data": {
      "text/plain": [
       "(array([[5.1, 3.5, 1.4, 0.2],\n",
       "        [6.9, 3.2, 5.7, 2.3],\n",
       "        [7.7, 2.8, 6.7, 2. ],\n",
       "        [5. , 3.3, 1.4, 0.2],\n",
       "        [4.7, 3.2, 1.6, 0.2],\n",
       "        [7.7, 2.6, 6.9, 2.3],\n",
       "        [7.6, 3. , 6.6, 2.1],\n",
       "        [6.7, 3. , 5. , 1.7],\n",
       "        [5.5, 3.5, 1.3, 0.2],\n",
       "        [6. , 2.7, 5.1, 1.6],\n",
       "        [5. , 2. , 3.5, 1. ],\n",
       "        [7.9, 3.8, 6.4, 2. ],\n",
       "        [4.6, 3.4, 1.4, 0.3],\n",
       "        [6.9, 3.1, 4.9, 1.5],\n",
       "        [6.5, 3. , 5.8, 2.2],\n",
       "        [5.1, 2.5, 3. , 1.1],\n",
       "        [6.6, 2.9, 4.6, 1.3],\n",
       "        [5. , 3.2, 1.2, 0.2],\n",
       "        [7.4, 2.8, 6.1, 1.9],\n",
       "        [5.1, 3.8, 1.6, 0.2],\n",
       "        [6.8, 3.2, 5.9, 2.3],\n",
       "        [6.9, 3.1, 5.1, 2.3],\n",
       "        [5.9, 3. , 4.2, 1.5],\n",
       "        [4.9, 2.5, 4.5, 1.7],\n",
       "        [6.7, 3.1, 4.7, 1.5],\n",
       "        [4.4, 3.2, 1.3, 0.2],\n",
       "        [5.4, 3.4, 1.7, 0.2],\n",
       "        [6.5, 2.8, 4.6, 1.5],\n",
       "        [5.1, 3.7, 1.5, 0.4],\n",
       "        [5. , 3.4, 1.6, 0.4],\n",
       "        [6.1, 2.6, 5.6, 1.4],\n",
       "        [6.5, 3. , 5.5, 1.8],\n",
       "        [6.3, 2.5, 5. , 1.9],\n",
       "        [5.2, 3.4, 1.4, 0.2],\n",
       "        [5. , 3.6, 1.4, 0.2],\n",
       "        [5.4, 3.4, 1.5, 0.4],\n",
       "        [6.1, 2.8, 4.7, 1.2],\n",
       "        [5.1, 3.4, 1.5, 0.2],\n",
       "        [5.6, 3. , 4.1, 1.3],\n",
       "        [6.3, 2.7, 4.9, 1.8],\n",
       "        [7.1, 3. , 5.9, 2.1],\n",
       "        [5.5, 2.6, 4.4, 1.2],\n",
       "        [5. , 2.3, 3.3, 1. ],\n",
       "        [6.3, 3.4, 5.6, 2.4],\n",
       "        [5.8, 2.7, 5.1, 1.9],\n",
       "        [5.5, 4.2, 1.4, 0.2],\n",
       "        [5.6, 2.7, 4.2, 1.3],\n",
       "        [6.2, 2.9, 4.3, 1.3],\n",
       "        [6.7, 2.5, 5.8, 1.8],\n",
       "        [6.1, 3. , 4.9, 1.8],\n",
       "        [6.7, 3.1, 5.6, 2.4],\n",
       "        [4.6, 3.2, 1.4, 0.2],\n",
       "        [7.7, 3.8, 6.7, 2.2],\n",
       "        [5.3, 3.7, 1.5, 0.2],\n",
       "        [5.7, 3.8, 1.7, 0.3],\n",
       "        [5. , 3.5, 1.6, 0.6],\n",
       "        [5.1, 3.5, 1.4, 0.3],\n",
       "        [6.3, 3.3, 6. , 2.5],\n",
       "        [4.4, 3. , 1.3, 0.2],\n",
       "        [5. , 3. , 1.6, 0.2],\n",
       "        [5.1, 3.8, 1.5, 0.3],\n",
       "        [6. , 2.9, 4.5, 1.5],\n",
       "        [5.2, 4.1, 1.5, 0.1],\n",
       "        [6.3, 2.5, 4.9, 1.5],\n",
       "        [6.2, 2.2, 4.5, 1.5],\n",
       "        [6.4, 3.1, 5.5, 1.8],\n",
       "        [6.3, 2.3, 4.4, 1.3],\n",
       "        [4.4, 2.9, 1.4, 0.2],\n",
       "        [4.6, 3.1, 1.5, 0.2],\n",
       "        [4.9, 3. , 1.4, 0.2],\n",
       "        [5.2, 2.7, 3.9, 1.4],\n",
       "        [5.7, 2.8, 4.1, 1.3],\n",
       "        [7. , 3.2, 4.7, 1.4],\n",
       "        [6.7, 3.3, 5.7, 2.5],\n",
       "        [5.5, 2.3, 4. , 1.3],\n",
       "        [5.4, 3.9, 1.7, 0.4],\n",
       "        [5.7, 3. , 4.2, 1.2],\n",
       "        [6.4, 3.2, 5.3, 2.3],\n",
       "        [5. , 3.5, 1.3, 0.3],\n",
       "        [6.2, 2.8, 4.8, 1.8],\n",
       "        [6.7, 3.3, 5.7, 2.1],\n",
       "        [5.7, 2.8, 4.5, 1.3],\n",
       "        [5. , 3.4, 1.5, 0.2],\n",
       "        [5.8, 4. , 1.2, 0.2],\n",
       "        [5.1, 3.8, 1.9, 0.4],\n",
       "        [5.6, 2.8, 4.9, 2. ],\n",
       "        [4.9, 2.4, 3.3, 1. ],\n",
       "        [5.4, 3.7, 1.5, 0.2],\n",
       "        [7.3, 2.9, 6.3, 1.8],\n",
       "        [5.5, 2.5, 4. , 1.3],\n",
       "        [7.7, 3. , 6.1, 2.3],\n",
       "        [5.2, 3.5, 1.5, 0.2],\n",
       "        [5.1, 3.3, 1.7, 0.5],\n",
       "        [5.7, 2.9, 4.2, 1.3],\n",
       "        [5.7, 2.6, 3.5, 1. ],\n",
       "        [6. , 3. , 4.8, 1.8],\n",
       "        [5.6, 2.9, 3.6, 1.3],\n",
       "        [6.4, 2.8, 5.6, 2.1],\n",
       "        [5.8, 2.8, 5.1, 2.4],\n",
       "        [5.9, 3.2, 4.8, 1.8],\n",
       "        [5.8, 2.7, 4.1, 1. ],\n",
       "        [6.2, 3.4, 5.4, 2.3],\n",
       "        [6.5, 3. , 5.2, 2. ],\n",
       "        [4.9, 3.6, 1.4, 0.1],\n",
       "        [6.4, 2.9, 4.3, 1.3],\n",
       "        [7.2, 3. , 5.8, 1.6],\n",
       "        [4.9, 3.1, 1.5, 0.2],\n",
       "        [6.4, 2.8, 5.6, 2.2],\n",
       "        [7.2, 3.2, 6. , 1.8],\n",
       "        [4.8, 3. , 1.4, 0.3],\n",
       "        [5.8, 2.6, 4. , 1.2],\n",
       "        [7.2, 3.6, 6.1, 2.5],\n",
       "        [4.8, 3.4, 1.9, 0.2],\n",
       "        [5.8, 2.7, 3.9, 1.2],\n",
       "        [6.1, 2.8, 4. , 1.3],\n",
       "        [6.8, 2.8, 4.8, 1.4],\n",
       "        [4.3, 3. , 1.1, 0.1],\n",
       "        [5.5, 2.4, 3.7, 1. ],\n",
       "        [6.1, 3. , 4.6, 1.4],\n",
       "        [5.5, 2.4, 3.8, 1.1]]),\n",
       " array([0, 2, 2, 0, 0, 2, 2, 1, 0, 1, 1, 2, 0, 1, 2, 1, 1, 0, 2, 0, 2, 2,\n",
       "        1, 2, 1, 0, 0, 1, 0, 0, 2, 2, 2, 0, 0, 0, 1, 0, 1, 2, 2, 1, 1, 2,\n",
       "        2, 0, 1, 1, 2, 2, 2, 0, 2, 0, 0, 0, 0, 2, 0, 0, 0, 1, 0, 1, 1, 2,\n",
       "        1, 0, 0, 0, 1, 1, 1, 2, 1, 0, 1, 2, 0, 2, 2, 1, 0, 0, 0, 2, 1, 0,\n",
       "        2, 1, 2, 0, 0, 1, 1, 2, 1, 2, 2, 1, 1, 2, 2, 0, 1, 2, 0, 2, 2, 0,\n",
       "        1, 2, 0, 1, 1, 1, 0, 1, 1, 1]))"
      ]
     },
     "execution_count": 25,
     "metadata": {},
     "output_type": "execute_result"
    }
   ],
   "source": [
    "# 학습시 사용될 학습데이터, 학습 답\n",
    "X_train, y_train"
   ]
  },
  {
   "cell_type": "code",
   "execution_count": 26,
   "metadata": {},
   "outputs": [
    {
     "data": {
      "text/plain": [
       "(array([[6.8, 3. , 5.5, 2.1],\n",
       "        [6.7, 3. , 5.2, 2.3],\n",
       "        [6.3, 2.8, 5.1, 1.5],\n",
       "        [6.3, 3.3, 4.7, 1.6],\n",
       "        [6.4, 2.7, 5.3, 1.9],\n",
       "        [4.9, 3.1, 1.5, 0.1],\n",
       "        [6.7, 3.1, 4.4, 1.4],\n",
       "        [5.7, 4.4, 1.5, 0.4],\n",
       "        [4.8, 3.1, 1.6, 0.2],\n",
       "        [6.1, 2.9, 4.7, 1.4],\n",
       "        [6. , 2.2, 5. , 1.5],\n",
       "        [6. , 2.2, 4. , 1. ],\n",
       "        [5.4, 3. , 4.5, 1.5],\n",
       "        [5.7, 2.5, 5. , 2. ],\n",
       "        [6.9, 3.1, 5.4, 2.1],\n",
       "        [4.5, 2.3, 1.3, 0.3],\n",
       "        [6.3, 2.9, 5.6, 1.8],\n",
       "        [5.6, 3. , 4.5, 1.5],\n",
       "        [6.5, 3.2, 5.1, 2. ],\n",
       "        [5.8, 2.7, 5.1, 1.9],\n",
       "        [5.6, 2.5, 3.9, 1.1],\n",
       "        [4.7, 3.2, 1.3, 0.2],\n",
       "        [4.6, 3.6, 1. , 0.2],\n",
       "        [6.4, 3.2, 4.5, 1.5],\n",
       "        [4.8, 3. , 1.4, 0.1],\n",
       "        [4.8, 3.4, 1.6, 0.2],\n",
       "        [5.9, 3. , 5.1, 1.8],\n",
       "        [6.6, 3. , 4.4, 1.4],\n",
       "        [5.4, 3.9, 1.3, 0.4],\n",
       "        [6. , 3.4, 4.5, 1.6]]),\n",
       " array([2, 2, 2, 1, 2, 0, 1, 0, 0, 1, 2, 1, 1, 2, 2, 0, 2, 1, 2, 2, 1, 0,\n",
       "        0, 1, 0, 0, 2, 1, 0, 1]))"
      ]
     },
     "execution_count": 26,
     "metadata": {},
     "output_type": "execute_result"
    }
   ],
   "source": [
    "# 테스트시 사용 될 데이터, 답\n",
    "X_test, y_test"
   ]
  },
  {
   "cell_type": "code",
   "execution_count": 27,
   "metadata": {},
   "outputs": [
    {
     "data": {
      "text/plain": [
       "DecisionTreeClassifier(random_state=11)"
      ]
     },
     "execution_count": 27,
     "metadata": {},
     "output_type": "execute_result"
    }
   ],
   "source": [
    "# 모델 : 학습데이터와 학습답으로 학습한 결과\n",
    "# 분류로 학습 진행\n",
    "# DecisionTreeClassifier : 분류 처리 객체 생성 -> 아직 학습 x\n",
    "dt_clf = DecisionTreeClassifier(random_state=11)\n",
    "dt_clf "
   ]
  },
  {
   "cell_type": "code",
   "execution_count": 28,
   "metadata": {},
   "outputs": [
    {
     "data": {
      "text/plain": [
       "DecisionTreeClassifier(random_state=11)"
      ]
     },
     "execution_count": 28,
     "metadata": {},
     "output_type": "execute_result"
    }
   ],
   "source": [
    "# 학습데이터, 답을 넣어서 학습 수행\n",
    "dt_clf.fit(X_train, y_train)\n",
    "# dt_clf객체안에 모델(학습결과 : 식) 생성"
   ]
  },
  {
   "cell_type": "code",
   "execution_count": 30,
   "metadata": {},
   "outputs": [
    {
     "data": {
      "text/plain": [
       "array([2, 2, 1, 1, 2, 0, 1, 0, 0, 1, 1, 1, 1, 2, 2, 0, 2, 1, 2, 2, 1, 0,\n",
       "       0, 1, 0, 0, 2, 1, 0, 1])"
      ]
     },
     "execution_count": 30,
     "metadata": {},
     "output_type": "execute_result"
    }
   ],
   "source": [
    "# 테스트데이터를 넣어서 예측 출력\n",
    "pred = dt_clf.predict(X_test)\n",
    "pred"
   ]
  },
  {
   "cell_type": "code",
   "execution_count": 31,
   "metadata": {},
   "outputs": [
    {
     "data": {
      "text/plain": [
       "array([2, 2, 2, 1, 2, 0, 1, 0, 0, 1, 2, 1, 1, 2, 2, 0, 2, 1, 2, 2, 1, 0,\n",
       "       0, 1, 0, 0, 2, 1, 0, 1])"
      ]
     },
     "execution_count": 31,
     "metadata": {},
     "output_type": "execute_result"
    }
   ],
   "source": [
    "y_test"
   ]
  },
  {
   "cell_type": "code",
   "execution_count": 32,
   "metadata": {},
   "outputs": [
    {
     "data": {
      "text/plain": [
       "28"
      ]
     },
     "execution_count": 32,
     "metadata": {},
     "output_type": "execute_result"
    }
   ],
   "source": [
    "np.sum(pred == y_test)"
   ]
  },
  {
   "cell_type": "code",
   "execution_count": 33,
   "metadata": {},
   "outputs": [
    {
     "ename": "SyntaxError",
     "evalue": "unexpected character after line continuation character (<ipython-input-33-1f78baa59495>, line 1)",
     "output_type": "error",
     "traceback": [
      "\u001b[1;36m  File \u001b[1;32m\"<ipython-input-33-1f78baa59495>\"\u001b[1;36m, line \u001b[1;32m1\u001b[0m\n\u001b[1;33m    X_test[0]\\ # 0번째 테스트데이터\u001b[0m\n\u001b[1;37m                           ^\u001b[0m\n\u001b[1;31mSyntaxError\u001b[0m\u001b[1;31m:\u001b[0m unexpected character after line continuation character\n"
     ]
    }
   ],
   "source": [
    "\n",
    "X_test[0]\\ # 0번째 테스트데이터\n",
    ", pred[0]\\ # 예측값\n",
    ", y_test[0] # 실제값"
   ]
  },
  {
   "cell_type": "code",
   "execution_count": 35,
   "metadata": {},
   "outputs": [
    {
     "data": {
      "text/plain": [
       "0.9333333333333333"
      ]
     },
     "execution_count": 35,
     "metadata": {},
     "output_type": "execute_result"
    }
   ],
   "source": [
    "# accuracy_score : 정확도 계산 함수\n",
    "# y_test(원래값) ==  pred(예측결과값) \n",
    "from sklearn.metrics import accuracy_score\n",
    "accuracy_score(y_test,pred)"
   ]
  },
  {
   "cell_type": "code",
   "execution_count": 36,
   "metadata": {},
   "outputs": [
    {
     "name": "stdout",
     "output_type": "stream",
     "text": [
      "예측 정확도 : 0.9333\n"
     ]
    }
   ],
   "source": [
    "print('예측 정확도 : {0:.4f}'.format(accuracy_score(y_test,pred)))"
   ]
  },
  {
   "cell_type": "code",
   "execution_count": 38,
   "metadata": {},
   "outputs": [
    {
     "data": {
      "text/plain": [
       "dict_keys(['data', 'target', 'frame', 'target_names', 'DESCR', 'feature_names', 'filename'])"
      ]
     },
     "execution_count": 38,
     "metadata": {},
     "output_type": "execute_result"
    }
   ],
   "source": [
    "# iris dataser 확인\n",
    "from sklearn.datasets import load_iris\n",
    "\n",
    "# iris data 읽기\n",
    "iris_data = load_iris()\n",
    "\n",
    "keys = iris_data.keys()\n",
    "keys"
   ]
  },
  {
   "cell_type": "code",
   "execution_count": 39,
   "metadata": {},
   "outputs": [
    {
     "data": {
      "text/plain": [
       "['sepal length (cm)',\n",
       " 'sepal width (cm)',\n",
       " 'petal length (cm)',\n",
       " 'petal width (cm)']"
      ]
     },
     "execution_count": 39,
     "metadata": {},
     "output_type": "execute_result"
    }
   ],
   "source": [
    "iris_data.feature_names"
   ]
  },
  {
   "cell_type": "code",
   "execution_count": 40,
   "metadata": {},
   "outputs": [
    {
     "data": {
      "text/plain": [
       "array(['setosa', 'versicolor', 'virginica'], dtype='<U10')"
      ]
     },
     "execution_count": 40,
     "metadata": {},
     "output_type": "execute_result"
    }
   ],
   "source": [
    "iris_data.target_names"
   ]
  },
  {
   "cell_type": "code",
   "execution_count": 41,
   "metadata": {},
   "outputs": [
    {
     "data": {
      "text/plain": [
       "(150, 4)"
      ]
     },
     "execution_count": 41,
     "metadata": {},
     "output_type": "execute_result"
    }
   ],
   "source": [
    "# 데이터의 구조 확인\n",
    "iris_data.data.shape # (row, column)"
   ]
  },
  {
   "cell_type": "code",
   "execution_count": 43,
   "metadata": {},
   "outputs": [
    {
     "data": {
      "text/plain": [
       "(150,)"
      ]
     },
     "execution_count": 43,
     "metadata": {},
     "output_type": "execute_result"
    }
   ],
   "source": [
    "# 정답값 (0 , 1 , 2)\n",
    "iris_data.target.shape"
   ]
  },
  {
   "cell_type": "code",
   "execution_count": null,
   "metadata": {},
   "outputs": [],
   "source": []
  }
 ],
 "metadata": {
  "kernelspec": {
   "display_name": "ml01-02",
   "language": "python",
   "name": "ml01-02"
  },
  "language_info": {
   "codemirror_mode": {
    "name": "ipython",
    "version": 3
   },
   "file_extension": ".py",
   "mimetype": "text/x-python",
   "name": "python",
   "nbconvert_exporter": "python",
   "pygments_lexer": "ipython3",
   "version": "3.7.7"
  }
 },
 "nbformat": 4,
 "nbformat_minor": 4
}
