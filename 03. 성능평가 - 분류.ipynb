{
 "cells": [
  {
   "cell_type": "markdown",
   "metadata": {},
   "source": [
    "### 1. Accuracy (정확도)"
   ]
  },
  {
   "cell_type": "code",
   "execution_count": 5,
   "metadata": {},
   "outputs": [
    {
     "name": "stderr",
     "output_type": "stream",
     "text": [
      "C:\\Users\\TJ\\anaconda3\\envs\\ml01-02\\lib\\importlib\\_bootstrap.py:219: RuntimeWarning: numpy.ufunc size changed, may indicate binary incompatibility. Expected 192 from C header, got 216 from PyObject\n",
      "  return f(*args, **kwds)\n"
     ]
    }
   ],
   "source": [
    "import numpy as np\n",
    "import pandas as pd\n",
    "\n",
    "from sklearn.base import BaseEstimator # 가장 기본적인 추정기 "
   ]
  },
  {
   "cell_type": "code",
   "execution_count": 6,
   "metadata": {},
   "outputs": [],
   "source": [
    "# 간단 분류 알고리즘 클래스 생성\n",
    "# 간단한 알고리즘이지만, 정확도만을 갖고 성능평가하면 안된다.\n",
    "class MyDummyClf(BaseEstimator):\n",
    "#    pass # 재사용\n",
    "    # fit() 메소드를 정의(선언) : 아무것도 안한다.\n",
    "    # X : 학습데이터, y : 학습데이터 답\n",
    "    def fit(self, X, y=None):\n",
    "        pass\n",
    "    \n",
    "    # X : 예측할 테스트데이터, 타이타닉 데이터프레임\n",
    "    def predict(self, X):\n",
    "        # np.zeros() -> ndarray 생성, 0으로 채운다.\n",
    "        pred = np.zeros((X.shape[0],1)) # (3행 4열) X를 저장할 수 있는 공간\n",
    "        for i in range(X.shape[0]):\n",
    "            if X['Sex'].iloc[i] == 1:\n",
    "                pred[i] = 0\n",
    "            else:\n",
    "                pred[i] = 1\n",
    "        return pred"
   ]
  },
  {
   "cell_type": "code",
   "execution_count": 7,
   "metadata": {},
   "outputs": [],
   "source": [
    "def fillna_df(df):\n",
    "    '''Age => mean()'''\n",
    "    df['Age'].fillna(df['Age'].mean(), inplace = True)\n",
    "    df['Cabin'].fillna('N', inplace = True)\n",
    "    df['Embarked'].fillna('N', inplace = True)\n",
    "    df['Fare'].fillna(0, inplace = True)\n",
    "    \n",
    "    return df"
   ]
  },
  {
   "cell_type": "code",
   "execution_count": 8,
   "metadata": {},
   "outputs": [],
   "source": [
    "def drop_features(df):\n",
    "    df.drop(\n",
    "              ['PassengerId','Name','Ticket']  # name,ticket은 실제로는 유의미\n",
    "            , axis=1\n",
    "            , inplace = True\n",
    "    )\n",
    "    return df"
   ]
  },
  {
   "cell_type": "code",
   "execution_count": 9,
   "metadata": {},
   "outputs": [],
   "source": [
    "from sklearn.preprocessing import LabelEncoder\n",
    "\n",
    "def format_features(df):\n",
    "    df['Cabin'] = df['Cabin'].str[:1] # Cabin : C85 -> C\n",
    "    features=['Cabin','Sex','Embarked']\n",
    "    \n",
    "    for feature in features:\n",
    "        le = LabelEncoder()\n",
    "        le = le.fit(df[feature])\n",
    "        df[feature] = le.transform(df[feature])\n",
    "        \n",
    "    return df"
   ]
  },
  {
   "cell_type": "code",
   "execution_count": 10,
   "metadata": {},
   "outputs": [],
   "source": [
    "def transform_features(df):\n",
    "    df = fillna_df(df) # Null 채우기\n",
    "    df = drop_features(df) # 필요없는 컬럼 삭제\n",
    "    df = format_features(df) # 인코딩\n",
    "    return df"
   ]
  },
  {
   "cell_type": "code",
   "execution_count": 11,
   "metadata": {},
   "outputs": [
    {
     "name": "stderr",
     "output_type": "stream",
     "text": [
      "C:\\Users\\TJ\\anaconda3\\envs\\ml01-02\\lib\\importlib\\_bootstrap.py:219: RuntimeWarning: numpy.ufunc size changed, may indicate binary incompatibility. Expected 192 from C header, got 216 from PyObject\n",
      "  return f(*args, **kwds)\n"
     ]
    },
    {
     "data": {
      "text/plain": [
       "0.7877094972067039"
      ]
     },
     "execution_count": 11,
     "metadata": {},
     "output_type": "execute_result"
    }
   ],
   "source": [
    "# MyDummyClf class 성능평가\n",
    "from sklearn.model_selection import train_test_split\n",
    "from sklearn.metrics import accuracy_score\n",
    "\n",
    "# 데이터 로딩\n",
    "titanic_df = pd.read_csv('../data/titanic_train.csv')\n",
    "\n",
    "# 데이터와 답을 분리\n",
    "y_tit_df = titanic_df['Survived']\n",
    "X_tit_df = titanic_df.drop('Survived', axis=1)\n",
    "\n",
    "# 데이터 전처리\n",
    "X_tit_df = transform_features(X_tit_df)\n",
    "\n",
    "# 학습데이터와 테스트데이터 분리\n",
    "X_train, X_test, y_train, y_test =\\\n",
    "train_test_split(\n",
    "      X_tit_df # 분리할 데이터 (학습할 데이터 / 테스트할 데이터)\n",
    "    , y_tit_df # 분리할 답     (학습할 답     / 테스트 답)\n",
    "    , test_size=0.2\n",
    "    , random_state=0\n",
    ")\n",
    "\n",
    "# 1. 모델 객체 생성\n",
    "myclf = MyDummyClf()\n",
    "\n",
    "# 2. 학습\n",
    "myclf.fit(X_train, y_train)\n",
    "\n",
    "# 3. 예측값 추출\n",
    "mypred = myclf.predict(X_test)\n",
    "\n",
    "# 4. 정확도 출력\n",
    "accuracy_score(y_test, mypred)\n"
   ]
  },
  {
   "cell_type": "markdown",
   "metadata": {},
   "source": [
    "### 불균형한 데이터 정확도 예측, 성능 평가"
   ]
  },
  {
   "cell_type": "code",
   "execution_count": 12,
   "metadata": {},
   "outputs": [],
   "source": [
    "# 0~9 사잇값을 임의생성하는 함수\n",
    "from sklearn.datasets import load_digits \n",
    "\n",
    "digits = load_digits()\n",
    "\n",
    "digits\n",
    "\n",
    "class MyFakeClf(BaseEstimator):\n",
    "    pass"
   ]
  },
  {
   "cell_type": "code",
   "execution_count": 13,
   "metadata": {},
   "outputs": [
    {
     "data": {
      "text/plain": [
       "1797"
      ]
     },
     "execution_count": 13,
     "metadata": {},
     "output_type": "execute_result"
    }
   ],
   "source": [
    "len(digits.target)"
   ]
  },
  {
   "cell_type": "code",
   "execution_count": 14,
   "metadata": {},
   "outputs": [
    {
     "data": {
      "text/plain": [
       "3    183\n",
       "5    182\n",
       "1    182\n",
       "6    181\n",
       "4    181\n",
       "9    180\n",
       "7    179\n",
       "0    178\n",
       "2    177\n",
       "8    174\n",
       "dtype: int64"
      ]
     },
     "execution_count": 14,
     "metadata": {},
     "output_type": "execute_result"
    }
   ],
   "source": [
    "digits_Ser = pd.Series(digits.target)\n",
    "digits_Ser.value_counts()"
   ]
  },
  {
   "cell_type": "code",
   "execution_count": 15,
   "metadata": {},
   "outputs": [],
   "source": [
    "# 불균형 데이터 생성 코드\n",
    "y=(digits.target ==7).astype(int)\n",
    "#digits.target ==7 => True.astype(int) =>1\n",
    "#digits.target !=7 => False.astype(int) =>0"
   ]
  },
  {
   "cell_type": "code",
   "execution_count": 16,
   "metadata": {},
   "outputs": [],
   "source": [
    "#데이터와 답을 학습데잍터와 테스트데이터 분리\n",
    "#데이터:digits.data\n",
    "#답:y\n",
    "X_train,X_test,y_train,y_test=\\\n",
    "train_test_split(\n",
    "    digits.data # 전체 데이터\n",
    "    ,y          # 답\n",
    "    ,random_state=0\n",
    ")"
   ]
  },
  {
   "cell_type": "code",
   "execution_count": 17,
   "metadata": {},
   "outputs": [
    {
     "name": "stdout",
     "output_type": "stream",
     "text": [
      "레이블 테스트 세트 크기 (450,)\n",
      "테스트 세트의 레이블 분포값\n",
      "0    402\n",
      "1     48\n",
      "dtype: int64\n"
     ]
    }
   ],
   "source": [
    "#불균형한 레이블 데이터 분포\n",
    "print('레이블 테스트 세트 크기',y_test.shape)\n",
    "print('테스트 세트의 레이블 분포값')\n",
    "print(pd.Series(y_test).value_counts())"
   ]
  },
  {
   "cell_type": "code",
   "execution_count": 18,
   "metadata": {},
   "outputs": [],
   "source": [
    "class MyFakeClf(BaseEstimator):\n",
    "    def fit(self,X,y):\n",
    "        pass\n",
    "    def predict(self,X):\n",
    "        return np.zeros((len(X),1),dtype=bool)"
   ]
  },
  {
   "cell_type": "code",
   "execution_count": 19,
   "metadata": {},
   "outputs": [
    {
     "data": {
      "text/plain": [
       "0.8933333333333333"
      ]
     },
     "execution_count": 19,
     "metadata": {},
     "output_type": "execute_result"
    }
   ],
   "source": [
    "#모델 생성,학습,예측,평가\n",
    "fakeclf=MyFakeClf()\n",
    "fakeclf.fit(X_train,y_train)\n",
    "fakepred=fakeclf.predict(X_test)\n",
    "accuracy_score(y_test,fakepred)"
   ]
  },
  {
   "cell_type": "markdown",
   "metadata": {},
   "source": [
    "### 2. Confusion Matrix(오차행렬)"
   ]
  },
  {
   "cell_type": "code",
   "execution_count": 20,
   "metadata": {},
   "outputs": [],
   "source": [
    "from sklearn.metrics import confusion_matrix"
   ]
  },
  {
   "cell_type": "code",
   "execution_count": 21,
   "metadata": {},
   "outputs": [
    {
     "data": {
      "text/plain": [
       "array([[402,   0],\n",
       "       [ 48,   0]], dtype=int64)"
      ]
     },
     "execution_count": 21,
     "metadata": {},
     "output_type": "execute_result"
    }
   ],
   "source": [
    "confusion_matrix(y_test, fakepred)"
   ]
  },
  {
   "cell_type": "markdown",
   "metadata": {},
   "source": [
    "### 3. 정밀도와 재현율"
   ]
  },
  {
   "cell_type": "code",
   "execution_count": 22,
   "metadata": {},
   "outputs": [],
   "source": [
    "import numpy as np\n",
    "import pandas as pd\n",
    "\n",
    "from sklearn.metrics import accuracy_score\n",
    "from sklearn.metrics import precision_score\n",
    "from sklearn.metrics import recall_score\n",
    "from sklearn.metrics import confusion_matrix"
   ]
  },
  {
   "cell_type": "code",
   "execution_count": 27,
   "metadata": {},
   "outputs": [],
   "source": [
    "# 오차행렬, 정밀도, 재현율 \n",
    "def get_clf_eval(y_test, pred):\n",
    "    confusion = confusion_matrix(y_test, pred) # 오차 행렬\n",
    "    accu = accuracy_score(y_test, pred) # 정확도\n",
    "    precision = precision_score(y_test, pred) # 정밀도\n",
    "    recall = recall_score(y_test, pred) # 재현율\n",
    "    print('오차 행렬')\n",
    "    print(confusion)\n",
    "    result = '정확도: {0:.4f}, 정밀도: {1:.4f}, 재현율: {2:.4f}'\n",
    "    print(result.format(accu, precision, recall))"
   ]
  },
  {
   "cell_type": "code",
   "execution_count": 28,
   "metadata": {},
   "outputs": [],
   "source": [
    "# LogisticRegression(이진분류 알고리즘)\n",
    "from sklearn.model_selection import train_test_split\n",
    "from sklearn.linear_model import LogisticRegression"
   ]
  },
  {
   "cell_type": "code",
   "execution_count": 29,
   "metadata": {},
   "outputs": [],
   "source": [
    "# 타이타닉 데이터 로딩, 데이터 가공, 데이터 분리 \n",
    "titanic_df = pd.read_csv('../data/titanic_train.csv')\n",
    "# 답 데이터 추출\n",
    "y_tit_df = titanic_df['Survived']\n",
    "# 답제외한 데이터 추출\n",
    "X_tit_df = titanic_df.drop('Survived', axis=1)\n",
    "\n",
    "# 데이터 가공 (전처리)\n",
    "X_tit_df = transform_features(X_tit_df)\n",
    "\n",
    "# 데이터 분리(학습,테스트)\n",
    "X_train, X_test, y_train, y_test = \\\n",
    "train_test_split(\n",
    "      X_tit_df\n",
    "    , y_tit_df\n",
    "    , test_size = 0.2\n",
    "    , random_state = 0\n",
    ")"
   ]
  },
  {
   "cell_type": "code",
   "execution_count": 30,
   "metadata": {},
   "outputs": [
    {
     "name": "stdout",
     "output_type": "stream",
     "text": [
      "오차 행렬\n",
      "[[92 18]\n",
      " [16 53]]\n",
      "정확도: 0.8101, 정밀도: 0.7465, 재현율: 0.7681\n"
     ]
    },
    {
     "name": "stderr",
     "output_type": "stream",
     "text": [
      "C:\\Users\\TJ\\anaconda3\\envs\\ml01-02\\lib\\site-packages\\sklearn\\linear_model\\_logistic.py:764: ConvergenceWarning: lbfgs failed to converge (status=1):\n",
      "STOP: TOTAL NO. of ITERATIONS REACHED LIMIT.\n",
      "\n",
      "Increase the number of iterations (max_iter) or scale the data as shown in:\n",
      "    https://scikit-learn.org/stable/modules/preprocessing.html\n",
      "Please also refer to the documentation for alternative solver options:\n",
      "    https://scikit-learn.org/stable/modules/linear_model.html#logistic-regression\n",
      "  extra_warning_msg=_LOGISTIC_SOLVER_CONVERGENCE_MSG)\n"
     ]
    }
   ],
   "source": [
    "# 모델 생성, 학습, 예측, 평가\n",
    "\n",
    "lr_clf = LogisticRegression()\n",
    "\n",
    "# 학습\n",
    "lr_clf.fit(X_train, y_train)\n",
    "\n",
    "# 예측\n",
    "pred = lr_clf.predict(X_test)\n",
    "\n",
    "# 평가\n",
    "get_clf_eval(y_test, pred)"
   ]
  },
  {
   "cell_type": "markdown",
   "metadata": {},
   "source": [
    "### 정밀도와 재현율의 트레이드오프"
   ]
  },
  {
   "cell_type": "code",
   "execution_count": 37,
   "metadata": {},
   "outputs": [
    {
     "data": {
      "text/plain": [
       "array([0.85142564, 0.14857436])"
      ]
     },
     "execution_count": 37,
     "metadata": {},
     "output_type": "execute_result"
    }
   ],
   "source": [
    "# 학습한 객체 : lr_clf\n",
    "# 179 X 2 ndarray return\n",
    "pred_proba = lr_clf.predict_proba(X_test)\n",
    "pred_proba[0]"
   ]
  },
  {
   "cell_type": "code",
   "execution_count": 33,
   "metadata": {},
   "outputs": [
    {
     "data": {
      "text/plain": [
       "179"
      ]
     },
     "execution_count": 33,
     "metadata": {},
     "output_type": "execute_result"
    }
   ],
   "source": [
    "len(X_test), "
   ]
  },
  {
   "cell_type": "code",
   "execution_count": 40,
   "metadata": {},
   "outputs": [
    {
     "data": {
      "text/html": [
       "<div>\n",
       "<style scoped>\n",
       "    .dataframe tbody tr th:only-of-type {\n",
       "        vertical-align: middle;\n",
       "    }\n",
       "\n",
       "    .dataframe tbody tr th {\n",
       "        vertical-align: top;\n",
       "    }\n",
       "\n",
       "    .dataframe thead th {\n",
       "        text-align: right;\n",
       "    }\n",
       "</style>\n",
       "<table border=\"1\" class=\"dataframe\">\n",
       "  <thead>\n",
       "    <tr style=\"text-align: right;\">\n",
       "      <th></th>\n",
       "      <th>Pclass</th>\n",
       "      <th>Sex</th>\n",
       "      <th>Age</th>\n",
       "      <th>SibSp</th>\n",
       "      <th>Parch</th>\n",
       "      <th>Fare</th>\n",
       "      <th>Cabin</th>\n",
       "      <th>Embarked</th>\n",
       "    </tr>\n",
       "  </thead>\n",
       "  <tbody>\n",
       "    <tr>\n",
       "      <th>495</th>\n",
       "      <td>3</td>\n",
       "      <td>1</td>\n",
       "      <td>29.699118</td>\n",
       "      <td>0</td>\n",
       "      <td>0</td>\n",
       "      <td>14.4583</td>\n",
       "      <td>7</td>\n",
       "      <td>0</td>\n",
       "    </tr>\n",
       "    <tr>\n",
       "      <th>648</th>\n",
       "      <td>3</td>\n",
       "      <td>1</td>\n",
       "      <td>29.699118</td>\n",
       "      <td>0</td>\n",
       "      <td>0</td>\n",
       "      <td>7.5500</td>\n",
       "      <td>7</td>\n",
       "      <td>3</td>\n",
       "    </tr>\n",
       "  </tbody>\n",
       "</table>\n",
       "</div>"
      ],
      "text/plain": [
       "     Pclass  Sex        Age  SibSp  Parch     Fare  Cabin  Embarked\n",
       "495       3    1  29.699118      0      0  14.4583      7         0\n",
       "648       3    1  29.699118      0      0   7.5500      7         3"
      ]
     },
     "execution_count": 40,
     "metadata": {},
     "output_type": "execute_result"
    }
   ],
   "source": [
    "X_test.head(2)"
   ]
  },
  {
   "cell_type": "code",
   "execution_count": 41,
   "metadata": {},
   "outputs": [
    {
     "data": {
      "text/plain": [
       "array([0.89229418, 0.10770582])"
      ]
     },
     "execution_count": 41,
     "metadata": {},
     "output_type": "execute_result"
    }
   ],
   "source": [
    "pred_proba[1]"
   ]
  },
  {
   "cell_type": "code",
   "execution_count": 42,
   "metadata": {},
   "outputs": [
    {
     "data": {
      "text/plain": [
       "0"
      ]
     },
     "execution_count": 42,
     "metadata": {},
     "output_type": "execute_result"
    }
   ],
   "source": [
    "pred = lr_clf.predict(X_test)\n",
    "pred[1]"
   ]
  },
  {
   "cell_type": "code",
   "execution_count": 44,
   "metadata": {},
   "outputs": [
    {
     "data": {
      "text/plain": [
       "array([[0.85142564, 0.14857436, 0.        ],\n",
       "       [0.89229418, 0.10770582, 0.        ],\n",
       "       [0.93337015, 0.06662985, 0.        ],\n",
       "       [0.05348106, 0.94651894, 1.        ],\n",
       "       [0.31397445, 0.68602555, 1.        ],\n",
       "       [0.48989002, 0.51010998, 1.        ],\n",
       "       [0.082082  , 0.917918  , 1.        ],\n",
       "       [0.06469936, 0.93530064, 1.        ],\n",
       "       [0.41245641, 0.58754359, 1.        ],\n",
       "       [0.29162866, 0.70837134, 1.        ]])"
      ]
     },
     "execution_count": 44,
     "metadata": {},
     "output_type": "execute_result"
    }
   ],
   "source": [
    "pred_proba_result = \\\n",
    "np.concatenate([pred_proba, pred.reshape(-1,1)], axis=1) # pred를 2차원으로 형변환\n",
    "pred_proba_result[0:10]"
   ]
  },
  {
   "cell_type": "code",
   "execution_count": 49,
   "metadata": {},
   "outputs": [
    {
     "data": {
      "text/plain": [
       "array([[0., 0., 1.],\n",
       "       [1., 0., 0.],\n",
       "       [0., 0., 1.]])"
      ]
     },
     "execution_count": 49,
     "metadata": {},
     "output_type": "execute_result"
    }
   ],
   "source": [
    "from sklearn.preprocessing import Binarizer\n",
    "\n",
    "bina = Binarizer(threshold=1.1)\n",
    "X = [\n",
    "      [1, -1, 2]\n",
    "    , [2, 0, 0]\n",
    "    , [0, 1.1, 1.2]\n",
    "]\n",
    "\n",
    "bina.fit_transform(X)"
   ]
  },
  {
   "cell_type": "code",
   "execution_count": 116,
   "metadata": {},
   "outputs": [
    {
     "data": {
      "text/plain": [
       "array([[0.14857436],\n",
       "       [0.10770582],\n",
       "       [0.06662985],\n",
       "       [0.94651894],\n",
       "       [0.68602555]])"
      ]
     },
     "execution_count": 116,
     "metadata": {},
     "output_type": "execute_result"
    }
   ],
   "source": [
    "# 임계값 설정\n",
    "custom_threshold = 0.5\n",
    "\n",
    "# [:, 1] => [행, 열]\n",
    "# 확률값의 두번째 컬럼(Positive) 추출, 2차원 변경\n",
    "pred_proba_1 = pred_proba[:,1].reshape(-1,1)\n",
    "pred_proba_1[:5]"
   ]
  },
  {
   "cell_type": "code",
   "execution_count": 117,
   "metadata": {},
   "outputs": [
    {
     "data": {
      "text/plain": [
       "array([[0.],\n",
       "       [0.],\n",
       "       [0.],\n",
       "       [1.],\n",
       "       [1.]])"
      ]
     },
     "execution_count": 117,
     "metadata": {},
     "output_type": "execute_result"
    }
   ],
   "source": [
    "# 학습\n",
    "bina = Binarizer(threshold=custom_threshold).fit(pred_proba_1)\n",
    "cust_pred = bina.transform(pred_proba_1)\n",
    "cust_pred[:5]"
   ]
  },
  {
   "cell_type": "code",
   "execution_count": 115,
   "metadata": {},
   "outputs": [
    {
     "name": "stdout",
     "output_type": "stream",
     "text": [
      "오차 행렬\n",
      "[[92 18]\n",
      " [16 53]]\n",
      "정확도: 0.8101, 정밀도: 0.7465, 재현율: 0.7681\n"
     ]
    }
   ],
   "source": [
    "get_clf_eval(y_test, cust_pred) # --> csutom_threshold = 0.5"
   ]
  },
  {
   "cell_type": "code",
   "execution_count": 118,
   "metadata": {},
   "outputs": [
    {
     "name": "stdout",
     "output_type": "stream",
     "text": [
      "오차 행렬\n",
      "[[86 24]\n",
      " [13 56]]\n",
      "정확도: 0.7933, 정밀도: 0.7000, 재현율: 0.8116\n"
     ]
    }
   ],
   "source": [
    "get_clf_eval(y_test, cust_pred) # --> csutom_threshold = 0.4"
   ]
  },
  {
   "cell_type": "code",
   "execution_count": 127,
   "metadata": {},
   "outputs": [],
   "source": [
    "\n",
    "def get_eval_by_threshold(y_test, pred_proba_p, thresholds): \n",
    "    '''\n",
    "    y_test : 원래 답\n",
    "    pred_proba_p : 결과 확률값 (_p : paramater 약자)\n",
    "    thresholds : 임계값 리스트\n",
    "    '''\n",
    "    for cust_th in thresholds:\n",
    "        bina = Binarizer(threshold=cust_th).fit(pred_proba_p)\n",
    "        custom_pred = bina.transform(pred_proba_p)\n",
    "        print('현재 임계값: ',cust_th)\n",
    "        get_clf_eval(y_test, custom_pred)\n",
    "    "
   ]
  },
  {
   "cell_type": "code",
   "execution_count": 128,
   "metadata": {},
   "outputs": [
    {
     "name": "stdout",
     "output_type": "stream",
     "text": [
      "현재 임계값:  0.4\n",
      "오차 행렬\n",
      "[[86 24]\n",
      " [13 56]]\n",
      "정확도: 0.7933, 정밀도: 0.7000, 재현율: 0.8116\n",
      "현재 임계값:  0.45\n",
      "오차 행렬\n",
      "[[91 19]\n",
      " [14 55]]\n",
      "정확도: 0.8156, 정밀도: 0.7432, 재현율: 0.7971\n",
      "현재 임계값:  0.5\n",
      "오차 행렬\n",
      "[[92 18]\n",
      " [16 53]]\n",
      "정확도: 0.8101, 정밀도: 0.7465, 재현율: 0.7681\n",
      "현재 임계값:  0.55\n",
      "오차 행렬\n",
      "[[97 13]\n",
      " [18 51]]\n",
      "정확도: 0.8268, 정밀도: 0.7969, 재현율: 0.7391\n",
      "현재 임계값:  0.6\n",
      "오차 행렬\n",
      "[[99 11]\n",
      " [25 44]]\n",
      "정확도: 0.7989, 정밀도: 0.8000, 재현율: 0.6377\n"
     ]
    }
   ],
   "source": [
    "# 테스트를 수행할 임계값을 리스트 객체로 저장\n",
    "thresholds = [0.4, 0.45, 0.50, 0.55, 0.60]\n",
    "pred_proba_2 = pred_proba[:,1].reshape(-1,1)\n",
    "\n",
    "get_eval_by_threshold(y_test, pred_proba_2, thresholds)"
   ]
  },
  {
   "cell_type": "code",
   "execution_count": 129,
   "metadata": {},
   "outputs": [
    {
     "name": "stdout",
     "output_type": "stream",
     "text": [
      "\n"
     ]
    }
   ],
   "source": [
    "from sklearn.metrics import precision_recall_curve\n",
    "\n",
    "# 답이 1일 때의 예측 확률 추출\n",
    "pred_proba_v = lr_clf.predict_proba(X_test)[:,1] # _v: 파라미터에 들어갈 값\n",
    "\n",
    "# 테스트데이터 답(y_test). 예측확률(pred_proba_v) \n",
    "precisions, recalls, threshold = \\\n",
    "precision_recall_curve(y_test, pred_proba_v)\n",
    "\n",
    "print('')"
   ]
  },
  {
   "cell_type": "code",
   "execution_count": 133,
   "metadata": {},
   "outputs": [
    {
     "data": {
      "text/plain": [
       "(179, 166)"
      ]
     },
     "execution_count": 133,
     "metadata": {},
     "output_type": "execute_result"
    }
   ],
   "source": [
    "len(y_test), len(threshold)"
   ]
  },
  {
   "cell_type": "code",
   "execution_count": 134,
   "metadata": {},
   "outputs": [
    {
     "data": {
      "text/plain": [
       "array([0.05937726, 0.06360873, 0.06662985, 0.06770014, 0.06950361,\n",
       "       0.07116453, 0.07189634, 0.07727082, 0.08397176, 0.0857783 ,\n",
       "       0.08710084, 0.08768968, 0.09058058, 0.09101737, 0.09490962,\n",
       "       0.09582164, 0.09858198, 0.10051464, 0.10487888, 0.10742515,\n",
       "       0.10766493, 0.10770582, 0.10775296, 0.10777399, 0.10785755,\n",
       "       0.10865679, 0.10971084, 0.1106678 , 0.11121246, 0.1145612 ,\n",
       "       0.11523111, 0.11977769, 0.11977956, 0.11988551, 0.12869493,\n",
       "       0.1305244 , 0.13129273, 0.13208118, 0.13374513, 0.13881138,\n",
       "       0.13904395, 0.14315469, 0.14403469, 0.1472813 , 0.14728205,\n",
       "       0.14799957, 0.14857436, 0.14947681, 0.15515388, 0.15721964,\n",
       "       0.16015094, 0.1607417 , 0.16077121, 0.16806742, 0.16921228,\n",
       "       0.1711954 , 0.17286985, 0.17457682, 0.17789078, 0.17893538,\n",
       "       0.1912009 , 0.19400222, 0.20221132, 0.20465083, 0.20783882,\n",
       "       0.22349982, 0.22848033, 0.22944565, 0.2364304 , 0.2367531 ,\n",
       "       0.24438626, 0.2450416 , 0.24731894, 0.26065423, 0.26974423,\n",
       "       0.28110059, 0.28705893, 0.28836051, 0.30220933, 0.31292509,\n",
       "       0.31850747, 0.33262969, 0.33927409, 0.35767471, 0.36218787,\n",
       "       0.37726897, 0.40719895, 0.41126561, 0.41225361, 0.42380831,\n",
       "       0.43024804, 0.43419453, 0.4612719 , 0.46255814, 0.49463867,\n",
       "       0.51010998, 0.51188196, 0.51458855, 0.5265269 , 0.52939959,\n",
       "       0.53889151, 0.54103252, 0.55412749, 0.56422493, 0.56586291,\n",
       "       0.5704565 , 0.58312194, 0.58754359, 0.589335  , 0.59665751,\n",
       "       0.59822597, 0.60335568, 0.62321389, 0.62713393, 0.62789334,\n",
       "       0.62945591, 0.63140674, 0.63539468, 0.63795129, 0.64558804,\n",
       "       0.65013777, 0.65679572, 0.68496341, 0.68602555, 0.7029376 ,\n",
       "       0.70355546, 0.70837134, 0.73127002, 0.73575489, 0.75986065,\n",
       "       0.76028397, 0.7696456 , 0.78391032, 0.78820523, 0.79172032,\n",
       "       0.79875368, 0.8135823 , 0.82021952, 0.82029271, 0.82426127,\n",
       "       0.83095195, 0.83296861, 0.83303582, 0.85623791, 0.8907364 ,\n",
       "       0.89431589, 0.89614967, 0.89923464, 0.90845655, 0.91275659,\n",
       "       0.91292095, 0.91298646, 0.917918  , 0.92076639, 0.92150679,\n",
       "       0.9231599 , 0.93387977, 0.93530064, 0.94555434, 0.94651894,\n",
       "       0.94693178, 0.95255723, 0.95543043, 0.96104699, 0.96653191,\n",
       "       0.9686732 ])"
      ]
     },
     "execution_count": 134,
     "metadata": {},
     "output_type": "execute_result"
    }
   ],
   "source": [
    "threshold"
   ]
  },
  {
   "cell_type": "code",
   "execution_count": 136,
   "metadata": {},
   "outputs": [
    {
     "data": {
      "text/plain": [
       "array([  0,  16,  32,  48,  64,  80,  96, 112, 128, 144, 160])"
      ]
     },
     "execution_count": 136,
     "metadata": {},
     "output_type": "execute_result"
    }
   ],
   "source": [
    "# 반환된 임계값 : 166 => 10건 추출\n",
    "thr_index = np.arange(0, threshold.shape[0], 16)\n",
    "thr_index"
   ]
  },
  {
   "cell_type": "code",
   "execution_count": 137,
   "metadata": {},
   "outputs": [
    {
     "data": {
      "text/plain": [
       "array([0.39884393, 0.42038217, 0.47058824, 0.53781513, 0.61764706,\n",
       "       0.6744186 , 0.74285714, 0.81481481, 0.89473684, 1.        ,\n",
       "       1.        ])"
      ]
     },
     "execution_count": 137,
     "metadata": {},
     "output_type": "execute_result"
    }
   ],
   "source": [
    "precisions[thr_index]"
   ]
  },
  {
   "cell_type": "code",
   "execution_count": 138,
   "metadata": {},
   "outputs": [
    {
     "data": {
      "text/plain": [
       "array([1.        , 0.95652174, 0.92753623, 0.92753623, 0.91304348,\n",
       "       0.84057971, 0.75362319, 0.63768116, 0.49275362, 0.31884058,\n",
       "       0.08695652])"
      ]
     },
     "execution_count": 138,
     "metadata": {},
     "output_type": "execute_result"
    }
   ],
   "source": [
    "recalls[thr_index]"
   ]
  },
  {
   "cell_type": "code",
   "execution_count": null,
   "metadata": {},
   "outputs": [],
   "source": []
  },
  {
   "cell_type": "code",
   "execution_count": 139,
   "metadata": {},
   "outputs": [],
   "source": [
    "import matplotlib.pyplot as plt\n",
    "import matplotlib.ticker as ticker # 좌표 축 눈금 표시\n",
    "%matplotlib inline"
   ]
  },
  {
   "cell_type": "code",
   "execution_count": 155,
   "metadata": {},
   "outputs": [],
   "source": [
    "# precision_recall_curve 함수 : 시각화\n",
    "def precision_recall_curve_plot(y_test, pred_proba_p):\n",
    "    # 테스트데이터 답(y_test). 예측확률(pred_proba_v) \n",
    "    precisions, recalls, thresholds = \\\n",
    "    precision_recall_curve(y_test, pred_proba_p)\n",
    "    \n",
    "    # X축 : threshold값, y축 : 정밀도, 재현율\n",
    "    # 정밀도는 점선으로 표시\n",
    "    plt.figure(figsize=(8,6))\n",
    "    threshold_boundary = thresholds.shape[0]\n",
    "    \n",
    "    #정밀도\n",
    "    plt.plot(\n",
    "          thresholds                               # X축에 들어갈 값 : 임계값\n",
    "        , precisions[0:threshold_boundary]         # Y축에 들어갈 값\n",
    "        , linestyle='--'                           # 점선\n",
    "        , label = 'precision'                      # 범례\n",
    "    )\n",
    "    \n",
    "    #재현율\n",
    "    plt.plot(\n",
    "          thresholds\n",
    "        , recalls[0:threshold_boundary]\n",
    "        , label = 'recall'\n",
    "    )\n",
    "    \n",
    "    # threshold값 X축 Scale을 0.1단위로 변경\n",
    "    start, end = plt.xlim()\n",
    "    print(start, end)\n",
    "    plt.xticks(np.round(np.arange(start, end, 0.1), 2))\n",
    "    \n",
    "    # X축, Y축 label과 legend, 그리고 grid 설정\n",
    "    plt.xlabel('Threshold Value')\n",
    "    plt.ylabel('Precision and Recall Value')\n",
    "    plt.legend()\n",
    "    plt.grid()\n",
    "    plt.show()"
   ]
  },
  {
   "cell_type": "code",
   "execution_count": 156,
   "metadata": {},
   "outputs": [
    {
     "name": "stdout",
     "output_type": "stream",
     "text": [
      "0.013912464647185957 1.0141379927459824\n"
     ]
    },
    {
     "data": {
      "image/png": "[encoded data removed]",
      "text/plain": [
       "<Figure size 576x432 with 1 Axes>"
      ]
     },
     "metadata": {
      "needs_background": "light"
     },
     "output_type": "display_data"
    }
   ],
   "source": [
    "precision_recall_curve_plot(y_test, lr_clf.predict_proba(X_test)[:, 1])"
   ]
  },
  {
   "cell_type": "markdown",
   "metadata": {},
   "source": [
    "### F1 Score"
   ]
  },
  {
   "cell_type": "code",
   "execution_count": 157,
   "metadata": {},
   "outputs": [
    {
     "name": "stdout",
     "output_type": "stream",
     "text": [
      "F1 스코어: 0.7571\n"
     ]
    }
   ],
   "source": [
    "from sklearn.metrics import f1_score\n",
    "f1 = f1_score(y_test, pred)\n",
    "print('F1 스코어: {0:.4f}'.format(f1))"
   ]
  },
  {
   "cell_type": "code",
   "execution_count": 159,
   "metadata": {},
   "outputs": [],
   "source": [
    "# 오차행렬, 정밀도, 재현율 \n",
    "def get_clf_eval(y_test, pred):\n",
    "    confusion = confusion_matrix(y_test, pred) # 오차 행렬\n",
    "    accu = accuracy_score(y_test, pred) # 정확도\n",
    "    precision = precision_score(y_test, pred) # 정밀도\n",
    "    recall = recall_score(y_test, pred) # 재현율\n",
    "    f1 = f1_score(y_test, pred) # F1 Score\n",
    "    \n",
    "    print('오차 행렬')\n",
    "    print(confusion)\n",
    "    result = '정확도: {0:.4f}, 정밀도: {1:.4f}, 재현율: {2:.4f}, F1 스코어:{3:.4f}'\n",
    "    print(result.format(accu, precision, recall,f1))"
   ]
  },
  {
   "cell_type": "code",
   "execution_count": 161,
   "metadata": {},
   "outputs": [
    {
     "name": "stdout",
     "output_type": "stream",
     "text": [
      "현재 임계값:  0.4\n",
      "오차 행렬\n",
      "[[86 24]\n",
      " [13 56]]\n",
      "정확도: 0.7933, 정밀도: 0.7000, 재현율: 0.8116, F1 스코어:0.7517\n",
      "현재 임계값:  0.45\n",
      "오차 행렬\n",
      "[[91 19]\n",
      " [14 55]]\n",
      "정확도: 0.8156, 정밀도: 0.7432, 재현율: 0.7971, F1 스코어:0.7692\n",
      "현재 임계값:  0.5\n",
      "오차 행렬\n",
      "[[92 18]\n",
      " [16 53]]\n",
      "정확도: 0.8101, 정밀도: 0.7465, 재현율: 0.7681, F1 스코어:0.7571\n",
      "현재 임계값:  0.55\n",
      "오차 행렬\n",
      "[[97 13]\n",
      " [18 51]]\n",
      "정확도: 0.8268, 정밀도: 0.7969, 재현율: 0.7391, F1 스코어:0.7669\n",
      "현재 임계값:  0.6\n",
      "오차 행렬\n",
      "[[99 11]\n",
      " [25 44]]\n",
      "정확도: 0.7989, 정밀도: 0.8000, 재현율: 0.6377, F1 스코어:0.7097\n"
     ]
    }
   ],
   "source": [
    "thresholds = [0.4, 0.45, 0.50, 0.55, 0.60]\n",
    "pred_proba = lr_clf.predict_proba(X_test)[:,1].reshape(-1,1)\n",
    "\n",
    "get_eval_by_threshold(y_test, pred_proba, thresholds)"
   ]
  },
  {
   "cell_type": "markdown",
   "metadata": {},
   "source": [
    "## 평가 지표 우선순위 (통상상황)\n",
    "\n",
    "1. 정확도\n",
    "2. f1 score\n",
    "3. 정밀도, 재현율"
   ]
  },
  {
   "cell_type": "markdown",
   "metadata": {},
   "source": [
    "### 성능 평가 지표 : ROC Curve & AUC score\n",
    "- ROC Curve : roc_curve()"
   ]
  },
  {
   "cell_type": "code",
   "execution_count": 162,
   "metadata": {},
   "outputs": [],
   "source": [
    "from sklearn.metrics import roc_curve"
   ]
  },
  {
   "cell_type": "code",
   "execution_count": 165,
   "metadata": {},
   "outputs": [],
   "source": [
    "# 1의 예측 확률\n",
    "pred_proba_v = lr_clf.predict_proba(X_test)[:,1]\n",
    "\n",
    "fprs, tprs, thresholds = \\ # FP Ratios / TP Ratios / 임계값\n",
    "roc_curve(\n",
    "      y_test\n",
    "    , pred_proba_v\n",
    ")"
   ]
  },
  {
   "cell_type": "code",
   "execution_count": 166,
   "metadata": {},
   "outputs": [
    {
     "data": {
      "text/plain": [
       "52"
      ]
     },
     "execution_count": 166,
     "metadata": {},
     "output_type": "execute_result"
    }
   ],
   "source": [
    "len(thresholds)"
   ]
  },
  {
   "cell_type": "code",
   "execution_count": 170,
   "metadata": {},
   "outputs": [],
   "source": [
    "# ROC Curve Chart function\n",
    "def roc_curve_plot(y_test, pred_proba_p):\n",
    "    fprs, tprs, thresholds = \\\n",
    "    roc_curve(y_test, pred_proba_p)\n",
    "    \n",
    "    plt.plot(fprs,tprs, label='ROC')\n",
    "    plt.grid()\n",
    "    plt.show()"
   ]
  },
  {
   "cell_type": "code",
   "execution_count": 172,
   "metadata": {},
   "outputs": [
    {
     "data": {
      "image/png": "[encoded data removed]",
      "text/plain": [
       "<Figure size 432x288 with 1 Axes>"
      ]
     },
     "metadata": {
      "needs_background": "light"
     },
     "output_type": "display_data"
    }
   ],
   "source": [
    "roc_curve_plot(y_test, pred_proba_v)"
   ]
  },
  {
   "cell_type": "code",
   "execution_count": 173,
   "metadata": {},
   "outputs": [
    {
     "name": "stdout",
     "output_type": "stream",
     "text": [
      "ROC AUC Score: 0.8022\n"
     ]
    }
   ],
   "source": [
    "# AUC\n",
    "from sklearn.metrics import roc_auc_score\n",
    "\n",
    "pred = lr_clf.predict(X_test)\n",
    "roc_score = roc_auc_score(y_test, pred)\n",
    "print('ROC AUC Score: {0:.4f}'.format(roc_score))"
   ]
  },
  {
   "cell_type": "code",
   "execution_count": null,
   "metadata": {},
   "outputs": [],
   "source": [
    " "
   ]
  }
 ],
 "metadata": {
  "kernelspec": {
   "display_name": "ml01-02",
   "language": "python",
   "name": "ml01-02"
  },
  "language_info": {
   "codemirror_mode": {
    "name": "ipython",
    "version": 3
   },
   "file_extension": ".py",
   "mimetype": "text/x-python",
   "name": "python",
   "nbconvert_exporter": "python",
   "pygments_lexer": "ipython3",
   "version": "3.7.7"
  }
 },
 "nbformat": 4,
 "nbformat_minor": 4
}
