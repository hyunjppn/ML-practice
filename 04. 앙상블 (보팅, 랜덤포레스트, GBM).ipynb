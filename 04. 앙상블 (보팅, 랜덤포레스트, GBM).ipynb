{
 "cells": [
  {
   "cell_type": "markdown",
   "metadata": {},
   "source": [
    "### Voting Classifier\n",
    "- 다른 알고리즘 적용\n",
    "- 다수결로 예측"
   ]
  },
  {
   "cell_type": "code",
   "execution_count": 2,
   "metadata": {},
   "outputs": [],
   "source": [
    "import numpy as np\n",
    "import pandas as pd\n",
    "\n",
    "from sklearn.ensemble import VotingClassifier\n",
    "from sklearn.linear_model import LogisticRegression\n",
    "from sklearn.neighbors import KNeighborsClassifier\n",
    "from sklearn.datasets import load_breast_cancer\n",
    "from sklearn.model_selection import train_test_split\n",
    "from sklearn.metrics import accuracy_score"
   ]
  },
  {
   "cell_type": "code",
   "execution_count": 19,
   "metadata": {},
   "outputs": [],
   "source": [
    "# 데이터 로딩\n",
    "cancer = load_breast_cancer() # 내장 데이터들은 형식이 모두 동일\n",
    "\n",
    "data_df = pd.DataFrame(\n",
    "      cancer.data\n",
    "    , columns=cancer.feature_names\n",
    ")"
   ]
  },
  {
   "cell_type": "code",
   "execution_count": null,
   "metadata": {},
   "outputs": [],
   "source": [
    "# 항상 데이터프레임의 정보는 확인해주자\n",
    "data_df.info()"
   ]
  },
  {
   "cell_type": "code",
   "execution_count": 8,
   "metadata": {},
   "outputs": [],
   "source": [
    "# 데이터 분리\n",
    "X_train, X_test, y_train, y_test = \\\n",
    "train_test_split(\n",
    "      cancer.data\n",
    "    , cancer.target\n",
    "    , test_size=0.2\n",
    "    , random_state=156\n",
    ")"
   ]
  },
  {
   "cell_type": "code",
   "execution_count": 16,
   "metadata": {},
   "outputs": [],
   "source": [
    "# 모델 객체 생성\n",
    "lr_clf = LogisticRegression(max_iter=10000)\n",
    "knn_clf = KNeighborsClassifier(n_neighbors=8)\n",
    "\n",
    "# Voting 객체 생성\n",
    "vo_clf = VotingClassifier(\n",
    "       #  [(내부이름, 모델객체),(내부이름, 모델객체)]\n",
    "      estimators=[('LR',lr_clf),('KNN',knn_clf)] # 1. 사용할 알고리즘(모델)\n",
    "    , voting='soft'# 2. 보팅 방식(Hard, Soft)\n",
    ")"
   ]
  },
  {
   "cell_type": "code",
   "execution_count": 17,
   "metadata": {},
   "outputs": [
    {
     "data": {
      "text/plain": [
       "0.9473684210526315"
      ]
     },
     "execution_count": 17,
     "metadata": {},
     "output_type": "execute_result"
    }
   ],
   "source": [
    "# 학습, 예측, 성능 평가(정확도)\n",
    "vo_clf.fit(X_train, y_train)\n",
    "\n",
    "pred = vo_clf.predict(X_test)\n",
    "accu = accuracy_score(y_test, pred)\n",
    "accu"
   ]
  },
  {
   "cell_type": "code",
   "execution_count": 13,
   "metadata": {},
   "outputs": [
    {
     "data": {
      "text/plain": [
       "1    280\n",
       "0    175\n",
       "dtype: int64"
      ]
     },
     "execution_count": 13,
     "metadata": {},
     "output_type": "execute_result"
    }
   ],
   "source": [
    "sr_y_train = pd.Series(y_train)\n",
    "sr_y_train.value_counts()"
   ]
  },
  {
   "cell_type": "code",
   "execution_count": 18,
   "metadata": {},
   "outputs": [
    {
     "name": "stdout",
     "output_type": "stream",
     "text": [
      "LogisticRegression 정확도 : 0.9649\n",
      "KNeighborsClassifier 정확도 : 0.9386\n"
     ]
    }
   ],
   "source": [
    "clf_obj = [lr_clf, knn_clf]\n",
    "for clf in clf_obj:\n",
    "    clf.fit(X_train, y_train)\n",
    "    pred = clf.predict(X_test)\n",
    "    accu = accuracy_score(y_test, pred)\n",
    "    class_name = clf.__class__.__name__\n",
    "    print('{0} 정확도 : {1:.4f}'.format(class_name, accu))"
   ]
  },
  {
   "cell_type": "markdown",
   "metadata": {},
   "source": [
    "### Random Forest"
   ]
  },
  {
   "cell_type": "code",
   "execution_count": 3,
   "metadata": {},
   "outputs": [],
   "source": [
    "import numpy as np\n",
    "import pandas as pd\n",
    "\n",
    "from sklearn.ensemble import RandomForestClassifier\n",
    "from sklearn.metrics import accuracy_score\n",
    "\n",
    "import warnings\n",
    "warnings.filterwarnings('ignore')"
   ]
  },
  {
   "cell_type": "code",
   "execution_count": 11,
   "metadata": {},
   "outputs": [],
   "source": [
    "# HAR 데이터셋을 가져오는 function\n",
    "def get_human_dataset():\n",
    "    # 피처명\n",
    "    feature_name_df = \\\n",
    "    pd.read_csv(\n",
    "          './data/UCI HAR Dataset/features.txt'\n",
    "        , sep='\\s+'\n",
    "        , header=None\n",
    "        , names=['column_index', 'column_name']\n",
    "    )\n",
    "    \n",
    "    # 피쳐명 추출\n",
    "    feature_name = feature_name_df.iloc[:,1].values.tolist() # ndarray 를 list로 변환\n",
    "    \n",
    "    X_train = pd.read_csv(\n",
    "          './data/UCI HAR Dataset/train/X_train.txt'\n",
    "        , sep='\\s+'\n",
    "        , header=None\n",
    "#         , names=feature_name # 컬럼명 지정 -- ndarray 형식은 들어갈 수 없음!!!\n",
    "    )\n",
    "    \n",
    "    X_test = pd.read_csv(\n",
    "          './data/UCI HAR Dataset/test/X_test.txt'\n",
    "        , sep='\\s+'\n",
    "        , header=None\n",
    "#         , names=feature_name\n",
    "    )\n",
    "    \n",
    "    y_train = pd.read_csv(\n",
    "          './data/UCI HAR Dataset/train/y_train.txt'\n",
    "        , sep='\\s+'\n",
    "        , header=None\n",
    "        , names=['action']\n",
    "    )\n",
    "    \n",
    "    y_test = pd.read_csv(\n",
    "          './data/UCI HAR Dataset/test/y_test.txt'\n",
    "        , sep='\\s+'\n",
    "        , header=None\n",
    "        , names=['action']\n",
    "    )\n",
    "    \n",
    "    return X_train, X_test, y_train, y_test, feature_name"
   ]
  },
  {
   "cell_type": "code",
   "execution_count": 12,
   "metadata": {},
   "outputs": [],
   "source": [
    "X_train, X_test, y_train, y_test, feature_name = get_human_dataset()"
   ]
  },
  {
   "cell_type": "code",
   "execution_count": 17,
   "metadata": {},
   "outputs": [],
   "source": [
    "X_train.columns = feature_name\n",
    "X_test.columns = feature_name"
   ]
  },
  {
   "cell_type": "code",
   "execution_count": 16,
   "metadata": {},
   "outputs": [
    {
     "name": "stdout",
     "output_type": "stream",
     "text": [
      "<class 'pandas.core.frame.DataFrame'>\n",
      "RangeIndex: 7352 entries, 0 to 7351\n",
      "Columns: 561 entries, tBodyAcc-mean()-X to angle(Z,gravityMean)\n",
      "dtypes: float64(561)\n",
      "memory usage: 31.5 MB\n"
     ]
    }
   ],
   "source": [
    "X_train.info()"
   ]
  },
  {
   "cell_type": "code",
   "execution_count": 20,
   "metadata": {},
   "outputs": [
    {
     "name": "stdout",
     "output_type": "stream",
     "text": [
      "랜덤 포레스트 정확도 : 0.9253\n"
     ]
    }
   ],
   "source": [
    "# 모델 객체 생성\n",
    "rf_clf = RandomForestClassifier(random_state=0)\n",
    "\n",
    "# 학습\n",
    "rf_clf.fit(X_train,y_train)\n",
    "\n",
    "# 예측값\n",
    "pred = rf_clf.predict(X_test)\n",
    "\n",
    "# 성능 평가\n",
    "accu = accuracy_score(y_test, pred)\n",
    "\n",
    "# 성능 출력\n",
    "print('랜덤 포레스트 정확도 : {0:.4f}'.format(accu))"
   ]
  },
  {
   "cell_type": "code",
   "execution_count": 21,
   "metadata": {},
   "outputs": [],
   "source": [
    "# GridSearchCV : 베스트 파라미터 추출\n",
    "from sklearn.model_selection import GridSearchCV\n",
    "\n",
    "params = {\n",
    "      'n_estimators' : [100] # default : 10\n",
    "    , 'max_depth' : [6,8,10,12] # 가지치기 => overfitting 방지\n",
    "    , 'min_samples_leaf' : [8,12,18] # 가지치기 => overfitting 방지\n",
    "    , 'min_samples_split' : [8,16,20] # 가지치기 => overfitting 방지\n",
    "}\n",
    "\n",
    "# 랜덤 포레스트 객체 생성\n",
    "rf_clf = RandomForestClassifier(\n",
    "      random_state=0\n",
    "    , n_jobs=-1 # 전체 코어 사용 (병렬처리)\n",
    ")\n",
    "\n",
    "# GridSearchCV 객체 생성\n",
    "grid_cv = GridSearchCV(\n",
    "      rf_clf # 적용할 알고리즘(모델)\n",
    "    , param_grid=params # 적용할 하이퍼 파라미터\n",
    "    , cv=2 # 교차 검증할 데이터 셋\n",
    "    , n_jobs=-1 # 전체 코어 사용 (병렬처리)\n",
    ")"
   ]
  },
  {
   "cell_type": "code",
   "execution_count": 22,
   "metadata": {},
   "outputs": [
    {
     "data": {
      "text/plain": [
       "GridSearchCV(cv=2, estimator=RandomForestClassifier(n_jobs=-1, random_state=0),\n",
       "             n_jobs=-1,\n",
       "             param_grid={'max_depth': [6, 8, 10, 12],\n",
       "                         'min_samples_leaf': [8, 12, 18],\n",
       "                         'min_samples_split': [8, 16, 20],\n",
       "                         'n_estimators': [100]})"
      ]
     },
     "execution_count": 22,
     "metadata": {},
     "output_type": "execute_result"
    }
   ],
   "source": [
    "# 학습\n",
    "grid_cv.fit(X_train,y_train)"
   ]
  },
  {
   "cell_type": "code",
   "execution_count": 23,
   "metadata": {},
   "outputs": [
    {
     "data": {
      "text/plain": [
       "{'max_depth': 10,\n",
       " 'min_samples_leaf': 8,\n",
       " 'min_samples_split': 8,\n",
       " 'n_estimators': 100}"
      ]
     },
     "execution_count": 23,
     "metadata": {},
     "output_type": "execute_result"
    }
   ],
   "source": [
    "# Best parameter\n",
    "grid_cv.best_params_"
   ]
  },
  {
   "cell_type": "code",
   "execution_count": 24,
   "metadata": {},
   "outputs": [
    {
     "data": {
      "text/plain": [
       "0.9179815016322089"
      ]
     },
     "execution_count": 24,
     "metadata": {},
     "output_type": "execute_result"
    }
   ],
   "source": [
    "# Best Score\n",
    "grid_cv.best_score_"
   ]
  },
  {
   "cell_type": "code",
   "execution_count": 26,
   "metadata": {},
   "outputs": [
    {
     "data": {
      "text/plain": [
       "RandomForestClassifier(max_depth=10, min_samples_leaf=8, min_samples_split=8,\n",
       "                       n_estimators=300, random_state=0)"
      ]
     },
     "execution_count": 26,
     "metadata": {},
     "output_type": "execute_result"
    }
   ],
   "source": [
    "# 확장\n",
    "\n",
    "rf_clf1 = RandomForestClassifier(\n",
    "      n_estimators=300\n",
    "    , max_depth=10\n",
    "    , min_samples_leaf=8\n",
    "    , min_samples_split=8\n",
    "    , random_state=0\n",
    ")\n",
    "rf_clf1.fit(X_train,y_train)"
   ]
  },
  {
   "cell_type": "code",
   "execution_count": 27,
   "metadata": {},
   "outputs": [
    {
     "name": "stdout",
     "output_type": "stream",
     "text": [
      "앙상블 랜덤 포레스트 정확도 : 0.9165\n"
     ]
    }
   ],
   "source": [
    "pred = rf_clf1.predict(X_test)\n",
    "\n",
    "accu = accuracy_score(y_test, pred)\n",
    "print('앙상블 랜덤 포레스트 정확도 : {0:.4f}'.format(accu))"
   ]
  },
  {
   "cell_type": "code",
   "execution_count": 28,
   "metadata": {},
   "outputs": [],
   "source": [
    "# 피처 중요도 출력 : 561개 피처 -> TOP20\n",
    "import matplotlib.pyplot as plt\n",
    "import seaborn as sns\n",
    "%matplotlib inline"
   ]
  },
  {
   "cell_type": "code",
   "execution_count": 29,
   "metadata": {},
   "outputs": [
    {
     "data": {
      "text/plain": [
       "numpy.ndarray"
      ]
     },
     "execution_count": 29,
     "metadata": {},
     "output_type": "execute_result"
    }
   ],
   "source": [
    "# 피처 중요도 추출 - 학습한 객체\n",
    "type(rf_clf1.feature_importances_)"
   ]
  },
  {
   "cell_type": "code",
   "execution_count": 34,
   "metadata": {},
   "outputs": [
    {
     "data": {
      "text/plain": [
       "array([7.66830533e-05, 1.55108248e-04, 7.50074368e-05, 7.17884758e-03,\n",
       "       1.96620961e-04, 2.06442129e-04, 3.22956324e-03, 3.21980543e-04,\n",
       "       2.28984098e-04, 9.04272891e-03, 1.32616538e-04, 1.32368212e-04,\n",
       "       2.94703130e-04, 1.18378751e-04, 1.23486918e-04, 4.90144138e-04,\n",
       "       4.77627555e-03, 2.65853003e-04, 2.81876566e-04, 1.95515407e-03,\n",
       "       1.86928745e-04, 1.74392628e-04, 1.22782025e-03, 9.37013684e-05,\n",
       "       2.16185561e-04, 1.06768642e-04, 4.82331868e-05, 5.25599737e-05,\n",
       "       8.96993733e-05, 1.10738368e-04, 4.60237122e-05, 4.03838481e-05,\n",
       "       1.07309054e-04, 6.50333000e-05, 5.51415166e-05, 5.16006595e-05,\n",
       "       8.60156938e-05, 5.77401271e-03, 7.61995014e-04, 2.65217763e-03,\n",
       "       2.71256255e-02, 3.09859024e-02, 9.26969485e-03, 2.13319991e-03,\n",
       "       1.17409402e-03, 2.66265583e-04, 1.40499009e-03, 1.03313224e-03,\n",
       "       2.48777608e-04, 2.76484181e-02, 2.45522042e-02, 1.23520886e-02,\n",
       "       3.24873637e-02, 2.91880885e-02, 8.58912448e-03, 4.64208742e-03,\n",
       "       2.82186410e-02, 1.56632893e-02, 7.11298773e-03, 7.43800927e-04,\n",
       "       6.61611467e-04, 2.15085432e-04, 2.15025104e-03, 8.44091425e-03,\n",
       "       4.51445591e-04, 5.86620976e-03, 4.87340242e-03, 5.46973451e-03,\n",
       "       3.16972613e-03, 1.01402387e-02, 6.71230304e-03, 6.50053939e-03,\n",
       "       4.22173442e-03, 9.10965925e-03, 1.16228220e-02, 7.40885298e-03,\n",
       "       5.70029345e-03, 2.30162240e-03, 6.58573559e-04, 1.56962332e-03,\n",
       "       1.26251388e-05, 2.33721439e-05, 4.08876468e-05, 6.33039954e-03,\n",
       "       4.06109225e-03, 1.08382254e-03, 6.06480414e-03, 2.78304937e-03,\n",
       "       3.60723547e-04, 2.59536258e-03, 8.68511898e-04, 6.80452460e-04,\n",
       "       2.76158311e-04, 8.53992056e-04, 1.69995667e-04, 2.49680847e-03,\n",
       "       5.86542664e-03, 1.94990656e-03, 1.13753905e-03, 5.31942112e-03,\n",
       "       3.11826332e-03, 8.95731159e-04, 7.85202185e-03, 3.02019022e-03,\n",
       "       1.84805513e-03, 1.10859330e-04, 5.41589704e-05, 8.35415639e-05,\n",
       "       1.06553347e-04, 6.06168664e-05, 6.59763904e-05, 3.29308059e-05,\n",
       "       1.31453780e-04, 7.80738900e-05, 5.41864313e-05, 9.01865994e-05,\n",
       "       1.00268243e-04, 9.01311635e-04, 2.71360118e-04, 2.84706797e-04,\n",
       "       7.22739459e-04, 2.71122311e-04, 3.46719021e-04, 2.27179571e-03,\n",
       "       4.85349024e-04, 5.02944954e-04, 2.80801231e-03, 1.93097150e-03,\n",
       "       7.95036136e-04, 2.72993305e-03, 1.30798355e-04, 2.54127990e-04,\n",
       "       1.72548104e-03, 1.50588507e-04, 1.60066194e-04, 9.02460897e-04,\n",
       "       1.33839968e-03, 3.68434084e-04, 8.46933339e-04, 3.67747874e-03,\n",
       "       1.28957788e-03, 7.31168631e-04, 1.40196655e-03, 2.12021971e-04,\n",
       "       3.81912288e-04, 9.44436563e-04, 6.34956298e-05, 6.61157095e-05,\n",
       "       1.91769549e-04, 3.36390885e-04, 1.60260476e-04, 4.22253916e-05,\n",
       "       1.01905490e-04, 4.77945305e-05, 5.99657553e-05, 4.61458500e-05,\n",
       "       1.73202567e-04, 5.87955248e-04, 7.53136049e-04, 1.84423609e-03,\n",
       "       1.61064456e-04, 8.44433131e-05, 2.63815954e-04, 1.45363229e-03,\n",
       "       1.13433651e-03, 1.03353126e-03, 1.93623975e-03, 2.34440109e-04,\n",
       "       3.95928600e-03, 5.97069002e-04, 2.23586540e-04, 2.17728303e-04,\n",
       "       9.74405784e-04, 1.96574017e-04, 1.84698765e-04, 1.06399505e-03,\n",
       "       1.14601866e-03, 2.91049399e-04, 2.73540535e-03, 2.00278808e-03,\n",
       "       8.67339613e-04, 4.60909718e-03, 5.52694623e-04, 1.42583315e-04,\n",
       "       2.45926246e-03, 1.04294552e-03, 2.11645196e-04, 3.73965976e-04,\n",
       "       5.76685595e-05, 2.32749430e-04, 6.29762207e-05, 4.85101908e-05,\n",
       "       1.12273140e-04, 8.37479632e-05, 8.10443981e-05, 9.70493627e-05,\n",
       "       1.44311276e-04, 7.30120221e-04, 4.30160701e-04, 4.29903386e-04,\n",
       "       7.97964925e-04, 8.42565694e-03, 7.58080549e-03, 2.47106356e-03,\n",
       "       4.80571684e-05, 1.67249977e-03, 1.96811336e-03, 5.18530061e-04,\n",
       "       9.94264984e-05, 6.15845536e-03, 2.28171374e-03, 9.98560840e-05,\n",
       "       6.53389744e-05, 6.62181514e-04, 7.48126765e-03, 7.29149400e-03,\n",
       "       3.05234569e-03, 4.71442498e-05, 1.29194660e-03, 1.67484938e-03,\n",
       "       6.67738075e-04, 1.19767505e-04, 5.58585205e-03, 1.12311961e-03,\n",
       "       5.60865250e-05, 7.73476030e-05, 6.08305649e-03, 2.85365038e-03,\n",
       "       2.83429977e-03, 6.12718149e-05, 3.65821876e-05, 6.83089167e-03,\n",
       "       1.11025061e-03, 3.09042854e-03, 4.84486014e-03, 6.92969791e-05,\n",
       "       8.57415889e-05, 5.46155892e-05, 8.95742223e-05, 2.29597299e-04,\n",
       "       3.43536638e-04, 1.27496999e-04, 2.42886065e-04, 1.54752774e-04,\n",
       "       2.11860898e-04, 2.78736729e-04, 1.34539496e-04, 1.55994391e-04,\n",
       "       1.71406496e-04, 1.12964121e-04, 5.94821680e-05, 5.58138849e-05,\n",
       "       3.17570579e-03, 1.94620934e-04, 2.52771423e-04, 1.47978348e-04,\n",
       "       5.74992544e-05, 1.00359003e-03, 2.49711809e-04, 3.37366512e-04,\n",
       "       1.38785569e-04, 1.29830598e-04, 8.48408256e-05, 7.12162811e-05,\n",
       "       3.75779363e-05, 4.20741542e-03, 1.79173218e-04, 8.92642821e-05,\n",
       "       3.56298195e-03, 3.38388713e-04, 4.17305241e-04, 7.28318511e-03,\n",
       "       1.81775202e-04, 2.82810627e-04, 2.99979429e-03, 6.14978561e-04,\n",
       "       3.32809588e-04, 3.82665925e-05, 5.49505971e-05, 4.31483934e-05,\n",
       "       2.16975774e-03, 7.44184020e-03, 3.64152340e-04, 2.40674294e-04,\n",
       "       8.24712592e-04, 9.68164625e-05, 9.88351204e-05, 5.39917718e-03,\n",
       "       3.44803091e-05, 1.04680032e-04, 1.97683151e-04, 1.87039005e-04,\n",
       "       8.59352602e-05, 1.02123936e-03, 1.12297168e-03, 2.35380945e-03,\n",
       "       2.88667548e-03, 1.15941098e-03, 1.11889579e-03, 9.99459861e-04,\n",
       "       2.38722106e-04, 2.17617896e-04, 3.54405120e-03, 2.31137110e-03,\n",
       "       1.48416691e-04, 9.30267403e-05, 6.67026966e-05, 1.09036111e-04,\n",
       "       1.16124338e-04, 5.38406985e-05, 5.54220101e-03, 1.89563491e-04,\n",
       "       1.26615613e-04, 3.69234881e-05, 3.32489003e-03, 1.19991915e-04,\n",
       "       1.34550374e-03, 2.70523438e-04, 1.31465792e-04, 7.83460143e-05,\n",
       "       6.15087872e-05, 4.61962106e-05, 6.40675288e-05, 5.22400510e-05,\n",
       "       2.32165404e-04, 1.41446398e-04, 1.02434736e-04, 4.69616227e-05,\n",
       "       2.83101109e-04, 4.71634603e-05, 8.43038934e-04, 2.53103340e-04,\n",
       "       9.80405046e-04, 2.79044957e-04, 1.47752804e-04, 7.55608955e-05,\n",
       "       3.89588963e-05, 4.74425264e-05, 7.07148112e-04, 1.07578863e-03,\n",
       "       1.16909072e-04, 4.04165904e-05, 3.00889009e-04, 1.82514889e-04,\n",
       "       5.30727586e-03, 4.47086363e-03, 1.26559826e-03, 6.10064800e-03,\n",
       "       2.51581772e-03, 3.22359672e-04, 4.03730015e-03, 2.33936995e-03,\n",
       "       1.13505943e-03, 5.27145451e-03, 5.43789270e-04, 2.78139537e-04,\n",
       "       2.47247743e-05, 2.29755023e-05, 3.04169361e-05, 1.79309958e-03,\n",
       "       8.54502734e-03, 2.64507435e-03, 4.73898712e-04, 9.90707468e-04,\n",
       "       3.89200319e-05, 3.75153456e-04, 7.30892946e-03, 1.83254040e-05,\n",
       "       9.28114990e-04, 9.48329181e-04, 1.90359488e-04, 1.50096075e-03,\n",
       "       6.30637873e-05, 9.18503375e-05, 1.51189901e-04, 1.03180383e-04,\n",
       "       8.28077377e-05, 1.17927481e-04, 9.91643072e-05, 5.41855554e-05,\n",
       "       6.58359945e-05, 1.46050739e-02, 4.70197596e-03, 1.71098780e-03,\n",
       "       1.32945445e-04, 7.79584693e-05, 7.13208963e-05, 3.56475413e-05,\n",
       "       1.93715346e-05, 1.00576943e-02, 1.46919094e-04, 8.23344839e-04,\n",
       "       7.34472313e-05, 5.54201103e-03, 1.11838377e-04, 8.69420666e-04,\n",
       "       2.19357579e-04, 8.50840818e-04, 9.92039680e-05, 9.20787914e-05,\n",
       "       1.08632408e-04, 6.09758284e-05, 4.23597328e-05, 1.34638970e-04,\n",
       "       1.65423458e-04, 7.83343617e-05, 6.74922179e-05, 2.61448888e-03,\n",
       "       1.57673550e-03, 6.01176826e-04, 1.89038867e-04, 9.56610991e-04,\n",
       "       2.28692524e-04, 1.75326784e-04, 1.45815649e-04, 1.04091847e-04,\n",
       "       2.32132551e-05, 1.70138504e-03, 7.59967149e-04, 1.36810121e-04,\n",
       "       5.10869673e-05, 4.00127196e-04, 1.79146437e-04, 1.85652120e-03,\n",
       "       3.76517976e-04, 5.52710166e-04, 2.58358944e-03, 3.57507291e-04,\n",
       "       6.34896201e-04, 2.37854762e-03, 3.38290476e-04, 3.64139407e-04,\n",
       "       2.27512660e-03, 6.09057879e-04, 7.95445424e-04, 4.84553320e-05,\n",
       "       3.07738451e-05, 1.87279663e-04, 6.69527186e-03, 2.23380827e-03,\n",
       "       4.93185146e-04, 4.52597037e-04, 4.87117242e-04, 2.39464770e-04,\n",
       "       1.99353208e-04, 1.44659649e-03, 3.69195022e-04, 1.86986825e-04,\n",
       "       2.08453420e-03, 1.69644271e-03, 4.59892051e-03, 3.28939537e-03,\n",
       "       1.58359119e-04, 1.25769614e-04, 3.98424814e-04, 2.43036565e-04,\n",
       "       5.96451427e-04, 5.29785390e-04, 6.17016771e-04, 4.23546940e-04,\n",
       "       2.70205681e-03, 1.49198524e-03, 2.56111375e-04, 2.31962655e-04,\n",
       "       2.83664614e-04, 3.11359789e-04, 1.61669250e-04, 1.34899693e-04,\n",
       "       2.16470902e-03, 3.05950386e-04, 6.46863304e-04, 2.99091530e-04,\n",
       "       1.82286513e-03, 2.92364823e-04, 5.66663285e-04, 1.21303344e-04,\n",
       "       2.64180425e-04, 1.36064129e-04, 1.58839916e-04, 6.73998462e-05,\n",
       "       5.30745700e-05, 6.01061643e-05, 2.46568209e-04, 5.51579365e-04,\n",
       "       1.52021638e-04, 3.32674689e-05, 6.34049060e-04, 2.01751517e-04,\n",
       "       6.39646378e-04, 1.02869387e-04, 3.36255421e-04, 3.17462905e-04,\n",
       "       1.51155733e-04, 1.23548782e-04, 1.94019023e-04, 2.52755638e-04,\n",
       "       4.95116771e-04, 3.84171838e-04, 2.06662375e-04, 1.46564565e-04,\n",
       "       6.81172807e-04, 1.82537341e-04, 3.63639834e-03, 8.50259589e-03,\n",
       "       1.07643366e-02, 2.14007786e-03, 3.66293074e-05, 5.86924165e-03,\n",
       "       9.47115109e-03, 7.76027711e-04, 1.33774641e-03, 7.86435579e-05,\n",
       "       2.33900504e-03, 7.89740133e-05, 9.45891076e-05, 1.68361017e-03,\n",
       "       6.04225849e-04, 1.82900485e-04, 1.38724344e-03, 1.94889507e-05,\n",
       "       1.29566519e-03, 2.18260740e-03, 1.49531770e-03, 4.34438576e-05,\n",
       "       1.97684599e-04, 4.86238666e-05, 3.49136675e-04, 1.65689297e-04,\n",
       "       1.06676031e-04, 9.30686086e-05, 1.78550249e-04, 1.13320375e-04,\n",
       "       8.23999599e-05, 2.21421701e-04, 1.39192636e-04, 1.59013719e-04,\n",
       "       6.38223506e-05, 4.62505855e-04, 8.64885432e-04, 1.71183627e-04,\n",
       "       1.44452979e-04, 7.60737003e-05, 3.21041372e-04, 2.89546455e-04,\n",
       "       4.67318063e-04, 4.99772788e-05, 9.18785026e-05, 1.88424829e-04,\n",
       "       1.01636024e-04, 9.02950506e-05, 1.69948290e-04, 1.09672611e-04,\n",
       "       1.83515377e-04, 1.78147362e-04, 3.01384323e-05, 2.49954735e-05,\n",
       "       2.66225280e-04, 4.71307447e-04, 2.90714981e-02, 2.90326565e-02,\n",
       "       1.04313823e-02])"
      ]
     },
     "execution_count": 34,
     "metadata": {},
     "output_type": "execute_result"
    }
   ],
   "source": [
    "ftr_imp"
   ]
  },
  {
   "cell_type": "code",
   "execution_count": 30,
   "metadata": {},
   "outputs": [
    {
     "data": {
      "text/plain": [
       "<matplotlib.axes._subplots.AxesSubplot at 0x197c8c8b4c8>"
      ]
     },
     "execution_count": 30,
     "metadata": {},
     "output_type": "execute_result"
    },
    {
     "data": {
      "image/png": "[encoded data removed]",
      "text/plain": [
       "<Figure size 432x288 with 1 Axes>"
      ]
     },
     "metadata": {
      "needs_background": "light"
     },
     "output_type": "display_data"
    }
   ],
   "source": [
    "# 피처 추출\n",
    "ftr_imp = rf_clf1.feature_importances_\n",
    "\n",
    "# 시리즈 타입으로 변환\n",
    "ftr_imp_sr = pd.Series(\n",
    "      ftr_imp\n",
    "    , index = X_train.columns\n",
    ")\n",
    "\n",
    "# 중요도 정렬 후 상위 20개 추출\n",
    "ftr_top20 = ftr_imp_sr.sort_values(ascending=False)[:20]\n",
    "\n",
    "# 시각화\n",
    "sns.barplot(\n",
    "      x=ftr_top20\n",
    "    , y=ftr_top20.index\n",
    ")\n"
   ]
  },
  {
   "cell_type": "markdown",
   "metadata": {},
   "source": [
    "### GBM (Gradient Boosting Machine)"
   ]
  },
  {
   "cell_type": "code",
   "execution_count": 31,
   "metadata": {},
   "outputs": [],
   "source": [
    "from sklearn.ensemble import GradientBoostingClassifier\n",
    "import time"
   ]
  },
  {
   "cell_type": "code",
   "execution_count": 33,
   "metadata": {},
   "outputs": [
    {
     "name": "stdout",
     "output_type": "stream",
     "text": [
      "GBM 정확도 : 0.9389\n",
      "GBM 수행시간 : 670.6\n"
     ]
    }
   ],
   "source": [
    "# 시작시간\n",
    "start_time = time.time()\n",
    "\n",
    "# 모델 객체 생성\n",
    "gb_clf = GradientBoostingClassifier(random_state=0)\n",
    "\n",
    "# 학습\n",
    "gb_clf.fit(X_train, y_train)\n",
    "\n",
    "# 예측\n",
    "pred = gb_clf.predict(X_test)\n",
    "\n",
    "# 평가\n",
    "gb_accu = accuracy_score(y_test, pred)\n",
    "\n",
    "# 걸린 시간\n",
    "end_time = time.time() - start_time\n",
    "\n",
    "# 결과 출력\n",
    "print('GBM 정확도 : {0:.4f}'.format(gb_accu))\n",
    "print('GBM 수행시간 : {0:.1f}'.format(end_time))"
   ]
  },
  {
   "cell_type": "markdown",
   "metadata": {},
   "source": [
    "### XGBoost(eXtra Gradient Boost)\n",
    "- 과적합 규재를 통해 속도와 성능을 향상 ( GBM의 단점 보완 )\n",
    "- 파라미터에 민감해져서 튜닝이 어려워짐"
   ]
  },
  {
   "cell_type": "code",
   "execution_count": 37,
   "metadata": {},
   "outputs": [],
   "source": [
    "import xgboost as xgb\n",
    "from xgboost import XGBClassifier"
   ]
  },
  {
   "cell_type": "markdown",
   "metadata": {},
   "source": [
    "### Native XGBoost 적용\n",
    "- 데이터 셋 : 유방암 데이터 셋"
   ]
  },
  {
   "cell_type": "code",
   "execution_count": 38,
   "metadata": {},
   "outputs": [],
   "source": [
    "import numpy as np\n",
    "import pandas as pd\n",
    "import xgboost as xgb\n",
    "\n",
    "from xgboost import plot_importance\n",
    "from sklearn.datasets import load_breast_cancer\n",
    "from sklearn.model_selection import train_test_split"
   ]
  },
  {
   "cell_type": "code",
   "execution_count": 40,
   "metadata": {},
   "outputs": [],
   "source": [
    "# 데이터 추출\n",
    "dataset = load_breast_cancer()\n",
    "X_features = dataset.data # 데이터\n",
    "y_label = dataset.target # 답"
   ]
  },
  {
   "cell_type": "code",
   "execution_count": 41,
   "metadata": {},
   "outputs": [
    {
     "data": {
      "text/html": [
       "<div>\n",
       "<style scoped>\n",
       "    .dataframe tbody tr th:only-of-type {\n",
       "        vertical-align: middle;\n",
       "    }\n",
       "\n",
       "    .dataframe tbody tr th {\n",
       "        vertical-align: top;\n",
       "    }\n",
       "\n",
       "    .dataframe thead th {\n",
       "        text-align: right;\n",
       "    }\n",
       "</style>\n",
       "<table border=\"1\" class=\"dataframe\">\n",
       "  <thead>\n",
       "    <tr style=\"text-align: right;\">\n",
       "      <th></th>\n",
       "      <th>mean radius</th>\n",
       "      <th>mean texture</th>\n",
       "      <th>mean perimeter</th>\n",
       "      <th>mean area</th>\n",
       "      <th>mean smoothness</th>\n",
       "      <th>mean compactness</th>\n",
       "      <th>mean concavity</th>\n",
       "      <th>mean concave points</th>\n",
       "      <th>mean symmetry</th>\n",
       "      <th>mean fractal dimension</th>\n",
       "      <th>...</th>\n",
       "      <th>worst radius</th>\n",
       "      <th>worst texture</th>\n",
       "      <th>worst perimeter</th>\n",
       "      <th>worst area</th>\n",
       "      <th>worst smoothness</th>\n",
       "      <th>worst compactness</th>\n",
       "      <th>worst concavity</th>\n",
       "      <th>worst concave points</th>\n",
       "      <th>worst symmetry</th>\n",
       "      <th>worst fractal dimension</th>\n",
       "    </tr>\n",
       "  </thead>\n",
       "  <tbody>\n",
       "    <tr>\n",
       "      <th>0</th>\n",
       "      <td>17.99</td>\n",
       "      <td>10.38</td>\n",
       "      <td>122.8</td>\n",
       "      <td>1001.0</td>\n",
       "      <td>0.11840</td>\n",
       "      <td>0.27760</td>\n",
       "      <td>0.3001</td>\n",
       "      <td>0.14710</td>\n",
       "      <td>0.2419</td>\n",
       "      <td>0.07871</td>\n",
       "      <td>...</td>\n",
       "      <td>25.38</td>\n",
       "      <td>17.33</td>\n",
       "      <td>184.6</td>\n",
       "      <td>2019.0</td>\n",
       "      <td>0.1622</td>\n",
       "      <td>0.6656</td>\n",
       "      <td>0.7119</td>\n",
       "      <td>0.2654</td>\n",
       "      <td>0.4601</td>\n",
       "      <td>0.11890</td>\n",
       "    </tr>\n",
       "    <tr>\n",
       "      <th>1</th>\n",
       "      <td>20.57</td>\n",
       "      <td>17.77</td>\n",
       "      <td>132.9</td>\n",
       "      <td>1326.0</td>\n",
       "      <td>0.08474</td>\n",
       "      <td>0.07864</td>\n",
       "      <td>0.0869</td>\n",
       "      <td>0.07017</td>\n",
       "      <td>0.1812</td>\n",
       "      <td>0.05667</td>\n",
       "      <td>...</td>\n",
       "      <td>24.99</td>\n",
       "      <td>23.41</td>\n",
       "      <td>158.8</td>\n",
       "      <td>1956.0</td>\n",
       "      <td>0.1238</td>\n",
       "      <td>0.1866</td>\n",
       "      <td>0.2416</td>\n",
       "      <td>0.1860</td>\n",
       "      <td>0.2750</td>\n",
       "      <td>0.08902</td>\n",
       "    </tr>\n",
       "    <tr>\n",
       "      <th>2</th>\n",
       "      <td>19.69</td>\n",
       "      <td>21.25</td>\n",
       "      <td>130.0</td>\n",
       "      <td>1203.0</td>\n",
       "      <td>0.10960</td>\n",
       "      <td>0.15990</td>\n",
       "      <td>0.1974</td>\n",
       "      <td>0.12790</td>\n",
       "      <td>0.2069</td>\n",
       "      <td>0.05999</td>\n",
       "      <td>...</td>\n",
       "      <td>23.57</td>\n",
       "      <td>25.53</td>\n",
       "      <td>152.5</td>\n",
       "      <td>1709.0</td>\n",
       "      <td>0.1444</td>\n",
       "      <td>0.4245</td>\n",
       "      <td>0.4504</td>\n",
       "      <td>0.2430</td>\n",
       "      <td>0.3613</td>\n",
       "      <td>0.08758</td>\n",
       "    </tr>\n",
       "  </tbody>\n",
       "</table>\n",
       "<p>3 rows × 30 columns</p>\n",
       "</div>"
      ],
      "text/plain": [
       "   mean radius  mean texture  mean perimeter  mean area  mean smoothness  \\\n",
       "0        17.99         10.38           122.8     1001.0          0.11840   \n",
       "1        20.57         17.77           132.9     1326.0          0.08474   \n",
       "2        19.69         21.25           130.0     1203.0          0.10960   \n",
       "\n",
       "   mean compactness  mean concavity  mean concave points  mean symmetry  \\\n",
       "0           0.27760          0.3001              0.14710         0.2419   \n",
       "1           0.07864          0.0869              0.07017         0.1812   \n",
       "2           0.15990          0.1974              0.12790         0.2069   \n",
       "\n",
       "   mean fractal dimension  ...  worst radius  worst texture  worst perimeter  \\\n",
       "0                 0.07871  ...         25.38          17.33            184.6   \n",
       "1                 0.05667  ...         24.99          23.41            158.8   \n",
       "2                 0.05999  ...         23.57          25.53            152.5   \n",
       "\n",
       "   worst area  worst smoothness  worst compactness  worst concavity  \\\n",
       "0      2019.0            0.1622             0.6656           0.7119   \n",
       "1      1956.0            0.1238             0.1866           0.2416   \n",
       "2      1709.0            0.1444             0.4245           0.4504   \n",
       "\n",
       "   worst concave points  worst symmetry  worst fractal dimension  \n",
       "0                0.2654          0.4601                  0.11890  \n",
       "1                0.1860          0.2750                  0.08902  \n",
       "2                0.2430          0.3613                  0.08758  \n",
       "\n",
       "[3 rows x 30 columns]"
      ]
     },
     "execution_count": 41,
     "metadata": {},
     "output_type": "execute_result"
    }
   ],
   "source": [
    "# 데이터 프레임 생성\n",
    "cancer_df = pd.DataFrame(\n",
    "      data=X_features\n",
    "    , columns=dataset.feature_names # 컬럼명\n",
    ")\n",
    "cancer_df.head(3)"
   ]
  },
  {
   "cell_type": "code",
   "execution_count": 42,
   "metadata": {},
   "outputs": [
    {
     "name": "stdout",
     "output_type": "stream",
     "text": [
      "<class 'pandas.core.frame.DataFrame'>\n",
      "RangeIndex: 569 entries, 0 to 568\n",
      "Data columns (total 30 columns):\n",
      " #   Column                   Non-Null Count  Dtype  \n",
      "---  ------                   --------------  -----  \n",
      " 0   mean radius              569 non-null    float64\n",
      " 1   mean texture             569 non-null    float64\n",
      " 2   mean perimeter           569 non-null    float64\n",
      " 3   mean area                569 non-null    float64\n",
      " 4   mean smoothness          569 non-null    float64\n",
      " 5   mean compactness         569 non-null    float64\n",
      " 6   mean concavity           569 non-null    float64\n",
      " 7   mean concave points      569 non-null    float64\n",
      " 8   mean symmetry            569 non-null    float64\n",
      " 9   mean fractal dimension   569 non-null    float64\n",
      " 10  radius error             569 non-null    float64\n",
      " 11  texture error            569 non-null    float64\n",
      " 12  perimeter error          569 non-null    float64\n",
      " 13  area error               569 non-null    float64\n",
      " 14  smoothness error         569 non-null    float64\n",
      " 15  compactness error        569 non-null    float64\n",
      " 16  concavity error          569 non-null    float64\n",
      " 17  concave points error     569 non-null    float64\n",
      " 18  symmetry error           569 non-null    float64\n",
      " 19  fractal dimension error  569 non-null    float64\n",
      " 20  worst radius             569 non-null    float64\n",
      " 21  worst texture            569 non-null    float64\n",
      " 22  worst perimeter          569 non-null    float64\n",
      " 23  worst area               569 non-null    float64\n",
      " 24  worst smoothness         569 non-null    float64\n",
      " 25  worst compactness        569 non-null    float64\n",
      " 26  worst concavity          569 non-null    float64\n",
      " 27  worst concave points     569 non-null    float64\n",
      " 28  worst symmetry           569 non-null    float64\n",
      " 29  worst fractal dimension  569 non-null    float64\n",
      "dtypes: float64(30)\n",
      "memory usage: 133.5 KB\n"
     ]
    }
   ],
   "source": [
    "# 기존데이터프레임에 답 추가\n",
    "cancer_df.info()"
   ]
  },
  {
   "cell_type": "code",
   "execution_count": 44,
   "metadata": {},
   "outputs": [
    {
     "name": "stdout",
     "output_type": "stream",
     "text": [
      "['malignant' 'benign']\n"
     ]
    },
    {
     "ename": "KeyError",
     "evalue": "'target'",
     "output_type": "error",
     "traceback": [
      "\u001b[1;31m---------------------------------------------------------------------------\u001b[0m",
      "\u001b[1;31mKeyError\u001b[0m                                  Traceback (most recent call last)",
      "\u001b[1;32m~\\anaconda3\\envs\\ml01-02\\lib\\site-packages\\pandas\\core\\indexes\\base.py\u001b[0m in \u001b[0;36mget_loc\u001b[1;34m(self, key, method, tolerance)\u001b[0m\n\u001b[0;32m   2888\u001b[0m             \u001b[1;32mtry\u001b[0m\u001b[1;33m:\u001b[0m\u001b[1;33m\u001b[0m\u001b[1;33m\u001b[0m\u001b[0m\n\u001b[1;32m-> 2889\u001b[1;33m                 \u001b[1;32mreturn\u001b[0m \u001b[0mself\u001b[0m\u001b[1;33m.\u001b[0m\u001b[0m_engine\u001b[0m\u001b[1;33m.\u001b[0m\u001b[0mget_loc\u001b[0m\u001b[1;33m(\u001b[0m\u001b[0mcasted_key\u001b[0m\u001b[1;33m)\u001b[0m\u001b[1;33m\u001b[0m\u001b[1;33m\u001b[0m\u001b[0m\n\u001b[0m\u001b[0;32m   2890\u001b[0m             \u001b[1;32mexcept\u001b[0m \u001b[0mKeyError\u001b[0m \u001b[1;32mas\u001b[0m \u001b[0merr\u001b[0m\u001b[1;33m:\u001b[0m\u001b[1;33m\u001b[0m\u001b[1;33m\u001b[0m\u001b[0m\n",
      "\u001b[1;32mpandas\\_libs\\index.pyx\u001b[0m in \u001b[0;36mpandas._libs.index.IndexEngine.get_loc\u001b[1;34m()\u001b[0m\n",
      "\u001b[1;32mpandas\\_libs\\index.pyx\u001b[0m in \u001b[0;36mpandas._libs.index.IndexEngine.get_loc\u001b[1;34m()\u001b[0m\n",
      "\u001b[1;32mpandas\\_libs\\hashtable_class_helper.pxi\u001b[0m in \u001b[0;36mpandas._libs.hashtable.PyObjectHashTable.get_item\u001b[1;34m()\u001b[0m\n",
      "\u001b[1;32mpandas\\_libs\\hashtable_class_helper.pxi\u001b[0m in \u001b[0;36mpandas._libs.hashtable.PyObjectHashTable.get_item\u001b[1;34m()\u001b[0m\n",
      "\u001b[1;31mKeyError\u001b[0m: 'target'",
      "\nThe above exception was the direct cause of the following exception:\n",
      "\u001b[1;31mKeyError\u001b[0m                                  Traceback (most recent call last)",
      "\u001b[1;32m<ipython-input-44-ec4e02c9fe2e>\u001b[0m in \u001b[0;36m<module>\u001b[1;34m\u001b[0m\n\u001b[0;32m      1\u001b[0m \u001b[1;31m# 악성, 양성 : 이진 분류\u001b[0m\u001b[1;33m\u001b[0m\u001b[1;33m\u001b[0m\u001b[1;33m\u001b[0m\u001b[0m\n\u001b[0;32m      2\u001b[0m \u001b[0mprint\u001b[0m\u001b[1;33m(\u001b[0m\u001b[0mdataset\u001b[0m\u001b[1;33m.\u001b[0m\u001b[0mtarget_names\u001b[0m\u001b[1;33m)\u001b[0m\u001b[1;33m\u001b[0m\u001b[1;33m\u001b[0m\u001b[0m\n\u001b[1;32m----> 3\u001b[1;33m \u001b[0mprint\u001b[0m\u001b[1;33m(\u001b[0m\u001b[0mcancer_df\u001b[0m\u001b[1;33m[\u001b[0m\u001b[1;34m'target'\u001b[0m\u001b[1;33m]\u001b[0m\u001b[1;33m.\u001b[0m\u001b[0mvalue_counts\u001b[0m\u001b[1;33m(\u001b[0m\u001b[1;33m)\u001b[0m\u001b[1;33m)\u001b[0m\u001b[1;33m\u001b[0m\u001b[1;33m\u001b[0m\u001b[0m\n\u001b[0m",
      "\u001b[1;32m~\\anaconda3\\envs\\ml01-02\\lib\\site-packages\\pandas\\core\\frame.py\u001b[0m in \u001b[0;36m__getitem__\u001b[1;34m(self, key)\u001b[0m\n\u001b[0;32m   2897\u001b[0m             \u001b[1;32mif\u001b[0m \u001b[0mself\u001b[0m\u001b[1;33m.\u001b[0m\u001b[0mcolumns\u001b[0m\u001b[1;33m.\u001b[0m\u001b[0mnlevels\u001b[0m \u001b[1;33m>\u001b[0m \u001b[1;36m1\u001b[0m\u001b[1;33m:\u001b[0m\u001b[1;33m\u001b[0m\u001b[1;33m\u001b[0m\u001b[0m\n\u001b[0;32m   2898\u001b[0m                 \u001b[1;32mreturn\u001b[0m \u001b[0mself\u001b[0m\u001b[1;33m.\u001b[0m\u001b[0m_getitem_multilevel\u001b[0m\u001b[1;33m(\u001b[0m\u001b[0mkey\u001b[0m\u001b[1;33m)\u001b[0m\u001b[1;33m\u001b[0m\u001b[1;33m\u001b[0m\u001b[0m\n\u001b[1;32m-> 2899\u001b[1;33m             \u001b[0mindexer\u001b[0m \u001b[1;33m=\u001b[0m \u001b[0mself\u001b[0m\u001b[1;33m.\u001b[0m\u001b[0mcolumns\u001b[0m\u001b[1;33m.\u001b[0m\u001b[0mget_loc\u001b[0m\u001b[1;33m(\u001b[0m\u001b[0mkey\u001b[0m\u001b[1;33m)\u001b[0m\u001b[1;33m\u001b[0m\u001b[1;33m\u001b[0m\u001b[0m\n\u001b[0m\u001b[0;32m   2900\u001b[0m             \u001b[1;32mif\u001b[0m \u001b[0mis_integer\u001b[0m\u001b[1;33m(\u001b[0m\u001b[0mindexer\u001b[0m\u001b[1;33m)\u001b[0m\u001b[1;33m:\u001b[0m\u001b[1;33m\u001b[0m\u001b[1;33m\u001b[0m\u001b[0m\n\u001b[0;32m   2901\u001b[0m                 \u001b[0mindexer\u001b[0m \u001b[1;33m=\u001b[0m \u001b[1;33m[\u001b[0m\u001b[0mindexer\u001b[0m\u001b[1;33m]\u001b[0m\u001b[1;33m\u001b[0m\u001b[1;33m\u001b[0m\u001b[0m\n",
      "\u001b[1;32m~\\anaconda3\\envs\\ml01-02\\lib\\site-packages\\pandas\\core\\indexes\\base.py\u001b[0m in \u001b[0;36mget_loc\u001b[1;34m(self, key, method, tolerance)\u001b[0m\n\u001b[0;32m   2889\u001b[0m                 \u001b[1;32mreturn\u001b[0m \u001b[0mself\u001b[0m\u001b[1;33m.\u001b[0m\u001b[0m_engine\u001b[0m\u001b[1;33m.\u001b[0m\u001b[0mget_loc\u001b[0m\u001b[1;33m(\u001b[0m\u001b[0mcasted_key\u001b[0m\u001b[1;33m)\u001b[0m\u001b[1;33m\u001b[0m\u001b[1;33m\u001b[0m\u001b[0m\n\u001b[0;32m   2890\u001b[0m             \u001b[1;32mexcept\u001b[0m \u001b[0mKeyError\u001b[0m \u001b[1;32mas\u001b[0m \u001b[0merr\u001b[0m\u001b[1;33m:\u001b[0m\u001b[1;33m\u001b[0m\u001b[1;33m\u001b[0m\u001b[0m\n\u001b[1;32m-> 2891\u001b[1;33m                 \u001b[1;32mraise\u001b[0m \u001b[0mKeyError\u001b[0m\u001b[1;33m(\u001b[0m\u001b[0mkey\u001b[0m\u001b[1;33m)\u001b[0m \u001b[1;32mfrom\u001b[0m \u001b[0merr\u001b[0m\u001b[1;33m\u001b[0m\u001b[1;33m\u001b[0m\u001b[0m\n\u001b[0m\u001b[0;32m   2892\u001b[0m \u001b[1;33m\u001b[0m\u001b[0m\n\u001b[0;32m   2893\u001b[0m         \u001b[1;32mif\u001b[0m \u001b[0mtolerance\u001b[0m \u001b[1;32mis\u001b[0m \u001b[1;32mnot\u001b[0m \u001b[1;32mNone\u001b[0m\u001b[1;33m:\u001b[0m\u001b[1;33m\u001b[0m\u001b[1;33m\u001b[0m\u001b[0m\n",
      "\u001b[1;31mKeyError\u001b[0m: 'target'"
     ]
    }
   ],
   "source": [
    "# 악성, 양성 : 이진 분류\n",
    "print(dataset.target_names)\n",
    "print(cancer_df['target'].value_counts())"
   ]
  },
  {
   "cell_type": "code",
   "execution_count": 45,
   "metadata": {},
   "outputs": [
    {
     "data": {
      "text/plain": [
       "array([5, 5, 5, ..., 2, 2, 2], dtype=int64)"
      ]
     },
     "execution_count": 45,
     "metadata": {},
     "output_type": "execute_result"
    }
   ],
   "source": [
    "pred"
   ]
  },
  {
   "cell_type": "code",
   "execution_count": null,
   "metadata": {},
   "outputs": [],
   "source": []
  }
 ],
 "metadata": {
  "kernelspec": {
   "display_name": "ml01-02",
   "language": "python",
   "name": "ml01-02"
  },
  "language_info": {
   "codemirror_mode": {
    "name": "ipython",
    "version": 3
   },
   "file_extension": ".py",
   "mimetype": "text/x-python",
   "name": "python",
   "nbconvert_exporter": "python",
   "pygments_lexer": "ipython3",
   "version": "3.7.7"
  }
 },
 "nbformat": 4,
 "nbformat_minor": 4
}
