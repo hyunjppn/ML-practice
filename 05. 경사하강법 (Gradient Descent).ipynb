{
 "cells": [
  {
   "cell_type": "markdown",
   "metadata": {},
   "source": [
    "### 1. 경사하강법"
   ]
  },
  {
   "cell_type": "code",
   "execution_count": 1,
   "metadata": {},
   "outputs": [],
   "source": [
    "import numpy as np\n",
    "import pandas as pd\n",
    "import matplotlib.pyplot as plt\n",
    "%matplotlib inline"
   ]
  },
  {
   "cell_type": "markdown",
   "metadata": {},
   "source": [
    "### 머신러닝 -> 지도학습 -> 데이터와 답 입력 -> 학습 -> 식 찾기\n",
    "---\n",
    "- y= 4*X +6\n",
    "1. 위식에 근사한 데이터 생성\n",
    "2. 답 생성\n",
    "\n",
    "경사하강 사용해서 위 식에있는 계수 도출\n",
    "\n",
    "근사 처리위해 random 사용\n",
    "\n",
    "### Numpy Random function 3가지\n",
    "---\n",
    " 1. np.random.randint() : 정수난수 생성 (균일분포를 따르는)\n",
    " 2. np.random.rand : (0~1사이 균일분포 내에서)실수난수 생성 \n",
    "                     return -> matrix array (행렬)                  \n",
    " 3. np.random.randn() : 표준정규분포 내에서 난수 생성\n",
    " 4. np.random.shuffle() : "
   ]
  },
  {
   "cell_type": "code",
   "execution_count": 8,
   "metadata": {},
   "outputs": [
    {
     "data": {
      "text/plain": [
       "array([[1.09762701],\n",
       "       [1.43037873],\n",
       "       [1.20552675],\n",
       "       [1.08976637],\n",
       "       [0.8473096 ],\n",
       "       [1.29178823],\n",
       "       [0.87517442],\n",
       "       [1.783546  ],\n",
       "       [1.92732552],\n",
       "       [0.76688304]])"
      ]
     },
     "execution_count": 8,
     "metadata": {},
     "output_type": "execute_result"
    }
   ],
   "source": [
    "np.random.seed(0)\n",
    "\n",
    "# 위 식을 근사한 데이터 생성 * 노이즈(random)\n",
    "X = 2* np.random.rand(100,1)\n",
    "X[:10]"
   ]
  },
  {
   "cell_type": "code",
   "execution_count": 10,
   "metadata": {},
   "outputs": [],
   "source": [
    "# y: 종속변수\n",
    "# X: 변수 (100개)\n",
    "y = 4*X +6 + np.random.randn(100,1) # 노이즈 추가"
   ]
  },
  {
   "cell_type": "code",
   "execution_count": 57,
   "metadata": {},
   "outputs": [
    {
     "data": {
      "text/plain": [
       "[]"
      ]
     },
     "execution_count": 57,
     "metadata": {},
     "output_type": "execute_result"
    },
    {
     "data": {
      "image/png": "[encoded data removed]",
      "text/plain": [
       "<Figure size 432x288 with 1 Axes>"
      ]
     },
     "metadata": {
      "needs_background": "light"
     },
     "output_type": "display_data"
    }
   ],
   "source": [
    "# 시각화\n",
    "plt.scatter(X,y)\n"
   ]
  },
  {
   "cell_type": "code",
   "execution_count": 45,
   "metadata": {},
   "outputs": [],
   "source": [
    "# 가중치(W1. W0)를 업데이트 할 w1_update, w2_update 반환\n",
    "# 오차 : 원래값 - 예측값\n",
    "def get_weight_updates(w1, w0, X, y, learning_rate=0.01):\n",
    "    N = len(y) # 100\n",
    "    # 먼저 반환할 값ㅂ을 저장할 배열 선언 (0으로 초기화)\n",
    "    w1_update = np.zeros_like(w1) # w1 같은 크기의 배열 생성\n",
    "    w0_update = np.zeros_like(w0)\n",
    "    \n",
    "    # 예측값을 (W0 + W1*X)구해야 한다.\n",
    "    y_pred = w0 + np.dot(X, w1.T)\n",
    "    \n",
    "    # 오차값 \n",
    "    diff = y - y_pred\n",
    "    \n",
    "    # w0 = 1\n",
    "    w0_fact = np.ones((N,1)) # 100 배열 생성, 1로 초기화\n",
    "    \n",
    "    #\n",
    "    w1_update = -(2/N) * learning_rate * (np.dot(X.T, diff))\n",
    "    w0_update = -(2/N) * learning_rate * (np.dot(w0_fact.T, diff))\n",
    "    \n",
    "    return w1_update, w0_update"
   ]
  },
  {
   "cell_type": "code",
   "execution_count": 46,
   "metadata": {},
   "outputs": [],
   "source": [
    "# 경사 하강\n",
    "# parameter : 데이터 ,원래답 ,반복횟수: 학습률 \n",
    "def gradient_descent_steps(X, y, iters=10000):\n",
    "\n",
    "    w0 = np.zeros((1,1))\n",
    "    w1 = np.zeros((1,1))\n",
    "\n",
    "    for idx in range(iters):\n",
    "        # 현재 가중치(w0,w1) - 수정된 가중치(get_weight_updates())\n",
    "        w1_upd, w0_upd = \\\n",
    "        get_weight_updates(w1,w0,X,y, learning_rate=0.01)\n",
    "        w1 = w1 - w1_upd\n",
    "        w0 = w0 - w0_upd\n",
    "    \n",
    "    return w1, w0"
   ]
  },
  {
   "cell_type": "code",
   "execution_count": 47,
   "metadata": {},
   "outputs": [],
   "source": [
    "def get_cost(y, y_pred):\n",
    "    N = len(y)\n",
    "    cost = np.sum(np.square(y-y_pred)) / N # 평균제곱오차\n",
    "    return cost"
   ]
  },
  {
   "cell_type": "code",
   "execution_count": 48,
   "metadata": {},
   "outputs": [],
   "source": [
    "w1, w0 = gradient_descent_steps(X, y, iters=1000)"
   ]
  },
  {
   "cell_type": "code",
   "execution_count": 49,
   "metadata": {},
   "outputs": [
    {
     "name": "stdout",
     "output_type": "stream",
     "text": [
      "w1: 3.944, w0: 5.893\n"
     ]
    }
   ],
   "source": [
    "# w0 : y절편 (원래값 : 6), w1 : 기울기 (원래값 : 4)\n",
    "\n",
    "print('w1: {0:.3f}, w0: {1:.3f}'.format(w1[0,0],w0[0,0]))"
   ]
  },
  {
   "cell_type": "code",
   "execution_count": 50,
   "metadata": {},
   "outputs": [
    {
     "name": "stdout",
     "output_type": "stream",
     "text": [
      "Gradient Descent Total Cost:0.9596\n"
     ]
    }
   ],
   "source": [
    "# 원래값 - 예측값 실제 얼마나 오차가 있는지 확인\n",
    "y_pred = w1[0,0]*X + w0\n",
    "print('Gradient Descent Total Cost:{0:.4f}'.format(get_cost(y,y_pred)))"
   ]
  },
  {
   "cell_type": "code",
   "execution_count": 59,
   "metadata": {},
   "outputs": [
    {
     "data": {
      "text/plain": [
       "[<matplotlib.lines.Line2D at 0x25d188d92c8>]"
      ]
     },
     "execution_count": 59,
     "metadata": {},
     "output_type": "execute_result"
    },
    {
     "data": {
      "image/png": "[encoded data removed]",
      "text/plain": [
       "<Figure size 432x288 with 1 Axes>"
      ]
     },
     "metadata": {
      "needs_background": "light"
     },
     "output_type": "display_data"
    }
   ],
   "source": [
    "# 원래데이터 : 산점도 (데이터 분포) -> scatter\n",
    "# 가중치를 적용한 직선 -> plot\n",
    "plt.scatter(X, y)\n",
    "plt.plot(X, y_pred)"
   ]
  },
  {
   "cell_type": "markdown",
   "metadata": {},
   "source": [
    "### 다항회귀와 과대적합/과소적합 이해"
   ]
  },
  {
   "cell_type": "code",
   "execution_count": 1,
   "metadata": {},
   "outputs": [
    {
     "name": "stderr",
     "output_type": "stream",
     "text": [
      "C:\\Users\\TJ\\anaconda3\\envs\\ml01-02\\lib\\importlib\\_bootstrap.py:219: RuntimeWarning: numpy.ufunc size changed, may indicate binary incompatibility. Expected 192 from C header, got 216 from PyObject\n",
      "  return f(*args, **kwds)\n"
     ]
    }
   ],
   "source": [
    "import numpy as np\n",
    "import pandas as pd \n",
    "from sklearn.preprocessing import PolynomialFeatures"
   ]
  },
  {
   "cell_type": "code",
   "execution_count": 2,
   "metadata": {},
   "outputs": [
    {
     "data": {
      "text/plain": [
       "array([[0, 1],\n",
       "       [2, 3]])"
      ]
     },
     "execution_count": 2,
     "metadata": {},
     "output_type": "execute_result"
    }
   ],
   "source": [
    "# 다항회귀에 사용한 원데이터 생성 : 2*2\n",
    "X = np.arange(4).reshape(2,2)\n",
    "X"
   ]
  },
  {
   "cell_type": "code",
   "execution_count": 4,
   "metadata": {},
   "outputs": [
    {
     "name": "stdout",
     "output_type": "stream",
     "text": [
      "원래 데이터\n",
      " [[0 1]\n",
      " [2 3]]\n",
      "변환된 데이터\n",
      " [[1. 0. 1. 0. 0. 1.]\n",
      " [1. 2. 3. 4. 6. 9.]]\n"
     ]
    }
   ],
   "source": [
    "# degree = 2 데이터 파생\n",
    "# 객체만 생성\n",
    "poly = PolynomialFeatures(degree=2)\n",
    "\n",
    "# 데이터 파생할 식 구성(학습)\n",
    "poly.fit(X)\n",
    "\n",
    "# 데이터 파생(변환)\n",
    "poly_ftr = poly.transform(X)\n",
    "\n",
    "print('원래 데이터\\n',X)\n",
    "print('변환된 데이터\\n', poly_ftr)"
   ]
  },
  {
   "cell_type": "code",
   "execution_count": 8,
   "metadata": {},
   "outputs": [
    {
     "name": "stdout",
     "output_type": "stream",
     "text": [
      "일차 단항식 feature: \n",
      " [[0 1]\n",
      " [2 3]]\n",
      "일차 단항식 결정값(답): \n",
      " [[ 1  5]\n",
      " [17 43]]\n"
     ]
    }
   ],
   "source": [
    "# X : 행렬, arange() => ndarray = > 브로드캐스팅\n",
    "def polynomial_func(X):\n",
    "    y = 1 + 2 * X + X ** 2 + X ** 3\n",
    "    return y\n",
    "X = np.arange(4).reshape(2,2)\n",
    "print('일차 단항식 feature: \\n', X)\n",
    "y = polynomial_func(X)\n",
    "print('일차 단항식 결정값(답): \\n', y)"
   ]
  },
  {
   "cell_type": "code",
   "execution_count": 9,
   "metadata": {},
   "outputs": [
    {
     "name": "stdout",
     "output_type": "stream",
     "text": [
      "3차 다항식 feature: \n",
      " [[ 1.  0.  1.  0.  0.  1.  0.  0.  0.  1.]\n",
      " [ 1.  2.  3.  4.  6.  9.  8. 12. 18. 27.]]\n"
     ]
    }
   ],
   "source": [
    "poly_ftr = PolynomialFeatures(degree=3).fit_transform(X)\n",
    "print('3차 다항식 feature: \\n',poly_ftr)"
   ]
  },
  {
   "cell_type": "code",
   "execution_count": null,
   "metadata": {},
   "outputs": [],
   "source": []
  }
 ],
 "metadata": {
  "kernelspec": {
   "display_name": "ml01-02",
   "language": "python",
   "name": "ml01-02"
  },
  "language_info": {
   "codemirror_mode": {
    "name": "ipython",
    "version": 3
   },
   "file_extension": ".py",
   "mimetype": "text/x-python",
   "name": "python",
   "nbconvert_exporter": "python",
   "pygments_lexer": "ipython3",
   "version": "3.7.7"
  }
 },
 "nbformat": 4,
 "nbformat_minor": 4
}
