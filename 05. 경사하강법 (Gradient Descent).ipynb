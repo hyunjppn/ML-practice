{
 "cells": [
  {
   "cell_type": "markdown",
   "metadata": {},
   "source": [
    "### 1. 경사하강법"
   ]
  },
  {
   "cell_type": "code",
   "execution_count": 1,
   "metadata": {},
   "outputs": [],
   "source": [
    "import numpy as np\n",
    "import pandas as pd\n",
    "import matplotlib.pyplot as plt\n",
    "%matplotlib inline"
   ]
  },
  {
   "cell_type": "markdown",
   "metadata": {},
   "source": [
    "### 머신러닝 -> 지도학습 -> 데이터와 답 입력 -> 학습 -> 식 찾기\n",
    "---\n",
    "- y= 4*X +6\n",
    "1. 위식에 근사한 데이터 생성\n",
    "2. 답 생성\n",
    "\n",
    "경사하강 사용해서 위 식에있는 계수 도출\n",
    "\n",
    "근사 처리위해 random 사용\n",
    "\n",
    "### Numpy Random function 3가지\n",
    "---\n",
    " 1. np.random.randint() : 정수난수 생성 (균일분포를 따르는)\n",
    " 2. np.random.rand : (0~1사이 균일분포 내에서)실수난수 생성 \n",
    "                     return -> matrix array (행렬)                  \n",
    " 3. np.random.randn() : 표준정규분포 내에서 난수 생성\n",
    " 4. np.random.shuffle() : "
   ]
  },
  {
   "cell_type": "code",
   "execution_count": 8,
   "metadata": {},
   "outputs": [
    {
     "data": {
      "text/plain": [
       "array([[1.09762701],\n",
       "       [1.43037873],\n",
       "       [1.20552675],\n",
       "       [1.08976637],\n",
       "       [0.8473096 ],\n",
       "       [1.29178823],\n",
       "       [0.87517442],\n",
       "       [1.783546  ],\n",
       "       [1.92732552],\n",
       "       [0.76688304]])"
      ]
     },
     "execution_count": 8,
     "metadata": {},
     "output_type": "execute_result"
    }
   ],
   "source": [
    "np.random.seed(0)\n",
    "\n",
    "# 위 식을 근사한 데이터 생성 * 노이즈(random)\n",
    "X = 2* np.random.rand(100,1)\n",
    "X[:10]"
   ]
  },
  {
   "cell_type": "code",
   "execution_count": 10,
   "metadata": {},
   "outputs": [],
   "source": [
    "# y: 종속변수\n",
    "# X: 변수 (100개)\n",
    "y = 4*X +6 + np.random.randn(100,1) # 노이즈 추가"
   ]
  },
  {
   "cell_type": "code",
   "execution_count": 57,
   "metadata": {},
   "outputs": [
    {
     "data": {
      "text/plain": [
       "[]"
      ]
     },
     "execution_count": 57,
     "metadata": {},
     "output_type": "execute_result"
    },
    {
     "data": {
      "image/png": "[encoded data removed]",
      "text/plain": [
       "<Figure size 432x288 with 1 Axes>"
      ]
     },
     "metadata": {
      "needs_background": "light"
     },
     "output_type": "display_data"
    }
   ],
   "source": [
    "# 시각화\n",
    "plt.scatter(X,y)\n"
   ]
  },
  {
   "cell_type": "code",
   "execution_count": 45,
   "metadata": {},
   "outputs": [],
   "source": [
    "# 가중치(W1. W0)를 업데이트 할 w1_update, w2_update 반환\n",
    "# 오차 : 원래값 - 예측값\n",
    "def get_weight_updates(w1, w0, X, y, learning_rate=0.01):\n",
    "    N = len(y) # 100\n",
    "    # 먼저 반환할 값ㅂ을 저장할 배열 선언 (0으로 초기화)\n",
    "    w1_update = np.zeros_like(w1) # w1 같은 크기의 배열 생성\n",
    "    w0_update = np.zeros_like(w0)\n",
    "    \n",
    "    # 예측값을 (W0 + W1*X)구해야 한다.\n",
    "    y_pred = w0 + np.dot(X, w1.T)\n",
    "    \n",
    "    # 오차값 \n",
    "    diff = y - y_pred\n",
    "    \n",
    "    # w0 = 1\n",
    "    w0_fact = np.ones((N,1)) # 100 배열 생성, 1로 초기화\n",
    "    \n",
    "    #\n",
    "    w1_update = -(2/N) * learning_rate * (np.dot(X.T, diff))\n",
    "    w0_update = -(2/N) * learning_rate * (np.dot(w0_fact.T, diff))\n",
    "    \n",
    "    return w1_update, w0_update"
   ]
  },
  {
   "cell_type": "code",
   "execution_count": 46,
   "metadata": {},
   "outputs": [],
   "source": [
    "# 경사 하강\n",
    "# parameter : 데이터 ,원래답 ,반복횟수: 학습률 \n",
    "def gradient_descent_steps(X, y, iters=10000):\n",
    "\n",
    "    w0 = np.zeros((1,1))\n",
    "    w1 = np.zeros((1,1))\n",
    "\n",
    "    for idx in range(iters):\n",
    "        # 현재 가중치(w0,w1) - 수정된 가중치(get_weight_updates())\n",
    "        w1_upd, w0_upd = \\\n",
    "        get_weight_updates(w1,w0,X,y, learning_rate=0.01)\n",
    "        w1 = w1 - w1_upd\n",
    "        w0 = w0 - w0_upd\n",
    "    \n",
    "    return w1, w0"
   ]
  },
  {
   "cell_type": "code",
   "execution_count": 47,
   "metadata": {},
   "outputs": [],
   "source": [
    "def get_cost(y, y_pred):\n",
    "    N = len(y)\n",
    "    cost = np.sum(np.square(y-y_pred)) / N # 평균제곱오차\n",
    "    return cost"
   ]
  },
  {
   "cell_type": "code",
   "execution_count": 48,
   "metadata": {},
   "outputs": [],
   "source": [
    "w1, w0 = gradient_descent_steps(X, y, iters=1000)"
   ]
  },
  {
   "cell_type": "code",
   "execution_count": 49,
   "metadata": {},
   "outputs": [
    {
     "name": "stdout",
     "output_type": "stream",
     "text": [
      "w1: 3.944, w0: 5.893\n"
     ]
    }
   ],
   "source": [
    "# w0 : y절편 (원래값 : 6), w1 : 기울기 (원래값 : 4)\n",
    "\n",
    "print('w1: {0:.3f}, w0: {1:.3f}'.format(w1[0,0],w0[0,0]))"
   ]
  },
  {
   "cell_type": "code",
   "execution_count": 50,
   "metadata": {},
   "outputs": [
    {
     "name": "stdout",
     "output_type": "stream",
     "text": [
      "Gradient Descent Total Cost:0.9596\n"
     ]
    }
   ],
   "source": [
    "# 원래값 - 예측값 실제 얼마나 오차가 있는지 확인\n",
    "y_pred = w1[0,0]*X + w0\n",
    "print('Gradient Descent Total Cost:{0:.4f}'.format(get_cost(y,y_pred)))"
   ]
  },
  {
   "cell_type": "code",
   "execution_count": 59,
   "metadata": {},
   "outputs": [
    {
     "data": {
      "text/plain": [
       "[<matplotlib.lines.Line2D at 0x25d188d92c8>]"
      ]
     },
     "execution_count": 59,
     "metadata": {},
     "output_type": "execute_result"
    },
    {
     "data": {
      "image/png": "[encoded data removed]",
      "text/plain": [
       "<Figure size 432x288 with 1 Axes>"
      ]
     },
     "metadata": {
      "needs_background": "light"
     },
     "output_type": "display_data"
    }
   ],
   "source": [
    "# 원래데이터 : 산점도 (데이터 분포) -> scatter\n",
    "# 가중치를 적용한 직선 -> plot\n",
    "plt.scatter(X, y)\n",
    "plt.plot(X, y_pred)"
   ]
  },
  {
   "cell_type": "markdown",
   "metadata": {},
   "source": [
    "### 다항회귀와 과대적합/과소적합 이해"
   ]
  },
  {
   "cell_type": "code",
   "execution_count": 1,
   "metadata": {},
   "outputs": [
    {
     "name": "stderr",
     "output_type": "stream",
     "text": [
      "C:\\Users\\TJ\\anaconda3\\envs\\ml01-02\\lib\\importlib\\_bootstrap.py:219: RuntimeWarning: numpy.ufunc size changed, may indicate binary incompatibility. Expected 192 from C header, got 216 from PyObject\n",
      "  return f(*args, **kwds)\n"
     ]
    }
   ],
   "source": [
    "import numpy as np\n",
    "import pandas as pd \n",
    "from sklearn.preprocessing import PolynomialFeatures"
   ]
  },
  {
   "cell_type": "code",
   "execution_count": 2,
   "metadata": {},
   "outputs": [
    {
     "data": {
      "text/plain": [
       "array([[0, 1],\n",
       "       [2, 3]])"
      ]
     },
     "execution_count": 2,
     "metadata": {},
     "output_type": "execute_result"
    }
   ],
   "source": [
    "# 다항회귀에 사용한 원데이터 생성 : 2*2\n",
    "X = np.arange(4).reshape(2,2)\n",
    "X"
   ]
  },
  {
   "cell_type": "code",
   "execution_count": 4,
   "metadata": {},
   "outputs": [
    {
     "name": "stdout",
     "output_type": "stream",
     "text": [
      "원래 데이터\n",
      " [[0 1]\n",
      " [2 3]]\n",
      "변환된 데이터\n",
      " [[1. 0. 1. 0. 0. 1.]\n",
      " [1. 2. 3. 4. 6. 9.]]\n"
     ]
    }
   ],
   "source": [
    "# degree = 2 데이터 파생\n",
    "# 객체만 생성\n",
    "poly = PolynomialFeatures(degree=2)\n",
    "\n",
    "# 데이터 파생할 식 구성(학습)\n",
    "poly.fit(X)\n",
    "\n",
    "# 데이터 파생(변환)\n",
    "poly_ftr = poly.transform(X)\n",
    "\n",
    "print('원래 데이터\\n',X)\n",
    "print('변환된 데이터\\n', poly_ftr)"
   ]
  },
  {
   "cell_type": "code",
   "execution_count": 8,
   "metadata": {},
   "outputs": [
    {
     "name": "stdout",
     "output_type": "stream",
     "text": [
      "일차 단항식 feature: \n",
      " [[0 1]\n",
      " [2 3]]\n",
      "일차 단항식 결정값(답): \n",
      " [[ 1  5]\n",
      " [17 43]]\n"
     ]
    }
   ],
   "source": [
    "# X : 행렬, arange() => ndarray = > 브로드캐스팅\n",
    "def polynomial_func(X):\n",
    "    y = 1 + 2 * X + X ** 2 + X ** 3\n",
    "    return y\n",
    "X = np.arange(4).reshape(2,2)\n",
    "print('일차 단항식 feature: \\n', X)\n",
    "y = polynomial_func(X)\n",
    "print('일차 단항식 결정값(답): \\n', y)"
   ]
  },
  {
   "cell_type": "code",
   "execution_count": 9,
   "metadata": {},
   "outputs": [
    {
     "name": "stdout",
     "output_type": "stream",
     "text": [
      "3차 다항식 feature: \n",
      " [[ 1.  0.  1.  0.  0.  1.  0.  0.  0.  1.]\n",
      " [ 1.  2.  3.  4.  6.  9.  8. 12. 18. 27.]]\n"
     ]
    }
   ],
   "source": [
    "poly_ftr = PolynomialFeatures(degree=3).fit_transform(X)\n",
    "print('3차 다항식 feature: \\n',poly_ftr)"
   ]
  },
  {
   "cell_type": "code",
   "execution_count": 11,
   "metadata": {},
   "outputs": [
    {
     "name": "stdout",
     "output_type": "stream",
     "text": [
      "3차 다항식 feature: \n",
      " [[ 1.  0.  1.  0.  0.  1.  0.  0.  0.  1.]\n",
      " [ 1.  2.  3.  4.  6.  9.  8. 12. 18. 27.]]\n",
      "Polynomial 회귀 계수\n",
      " [[0.   0.02 0.02 0.05 0.07 0.1  0.1  0.14 0.22 0.31]\n",
      " [0.   0.06 0.06 0.11 0.17 0.23 0.23 0.34 0.51 0.74]]\n",
      "Polynomial 회귀 shape : (2, 10)\n"
     ]
    }
   ],
   "source": [
    "# 모델 : 선형 회귀\n",
    "from sklearn.linear_model import LinearRegression\n",
    "\n",
    "model = LinearRegression()\n",
    "\n",
    "# model.fit(X,y) -> 원 데이터 학습 (X)\n",
    "# 파생 데이터로 학습\n",
    "model.fit(poly_ftr,y)\n",
    "print('3차 다항식 feature: \\n',poly_ftr)\n",
    "print('Polynomial 회귀 계수\\n', np.round(model.coef_, 2))\n",
    "print('Polynomial 회귀 shape :', model.coef_.shape)"
   ]
  },
  {
   "cell_type": "code",
   "execution_count": 15,
   "metadata": {},
   "outputs": [
    {
     "name": "stdout",
     "output_type": "stream",
     "text": [
      "계수 출력 \n",
      " [[0.         0.02402402 0.02402402 0.04804805 0.07207207 0.0960961\n",
      "  0.0960961  0.14414414 0.21621622 0.31231231]\n",
      " [0.         0.05705706 0.05705706 0.11411411 0.17117117 0.22822823\n",
      "  0.22822823 0.34234234 0.51351351 0.74174174]]\n"
     ]
    }
   ],
   "source": [
    "# Pipeline class : 처리 순서 지정 일괄처리\n",
    "from sklearn.preprocessing import PolynomialFeatures\n",
    "from sklearn.linear_model import LinearRegression\n",
    "from sklearn.pipeline import Pipeline\n",
    "\n",
    "def polynomial_func(X):\n",
    "    y = 1 + 2 * X + X ** 2 + X ** 3\n",
    "    return y\n",
    "\n",
    "model = Pipeline([    \n",
    "      ('poly', PolynomialFeatures(degree=3)) # 처리 순서에 따른 일단위\n",
    "    , ('linear', LinearRegression())\n",
    "])\n",
    "\n",
    "# 원래데이터 생성\n",
    "X = np.arange(4).reshape(2,2)\n",
    "# 원래 답 생성\n",
    "y = polynomial_func(X)\n",
    "\n",
    "model.fit(X,y)\n",
    "# 계수 출력\n",
    "print('계수 출력 \\n', model.named_steps['linear'].coef_)"
   ]
  },
  {
   "cell_type": "markdown",
   "metadata": {},
   "source": [
    "### Polynomial Regression \n",
    "- Overfitting\n",
    "- Underfitting"
   ]
  },
  {
   "cell_type": "code",
   "execution_count": 16,
   "metadata": {},
   "outputs": [],
   "source": [
    "# PolynomialFeatures : 데이터 파생 확장, 성능 향상\n",
    "# degree (차수) : 하이퍼 파라미터\n",
    "# 곡선형 데이터 생성 -> cos 사용\n",
    "import numpy as np\n",
    "import matplotlib.pyplot as plt\n",
    "%matplotlib inline\n",
    "\n",
    "from sklearn.pipeline import Pipeline\n",
    "from sklearn.preprocessing import PolynomialFeatures\n",
    "from sklearn.linear_model import LinearRegression\n",
    "from sklearn.model_selection import cross_val_score # 교차 검증"
   ]
  },
  {
   "cell_type": "code",
   "execution_count": 40,
   "metadata": {},
   "outputs": [],
   "source": [
    "# random 값으로 구성된 X값에 대해 Cosin 적용된 값 반환\n",
    "def true_func(X):\n",
    "    return np.cos(1.5 * np.pi * X) # 곡선\n",
    "\n",
    "# random.rand() : X 데이터 => 30개 생성\n",
    "np.random.seed(0) #: 랜덤값 고정\n",
    "n_samples = 30\n",
    "X = np.sort(np.random.rand(n_samples))\n",
    "\n",
    "# y: 답, np.random.randn(n_samples) * 0.1 : 잡음(오차)\n",
    "y = true_func(X) + np.random.randn(n_samples) * 0.1"
   ]
  },
  {
   "cell_type": "markdown",
   "metadata": {},
   "source": [
    "### np.newaxis\n",
    "---"
   ]
  },
  {
   "cell_type": "code",
   "execution_count": 30,
   "metadata": {},
   "outputs": [
    {
     "data": {
      "text/plain": [
       "(4,)"
      ]
     },
     "execution_count": 30,
     "metadata": {},
     "output_type": "execute_result"
    }
   ],
   "source": [
    "# np.newaxis 예제\n",
    "arr = np.arange(4) \n",
    "arr.shape"
   ]
  },
  {
   "cell_type": "code",
   "execution_count": 32,
   "metadata": {},
   "outputs": [
    {
     "data": {
      "text/plain": [
       "(1, 4)"
      ]
     },
     "execution_count": 32,
     "metadata": {},
     "output_type": "execute_result"
    }
   ],
   "source": [
    "# arr을 Row 2차원 변경\n",
    "row_vec = arr[np.newaxis, :] # np.newaxis -> 새로운 축을 추가한다\n",
    "row_vec.shape"
   ]
  },
  {
   "cell_type": "code",
   "execution_count": 34,
   "metadata": {},
   "outputs": [
    {
     "data": {
      "text/plain": [
       "(4, 1)"
      ]
     },
     "execution_count": 34,
     "metadata": {},
     "output_type": "execute_result"
    }
   ],
   "source": [
    "# arr을 Col 2차원 변경\n",
    "col_vec = arr[:, np.newaxis] \n",
    "col_vec.shape"
   ]
  },
  {
   "cell_type": "code",
   "execution_count": 35,
   "metadata": {},
   "outputs": [
    {
     "data": {
      "text/plain": [
       "(4, 1)"
      ]
     },
     "execution_count": 35,
     "metadata": {},
     "output_type": "execute_result"
    }
   ],
   "source": [
    "# arr을 Col 2차원 변경\n",
    "col_vec = arr[:, None] # np,newaxis == None \n",
    "col_vec.shape"
   ]
  },
  {
   "cell_type": "code",
   "execution_count": 37,
   "metadata": {},
   "outputs": [
    {
     "data": {
      "text/plain": [
       "array([[0, 1, 2],\n",
       "       [3, 4, 5],\n",
       "       [6, 7, 8]])"
      ]
     },
     "execution_count": 37,
     "metadata": {},
     "output_type": "execute_result"
    }
   ],
   "source": [
    "arr = np.arange(3*3).reshape(3,3)\n",
    "arr"
   ]
  },
  {
   "cell_type": "code",
   "execution_count": 38,
   "metadata": {},
   "outputs": [
    {
     "data": {
      "text/plain": [
       "(1, 3, 3, 1)"
      ]
     },
     "execution_count": 38,
     "metadata": {},
     "output_type": "execute_result"
    }
   ],
   "source": [
    "arr_3d = arr[np.newaxis, ..., np.newaxis]\n",
    "arr_3d.shape"
   ]
  },
  {
   "cell_type": "code",
   "execution_count": 39,
   "metadata": {},
   "outputs": [
    {
     "data": {
      "text/plain": [
       "True"
      ]
     },
     "execution_count": 39,
     "metadata": {},
     "output_type": "execute_result"
    }
   ],
   "source": [
    "np.newaxis == None"
   ]
  },
  {
   "cell_type": "markdown",
   "metadata": {},
   "source": [
    "---"
   ]
  },
  {
   "cell_type": "code",
   "execution_count": 50,
   "metadata": {},
   "outputs": [
    {
     "name": "stdout",
     "output_type": "stream",
     "text": [
      "Degree 1 MSE 는 0.41 입니다.\n",
      "Degree 4 MSE 는 0.04 입니다.\n",
      "Degree 15 MSE 는 181810251.66 입니다.\n"
     ]
    },
    {
     "data": {
      "image/png": "[encoded data removed]",
      "text/plain": [
       "<Figure size 1008x360 with 3 Axes>"
      ]
     },
     "metadata": {},
     "output_type": "display_data"
    }
   ],
   "source": [
    "plt.figure(figsize=(14,5))\n",
    "degrees=[1,4,15]\n",
    "\n",
    "# plt.subplots() :여러 축 생성\n",
    "# plt.subplot : 한 개 축 생성\n",
    "for i in range(len(degrees)):\n",
    "    ax = plt.subplot(1,len(degrees),i+1)\n",
    "    plt.setp(ax, xticks=(), yticks=()) #틱값삭제\n",
    "    \n",
    "    # 개별 degree 별 Polynomial 객체 생성\n",
    "    poly_feat = PolynomialFeatures(degree=degrees[i])\n",
    "    \n",
    "    # 선형회귀 객체 생성\n",
    "    linear_reg = LinearRegression()\n",
    "    \n",
    "    # Pipeline 객체 생성\n",
    "    pipeline = Pipeline([\n",
    "          ('poly', poly_feat)\n",
    "        , ('lreg', linear_reg) \n",
    "    ])\n",
    "    \n",
    "    # 학습\n",
    "    pipeline.fit(X.reshape(-1,1),y)\n",
    "    \n",
    "    # 교차 검증 : 오차 (평가)\n",
    "    scores = cross_val_score(\n",
    "          pipeline # 모델\n",
    "        , X.reshape(-1,1) # test data\n",
    "        , y\n",
    "        , scoring='neg_mean_squared_error' # 평가지표 지정 => 점수\n",
    "        , cv=10 # cross_val 개수 지정\n",
    "    )\n",
    "    \n",
    "    # 계수 저장\n",
    "    coef__ = pipeline.named_steps['lreg'].coef_\n",
    "    # 정확도 출력\n",
    "    print('Degree {0} MSE 는 {1:.2f} 입니다.'.format(degrees[i], -1 * np.mean(scores)))\n",
    "    # 시각화\n",
    "    \n",
    "    # 0부터 1까지 테스트 데이터를 100개 생성 -> 예측\n",
    "    X_test = np.linspace(0,1,100) # (start, end, 나눌개수)\n",
    "    # 예측값 곡선\n",
    "    plt.plot(\n",
    "          X_test # X축 값\n",
    "        , pipeline.predict(X_test[:, np.newaxis],)# y축 값 (예측값)\n",
    "        , label='model'\n",
    "    )\n",
    "    # 실제값 곡선\n",
    "    plt.plot(\n",
    "          X_test\n",
    "        , true_func(X_test)\n",
    "        , '--'\n",
    "        , label='True function'\n",
    "    )\n",
    "    \n",
    "    # 데이터분포(산점도)\n",
    "    plt.scatter(\n",
    "          X # 원래 데이터\n",
    "        , y # 원래 답\n",
    "        , s=20\n",
    "        , label='Samples'\n",
    "        \n",
    "    )\n",
    "    # 나머지 설정\n",
    "    plt.xlabel('x')\n",
    "    plt.ylabel('y')\n",
    "    plt.xlim((0,1))\n",
    "    plt.ylim((-2,2))\n",
    "    plt.legend(loc='best')\n",
    "    \n",
    "    # title 지정\n",
    "    out_str = 'Degree {}\\nMSE = {:.2e}(+/- {:.2e})'\n",
    "    plt.title(out_str.format(\n",
    "          degrees[i]\n",
    "        , - scores.mean()\n",
    "        , scores.std()\n",
    "    ))\n",
    "    \n",
    "    # for end\n",
    "    \n",
    "plt.show()"
   ]
  },
  {
   "cell_type": "code",
   "execution_count": 51,
   "metadata": {},
   "outputs": [
    {
     "data": {
      "text/plain": [
       "((30,), (30, 1))"
      ]
     },
     "execution_count": 51,
     "metadata": {},
     "output_type": "execute_result"
    }
   ],
   "source": [
    "X.shape, X.reshape(-1,1).shape"
   ]
  },
  {
   "cell_type": "markdown",
   "metadata": {},
   "source": [
    "### Regularized Linear Model - Ridge Regression"
   ]
  },
  {
   "cell_type": "code",
   "execution_count": 157,
   "metadata": {},
   "outputs": [],
   "source": [
    "# boston data loading\n",
    "from sklearn.datasets import load_boston\n",
    "from sklearn.linear_model import Ridge\n",
    "from sklearn.model_selection import cross_val_score"
   ]
  },
  {
   "cell_type": "code",
   "execution_count": 158,
   "metadata": {},
   "outputs": [],
   "source": [
    "X_data = boston.data\n",
    "y_target = boston.target\n",
    "# Ridge object\n",
    "ridge = Ridge(alpha=10)\n",
    "neg_mse_scores = cross_val_score(\n",
    "      ridge # 적용할 모델 지정\n",
    "    , X_data # 데이터 지정\n",
    "    , y_target # 답\n",
    "    , scoring='neg_mean_squared_error'# 평가방법\n",
    "    , cv=5\n",
    ")"
   ]
  },
  {
   "cell_type": "code",
   "execution_count": 159,
   "metadata": {},
   "outputs": [
    {
     "name": "stdout",
     "output_type": "stream",
     "text": [
      " 5 folds 의 개별 Negative MSE scores:  [-11.422 -24.294 -28.144 -74.599 -28.517]\n"
     ]
    }
   ],
   "source": [
    "print(' 5 folds 의 개별 Negative MSE scores: ',np.round(neg_mse_scores,3))"
   ]
  },
  {
   "cell_type": "code",
   "execution_count": 160,
   "metadata": {},
   "outputs": [
    {
     "name": "stdout",
     "output_type": "stream",
     "text": [
      " 5 folds 의 개별 Negative MSE scores:  [3.38  4.929 5.305 8.637 5.34 ]\n"
     ]
    }
   ],
   "source": [
    "# RMSE\n",
    "rmse_scores = np.sqrt(-1 * neg_mse_scores)\n",
    "print(' 5 folds 의 개별 Negative MSE scores: ',np.round(rmse_scores,3))"
   ]
  },
  {
   "cell_type": "code",
   "execution_count": 161,
   "metadata": {},
   "outputs": [
    {
     "name": "stdout",
     "output_type": "stream",
     "text": [
      " 5 folds 의 평균 MSE : 5.518 \n"
     ]
    }
   ],
   "source": [
    "# Ridge, alpha = 10 평균 오차\n",
    "avg_rmse = np.mean(rmse_scores)\n",
    "print(' 5 folds 의 평균 MSE : {0:.3f} '.format(avg_rmse))"
   ]
  },
  {
   "cell_type": "code",
   "execution_count": 162,
   "metadata": {},
   "outputs": [
    {
     "name": "stdout",
     "output_type": "stream",
     "text": [
      "alpha 0 일 때 5 folds 의 평균 RMSE : 5.829 \n",
      "alpha 0.1 일 때 5 folds 의 평균 RMSE : 5.788 \n",
      "alpha 1 일 때 5 folds 의 평균 RMSE : 5.653 \n",
      "alpha 10 일 때 5 folds 의 평균 RMSE : 5.518 \n",
      "alpha 100 일 때 5 folds 의 평균 RMSE : 5.330 \n",
      "alpha 125 일 때 5 folds 의 평균 RMSE : 5.326 \n",
      "alpha 500 일 때 5 folds 의 평균 RMSE : 5.450 \n"
     ]
    }
   ],
   "source": [
    "# Ridge 적용, alpha [0, 0.1, 1, 10, 100]\n",
    "alphas = [0, 0.1, 1, 10, 100, 125, 500]\n",
    "\n",
    "for alpha in alphas:\n",
    "    ridge = Ridge(alpha=alpha)\n",
    "    neg_mse_scores = cross_val_score(\n",
    "      ridge # 적용할 모델 지정\n",
    "    , X_data # 데이터 지정\n",
    "    , y_target # 답\n",
    "    , scoring='neg_mean_squared_error'# 평가방법\n",
    "    , cv=5\n",
    "    )\n",
    "    avg_rmse = np.mean(np.sqrt(-1 * neg_mse_scores))\n",
    "    out_str = 'alpha {0} 일 때 5 folds 의 평균 RMSE : {1:.3f} '\n",
    "    print(out_str.format(alpha,avg_rmse))"
   ]
  },
  {
   "cell_type": "markdown",
   "metadata": {},
   "source": [
    "### Lasso Regression, Elastic Net"
   ]
  },
  {
   "cell_type": "code",
   "execution_count": 163,
   "metadata": {},
   "outputs": [],
   "source": [
    "from sklearn.linear_model import  Lasso, ElasticNet"
   ]
  },
  {
   "cell_type": "code",
   "execution_count": 164,
   "metadata": {},
   "outputs": [],
   "source": [
    "# 데이터프레임 생성\n",
    "boston_df = pd.DataFrame(\n",
    "    boston.data\n",
    "    , columns=boston.feature_names\n",
    ")\n",
    "\n",
    "boston_df['PRICE'] = boston.target\n",
    "\n",
    "y_target = boston_df['PRICE']\n",
    "X_data = boston_df.drop(['PRICE'], axis=1,inplace=False)"
   ]
  },
  {
   "cell_type": "code",
   "execution_count": 165,
   "metadata": {},
   "outputs": [],
   "source": [
    "# 위 코드를 처리하는 함수 선언\n",
    "\n",
    "\n",
    "def get_linear_reg_eval(\n",
    "      model_name # 모델 (Ridge, Lasso, ElasticNet)\n",
    "    , params_p=None # parameters => alpha = [0, 1, 2, 3, ...]\n",
    "    , X_data_p=None # data\n",
    "    , y_target_p=None # label\n",
    "    , verbose=True # 출력상세 여부\n",
    "):\n",
    "    coef_df = pd.DataFrame()\n",
    "    # 오차 출력\n",
    "    if verbose:\n",
    "        print('######', model_name, '######')\n",
    "        \n",
    "    for param in params_p:\n",
    "        if model_name == 'Ridge':\n",
    "            model = Ridge(alpha=param)\n",
    "        elif model_name == 'Lasso':\n",
    "            model = Lasso(alpha=param)\n",
    "        elif model_name == 'ElasticNet':\n",
    "            model = ElasticNet(alpha=param, l1_ratio=0.7)\n",
    "        \n",
    "        # cross_val_score : 점수 구하는 것만 가능하다.\n",
    "        neg_mse = cross_val_score(\n",
    "              model\n",
    "            , X_data_p\n",
    "            , y_target_p\n",
    "            , scoring='neg_mean_squared_error'\n",
    "            , cv=5\n",
    "        )\n",
    "        \n",
    "        avg_rmse = np.mean(np.sqrt(-1 * neg_mse))\n",
    "        out_str = 'alpha {0} 일 때 5 folds set 평균 RMSE: {1:.3f}'\n",
    "        print(out_str.format(param,avg_rmse))\n",
    "        \n",
    "    # 계수값 저장 반환\n",
    "        model.fit(X_data, y_target)\n",
    "    # 계수값 Series 저장\n",
    "        coef = pd.Series(\n",
    "              data=model.coef_ # 계수값\n",
    "            , index=X_data.columns\n",
    "        )\n",
    "        colname = 'alpha : ' + str(param)\n",
    "        coef_df[colname] = coef\n",
    "\n",
    "    return coef_df # 계수의 이름(컬럼명), 계수값을 DataFrame"
   ]
  },
  {
   "cell_type": "code",
   "execution_count": 166,
   "metadata": {},
   "outputs": [
    {
     "name": "stdout",
     "output_type": "stream",
     "text": [
      "###### Lasso ######\n",
      "alpha 0.07 일 때 5 folds set 평균 RMSE: 5.612\n",
      "alpha 0.1 일 때 5 folds set 평균 RMSE: 5.615\n",
      "alpha 0.5 일 때 5 folds set 평균 RMSE: 5.669\n",
      "alpha 1 일 때 5 folds set 평균 RMSE: 5.776\n",
      "alpha 3 일 때 5 folds set 평균 RMSE: 6.189\n"
     ]
    },
    {
     "data": {
      "text/html": [
       "<div>\n",
       "<style scoped>\n",
       "    .dataframe tbody tr th:only-of-type {\n",
       "        vertical-align: middle;\n",
       "    }\n",
       "\n",
       "    .dataframe tbody tr th {\n",
       "        vertical-align: top;\n",
       "    }\n",
       "\n",
       "    .dataframe thead th {\n",
       "        text-align: right;\n",
       "    }\n",
       "</style>\n",
       "<table border=\"1\" class=\"dataframe\">\n",
       "  <thead>\n",
       "    <tr style=\"text-align: right;\">\n",
       "      <th></th>\n",
       "      <th>alpha : 0.07</th>\n",
       "      <th>alpha : 0.1</th>\n",
       "      <th>alpha : 0.5</th>\n",
       "      <th>alpha : 1</th>\n",
       "      <th>alpha : 3</th>\n",
       "    </tr>\n",
       "  </thead>\n",
       "  <tbody>\n",
       "    <tr>\n",
       "      <th>CRIM</th>\n",
       "      <td>-0.098193</td>\n",
       "      <td>-0.097894</td>\n",
       "      <td>-0.083289</td>\n",
       "      <td>-0.063437</td>\n",
       "      <td>-0.000000</td>\n",
       "    </tr>\n",
       "    <tr>\n",
       "      <th>ZN</th>\n",
       "      <td>0.049059</td>\n",
       "      <td>0.049211</td>\n",
       "      <td>0.049544</td>\n",
       "      <td>0.049165</td>\n",
       "      <td>0.037231</td>\n",
       "    </tr>\n",
       "    <tr>\n",
       "      <th>INDUS</th>\n",
       "      <td>-0.042120</td>\n",
       "      <td>-0.036619</td>\n",
       "      <td>-0.005253</td>\n",
       "      <td>-0.000000</td>\n",
       "      <td>-0.000000</td>\n",
       "    </tr>\n",
       "    <tr>\n",
       "      <th>CHAS</th>\n",
       "      <td>1.434343</td>\n",
       "      <td>0.955190</td>\n",
       "      <td>0.000000</td>\n",
       "      <td>0.000000</td>\n",
       "      <td>0.000000</td>\n",
       "    </tr>\n",
       "    <tr>\n",
       "      <th>NOX</th>\n",
       "      <td>-0.000000</td>\n",
       "      <td>-0.000000</td>\n",
       "      <td>-0.000000</td>\n",
       "      <td>-0.000000</td>\n",
       "      <td>0.000000</td>\n",
       "    </tr>\n",
       "    <tr>\n",
       "      <th>RM</th>\n",
       "      <td>3.789725</td>\n",
       "      <td>3.703202</td>\n",
       "      <td>2.498212</td>\n",
       "      <td>0.949811</td>\n",
       "      <td>0.000000</td>\n",
       "    </tr>\n",
       "    <tr>\n",
       "      <th>AGE</th>\n",
       "      <td>-0.011706</td>\n",
       "      <td>-0.010037</td>\n",
       "      <td>0.003604</td>\n",
       "      <td>0.020910</td>\n",
       "      <td>0.042495</td>\n",
       "    </tr>\n",
       "    <tr>\n",
       "      <th>DIS</th>\n",
       "      <td>-1.176583</td>\n",
       "      <td>-1.160538</td>\n",
       "      <td>-0.936605</td>\n",
       "      <td>-0.668790</td>\n",
       "      <td>-0.000000</td>\n",
       "    </tr>\n",
       "    <tr>\n",
       "      <th>RAD</th>\n",
       "      <td>0.270936</td>\n",
       "      <td>0.274707</td>\n",
       "      <td>0.277451</td>\n",
       "      <td>0.264206</td>\n",
       "      <td>0.061864</td>\n",
       "    </tr>\n",
       "    <tr>\n",
       "      <th>TAX</th>\n",
       "      <td>-0.014290</td>\n",
       "      <td>-0.014570</td>\n",
       "      <td>-0.015442</td>\n",
       "      <td>-0.015212</td>\n",
       "      <td>-0.008602</td>\n",
       "    </tr>\n",
       "    <tr>\n",
       "      <th>PTRATIO</th>\n",
       "      <td>-0.765107</td>\n",
       "      <td>-0.770654</td>\n",
       "      <td>-0.758752</td>\n",
       "      <td>-0.722966</td>\n",
       "      <td>-0.265072</td>\n",
       "    </tr>\n",
       "    <tr>\n",
       "      <th>B</th>\n",
       "      <td>0.010248</td>\n",
       "      <td>0.010249</td>\n",
       "      <td>0.009469</td>\n",
       "      <td>0.008247</td>\n",
       "      <td>0.006510</td>\n",
       "    </tr>\n",
       "    <tr>\n",
       "      <th>LSTAT</th>\n",
       "      <td>-0.560431</td>\n",
       "      <td>-0.568769</td>\n",
       "      <td>-0.656290</td>\n",
       "      <td>-0.761115</td>\n",
       "      <td>-0.807679</td>\n",
       "    </tr>\n",
       "  </tbody>\n",
       "</table>\n",
       "</div>"
      ],
      "text/plain": [
       "         alpha : 0.07  alpha : 0.1  alpha : 0.5  alpha : 1  alpha : 3\n",
       "CRIM        -0.098193    -0.097894    -0.083289  -0.063437  -0.000000\n",
       "ZN           0.049059     0.049211     0.049544   0.049165   0.037231\n",
       "INDUS       -0.042120    -0.036619    -0.005253  -0.000000  -0.000000\n",
       "CHAS         1.434343     0.955190     0.000000   0.000000   0.000000\n",
       "NOX         -0.000000    -0.000000    -0.000000  -0.000000   0.000000\n",
       "RM           3.789725     3.703202     2.498212   0.949811   0.000000\n",
       "AGE         -0.011706    -0.010037     0.003604   0.020910   0.042495\n",
       "DIS         -1.176583    -1.160538    -0.936605  -0.668790  -0.000000\n",
       "RAD          0.270936     0.274707     0.277451   0.264206   0.061864\n",
       "TAX         -0.014290    -0.014570    -0.015442  -0.015212  -0.008602\n",
       "PTRATIO     -0.765107    -0.770654    -0.758752  -0.722966  -0.265072\n",
       "B            0.010248     0.010249     0.009469   0.008247   0.006510\n",
       "LSTAT       -0.560431    -0.568769    -0.656290  -0.761115  -0.807679"
      ]
     },
     "execution_count": 166,
     "metadata": {},
     "output_type": "execute_result"
    }
   ],
   "source": [
    "lasso_alphas = [0.07, 0.1, 0.5, 1, 3]\n",
    "coef_lasso_df = get_linear_reg_eval(\n",
    "      'Lasso'\n",
    "    , params_p=lasso_alphas\n",
    "    , X_data_p=X_data\n",
    "    , y_target_p=y_target\n",
    ")\n",
    "coef_lasso_df"
   ]
  },
  {
   "cell_type": "code",
   "execution_count": 167,
   "metadata": {},
   "outputs": [
    {
     "name": "stdout",
     "output_type": "stream",
     "text": [
      "###### ElasticNet ######\n",
      "alpha 0.07 일 때 5 folds set 평균 RMSE: 5.542\n",
      "alpha 0.1 일 때 5 folds set 평균 RMSE: 5.526\n",
      "alpha 0.5 일 때 5 folds set 평균 RMSE: 5.467\n",
      "alpha 1 일 때 5 folds set 평균 RMSE: 5.597\n",
      "alpha 3 일 때 5 folds set 평균 RMSE: 6.068\n"
     ]
    },
    {
     "data": {
      "text/html": [
       "<div>\n",
       "<style scoped>\n",
       "    .dataframe tbody tr th:only-of-type {\n",
       "        vertical-align: middle;\n",
       "    }\n",
       "\n",
       "    .dataframe tbody tr th {\n",
       "        vertical-align: top;\n",
       "    }\n",
       "\n",
       "    .dataframe thead th {\n",
       "        text-align: right;\n",
       "    }\n",
       "</style>\n",
       "<table border=\"1\" class=\"dataframe\">\n",
       "  <thead>\n",
       "    <tr style=\"text-align: right;\">\n",
       "      <th></th>\n",
       "      <th>alpha : 0.07</th>\n",
       "      <th>alpha : 0.1</th>\n",
       "      <th>alpha : 0.5</th>\n",
       "      <th>alpha : 1</th>\n",
       "      <th>alpha : 3</th>\n",
       "    </tr>\n",
       "  </thead>\n",
       "  <tbody>\n",
       "    <tr>\n",
       "      <th>CRIM</th>\n",
       "      <td>-0.099468</td>\n",
       "      <td>-0.099213</td>\n",
       "      <td>-0.089070</td>\n",
       "      <td>-0.073577</td>\n",
       "      <td>-0.019058</td>\n",
       "    </tr>\n",
       "    <tr>\n",
       "      <th>ZN</th>\n",
       "      <td>0.050107</td>\n",
       "      <td>0.050617</td>\n",
       "      <td>0.052878</td>\n",
       "      <td>0.052136</td>\n",
       "      <td>0.038268</td>\n",
       "    </tr>\n",
       "    <tr>\n",
       "      <th>INDUS</th>\n",
       "      <td>-0.044855</td>\n",
       "      <td>-0.042719</td>\n",
       "      <td>-0.023252</td>\n",
       "      <td>-0.000000</td>\n",
       "      <td>-0.000000</td>\n",
       "    </tr>\n",
       "    <tr>\n",
       "      <th>CHAS</th>\n",
       "      <td>1.330724</td>\n",
       "      <td>0.979706</td>\n",
       "      <td>0.000000</td>\n",
       "      <td>0.000000</td>\n",
       "      <td>0.000000</td>\n",
       "    </tr>\n",
       "    <tr>\n",
       "      <th>NOX</th>\n",
       "      <td>-0.175072</td>\n",
       "      <td>-0.000000</td>\n",
       "      <td>-0.000000</td>\n",
       "      <td>-0.000000</td>\n",
       "      <td>-0.000000</td>\n",
       "    </tr>\n",
       "    <tr>\n",
       "      <th>RM</th>\n",
       "      <td>3.574162</td>\n",
       "      <td>3.414154</td>\n",
       "      <td>1.918419</td>\n",
       "      <td>0.938789</td>\n",
       "      <td>0.000000</td>\n",
       "    </tr>\n",
       "    <tr>\n",
       "      <th>AGE</th>\n",
       "      <td>-0.010116</td>\n",
       "      <td>-0.008276</td>\n",
       "      <td>0.007760</td>\n",
       "      <td>0.020348</td>\n",
       "      <td>0.043446</td>\n",
       "    </tr>\n",
       "    <tr>\n",
       "      <th>DIS</th>\n",
       "      <td>-1.189438</td>\n",
       "      <td>-1.173647</td>\n",
       "      <td>-0.975902</td>\n",
       "      <td>-0.725174</td>\n",
       "      <td>-0.031208</td>\n",
       "    </tr>\n",
       "    <tr>\n",
       "      <th>RAD</th>\n",
       "      <td>0.278880</td>\n",
       "      <td>0.283443</td>\n",
       "      <td>0.300761</td>\n",
       "      <td>0.289299</td>\n",
       "      <td>0.146846</td>\n",
       "    </tr>\n",
       "    <tr>\n",
       "      <th>TAX</th>\n",
       "      <td>-0.014522</td>\n",
       "      <td>-0.014814</td>\n",
       "      <td>-0.016046</td>\n",
       "      <td>-0.016218</td>\n",
       "      <td>-0.011417</td>\n",
       "    </tr>\n",
       "    <tr>\n",
       "      <th>PTRATIO</th>\n",
       "      <td>-0.779498</td>\n",
       "      <td>-0.784725</td>\n",
       "      <td>-0.790969</td>\n",
       "      <td>-0.738672</td>\n",
       "      <td>-0.423065</td>\n",
       "    </tr>\n",
       "    <tr>\n",
       "      <th>B</th>\n",
       "      <td>0.010122</td>\n",
       "      <td>0.010067</td>\n",
       "      <td>0.009114</td>\n",
       "      <td>0.008320</td>\n",
       "      <td>0.007020</td>\n",
       "    </tr>\n",
       "    <tr>\n",
       "      <th>LSTAT</th>\n",
       "      <td>-0.574822</td>\n",
       "      <td>-0.587702</td>\n",
       "      <td>-0.693861</td>\n",
       "      <td>-0.760457</td>\n",
       "      <td>-0.800368</td>\n",
       "    </tr>\n",
       "  </tbody>\n",
       "</table>\n",
       "</div>"
      ],
      "text/plain": [
       "         alpha : 0.07  alpha : 0.1  alpha : 0.5  alpha : 1  alpha : 3\n",
       "CRIM        -0.099468    -0.099213    -0.089070  -0.073577  -0.019058\n",
       "ZN           0.050107     0.050617     0.052878   0.052136   0.038268\n",
       "INDUS       -0.044855    -0.042719    -0.023252  -0.000000  -0.000000\n",
       "CHAS         1.330724     0.979706     0.000000   0.000000   0.000000\n",
       "NOX         -0.175072    -0.000000    -0.000000  -0.000000  -0.000000\n",
       "RM           3.574162     3.414154     1.918419   0.938789   0.000000\n",
       "AGE         -0.010116    -0.008276     0.007760   0.020348   0.043446\n",
       "DIS         -1.189438    -1.173647    -0.975902  -0.725174  -0.031208\n",
       "RAD          0.278880     0.283443     0.300761   0.289299   0.146846\n",
       "TAX         -0.014522    -0.014814    -0.016046  -0.016218  -0.011417\n",
       "PTRATIO     -0.779498    -0.784725    -0.790969  -0.738672  -0.423065\n",
       "B            0.010122     0.010067     0.009114   0.008320   0.007020\n",
       "LSTAT       -0.574822    -0.587702    -0.693861  -0.760457  -0.800368"
      ]
     },
     "execution_count": 167,
     "metadata": {},
     "output_type": "execute_result"
    }
   ],
   "source": [
    "elastic_alphas = [0.07, 0.1, 0.5, 1, 3]\n",
    "coef_elastic_df = get_linear_reg_eval(\n",
    "      'ElasticNet'\n",
    "    , params_p=elastic_alphas\n",
    "    , X_data_p=X_data\n",
    "    , y_target_p=y_target\n",
    ")\n",
    "coef_elastic_df"
   ]
  },
  {
   "cell_type": "markdown",
   "metadata": {},
   "source": [
    "### 데이터 변환 \n",
    "- StandardScaler => 정규분포화\n",
    "- MinMaxScaler => 0~1\n",
    "- Polynomial => degree 적용, 다항식 적용\n",
    "- log => 정균분포 형태로 변환"
   ]
  },
  {
   "cell_type": "code",
   "execution_count": 168,
   "metadata": {},
   "outputs": [],
   "source": [
    "from sklearn.preprocessing import StandardScaler\n",
    "from sklearn.preprocessing import MinMaxScaler\n",
    "from sklearn.preprocessing import PolynomialFeatures\n",
    "\n",
    "def get_scaled_data(\n",
    "      method='None' # 변환 방법\n",
    "    , degree_p=None # 다항식 차수\n",
    "    , input_data=None # 변환할 데이터\n",
    "):\n",
    "    if method == 'Standard':\n",
    "        scaled_data = StandardScaler().fit_transform(input_data)\n",
    "        \n",
    "    elif method == 'MinMax':\n",
    "        scaled_data = MinMaxScaler().fit_transform(input_data)\n",
    "        \n",
    "    elif method == 'Log':\n",
    "        scaled_data = np.log1p(input_data)\n",
    "        \n",
    "    else:\n",
    "        scaled_data = input_data\n",
    "\n",
    "    if degree_p != None:\n",
    "        scaled_data = PolynomialFeatures(degree=degree_p).fit_transform(scaled_data)\n",
    "        \n",
    "    return scaled_data"
   ]
  },
  {
   "cell_type": "code",
   "execution_count": 169,
   "metadata": {},
   "outputs": [
    {
     "name": "stdout",
     "output_type": "stream",
     "text": [
      "\n",
      "## 변환 유형 : None, Polynomial Degree: None\n",
      "###### Ridge ######\n",
      "alpha 0.1 일 때 5 folds set 평균 RMSE: 5.788\n",
      "alpha 1 일 때 5 folds set 평균 RMSE: 5.653\n",
      "alpha 10 일 때 5 folds set 평균 RMSE: 5.518\n",
      "alpha 100 일 때 5 folds set 평균 RMSE: 5.330\n",
      "\n",
      "## 변환 유형 : Standard, Polynomial Degree: None\n",
      "###### Ridge ######\n",
      "alpha 0.1 일 때 5 folds set 평균 RMSE: 5.826\n",
      "alpha 1 일 때 5 folds set 평균 RMSE: 5.803\n",
      "alpha 10 일 때 5 folds set 평균 RMSE: 5.637\n",
      "alpha 100 일 때 5 folds set 평균 RMSE: 5.421\n",
      "\n",
      "## 변환 유형 : Standard, Polynomial Degree: 2\n",
      "###### Ridge ######\n",
      "alpha 0.1 일 때 5 folds set 평균 RMSE: 8.827\n",
      "alpha 1 일 때 5 folds set 평균 RMSE: 6.871\n",
      "alpha 10 일 때 5 folds set 평균 RMSE: 5.485\n",
      "alpha 100 일 때 5 folds set 평균 RMSE: 4.634\n",
      "\n",
      "## 변환 유형 : MinMax, Polynomial Degree: None\n",
      "###### Ridge ######\n",
      "alpha 0.1 일 때 5 folds set 평균 RMSE: 5.764\n",
      "alpha 1 일 때 5 folds set 평균 RMSE: 5.465\n",
      "alpha 10 일 때 5 folds set 평균 RMSE: 5.754\n",
      "alpha 100 일 때 5 folds set 평균 RMSE: 7.635\n",
      "\n",
      "## 변환 유형 : MinMax, Polynomial Degree: 2\n",
      "###### Ridge ######\n",
      "alpha 0.1 일 때 5 folds set 평균 RMSE: 5.298\n",
      "alpha 1 일 때 5 folds set 평균 RMSE: 4.323\n",
      "alpha 10 일 때 5 folds set 평균 RMSE: 5.185\n",
      "alpha 100 일 때 5 folds set 평균 RMSE: 6.538\n",
      "\n",
      "## 변환 유형 : Log, Polynomial Degree: None\n",
      "###### Ridge ######\n",
      "alpha 0.1 일 때 5 folds set 평균 RMSE: 4.770\n",
      "alpha 1 일 때 5 folds set 평균 RMSE: 4.676\n",
      "alpha 10 일 때 5 folds set 평균 RMSE: 4.836\n",
      "alpha 100 일 때 5 folds set 평균 RMSE: 6.241\n"
     ]
    }
   ],
   "source": [
    "alphas = [0.1 , 1, 10, 100]\n",
    "\n",
    "scaled_methods = [\n",
    "      (None, None)\n",
    "    , ('Standard', None)\n",
    "    , ('Standard', 2)\n",
    "    , ('MinMax', None)\n",
    "    , ('MinMax', 2)\n",
    "    , ('Log', None)\n",
    "]\n",
    "\n",
    "\n",
    "for scaled_method in scaled_methods:\n",
    "    X_data_scaled = get_scaled_data(\n",
    "          method=scaled_method[0]\n",
    "        , degree_p=scaled_method[1]\n",
    "        , input_data=X_data\n",
    "    )\n",
    "    out_str = '\\n## 변환 유형 : {0}, Polynomial Degree: {1}'\n",
    "    print(out_str.format(scaled_method[0],scaled_method[1]))\n",
    "    \n",
    "    get_linear_reg_eval(\n",
    "          'Ridge'\n",
    "        , params_p=alphas\n",
    "        , X_data_p=X_data_scaled\n",
    "        , y_target_p=y_target\n",
    "    )\n",
    "    "
   ]
  },
  {
   "cell_type": "code",
   "execution_count": null,
   "metadata": {},
   "outputs": [],
   "source": []
  },
  {
   "cell_type": "code",
   "execution_count": null,
   "metadata": {},
   "outputs": [],
   "source": []
  }
 ],
 "metadata": {
  "kernelspec": {
   "display_name": "ml01-02",
   "language": "python",
   "name": "ml01-02"
  },
  "language_info": {
   "codemirror_mode": {
    "name": "ipython",
    "version": 3
   },
   "file_extension": ".py",
   "mimetype": "text/x-python",
   "name": "python",
   "nbconvert_exporter": "python",
   "pygments_lexer": "ipython3",
   "version": "3.7.7"
  }
 },
 "nbformat": 4,
 "nbformat_minor": 4
}
