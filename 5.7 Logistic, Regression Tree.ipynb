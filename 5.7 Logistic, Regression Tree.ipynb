{
 "cells": [
  {
   "cell_type": "markdown",
   "metadata": {},
   "source": [
    "### Logistic Regression"
   ]
  },
  {
   "cell_type": "code",
   "execution_count": 1,
   "metadata": {},
   "outputs": [
    {
     "name": "stderr",
     "output_type": "stream",
     "text": [
      "UsageError: Line magic function `%imaplotlib` not found.\n"
     ]
    }
   ],
   "source": [
    "import numpy as np\n",
    "import pandas as pd\n",
    "import matplotlib.pyplot as plt\n",
    "%imaplotlib inline"
   ]
  },
  {
   "cell_type": "code",
   "execution_count": 3,
   "metadata": {},
   "outputs": [],
   "source": [
    "from sklearn.datasets import load_breast_cancer\n",
    "from sklearn.linear_model import LogisticRegression"
   ]
  },
  {
   "cell_type": "code",
   "execution_count": 4,
   "metadata": {},
   "outputs": [],
   "source": [
    "# 유방암 데이터 로딩\n",
    "cancer = load_breast_cancer()"
   ]
  },
  {
   "cell_type": "code",
   "execution_count": 5,
   "metadata": {},
   "outputs": [],
   "source": [
    "from sklearn.preprocessing import StandardScaler\n",
    "from sklearn.model_selection import train_test_split\n",
    "\n",
    "# 정규화\n",
    "# 평균 :0 , 분산 :  1로 원래 데이터 변환\n",
    "scaler = StandardScaler()\n",
    "data_scaled = scaler.fit_transform(cancer.data)\n",
    "\n",
    "# 데이터 분리\n",
    "X_train, X_test, y_train, y_test =\\\n",
    "train_test_split(\n",
    "      data_scaled\n",
    "    , cancer.target\n",
    "    , test_size = 0.3\n",
    "    , random_state= 0\n",
    ")"
   ]
  },
  {
   "cell_type": "code",
   "execution_count": 6,
   "metadata": {},
   "outputs": [
    {
     "name": "stdout",
     "output_type": "stream",
     "text": [
      "정확도 : 0.977\n",
      "AUC score : 0.972\n"
     ]
    }
   ],
   "source": [
    "from sklearn.linear_model import LogisticRegression\n",
    "from sklearn.metrics import accuracy_score, roc_auc_score\n",
    "\n",
    "# 모델 학습/예측(분류)\n",
    "lr_clf = LogisticRegression()\n",
    "lr_clf.fit(X_train, y_train)\n",
    "lr_preds = lr_clf.predict(X_test)\n",
    "\n",
    "# 평가(AUC, 정확도)\n",
    "accu = accuracy_score(y_test, lr_preds)\n",
    "auc = roc_auc_score(y_test, lr_preds)\n",
    "print('정확도 : {:.3f}'.format(accu))\n",
    "print('AUC score : {:.3f}'.format(auc))"
   ]
  },
  {
   "cell_type": "code",
   "execution_count": 14,
   "metadata": {},
   "outputs": [
    {
     "name": "stdout",
     "output_type": "stream",
     "text": [
      "Best Param : {'C': 1, 'penalty': 'l2'}, Best Accu: 0.975\n"
     ]
    },
    {
     "name": "stderr",
     "output_type": "stream",
     "text": [
      "C:\\Users\\TJ\\anaconda3\\envs\\ml01-02\\lib\\site-packages\\sklearn\\model_selection\\_validation.py:552: FitFailedWarning: Estimator fit failed. The score on this train-test partition for these parameters will be set to nan. Details: \n",
      "Traceback (most recent call last):\n",
      "  File \"C:\\Users\\TJ\\anaconda3\\envs\\ml01-02\\lib\\site-packages\\sklearn\\model_selection\\_validation.py\", line 531, in _fit_and_score\n",
      "    estimator.fit(X_train, y_train, **fit_params)\n",
      "  File \"C:\\Users\\TJ\\anaconda3\\envs\\ml01-02\\lib\\site-packages\\sklearn\\linear_model\\_logistic.py\", line 1304, in fit\n",
      "    solver = _check_solver(self.solver, self.penalty, self.dual)\n",
      "  File \"C:\\Users\\TJ\\anaconda3\\envs\\ml01-02\\lib\\site-packages\\sklearn\\linear_model\\_logistic.py\", line 443, in _check_solver\n",
      "    \"got %s penalty.\" % (solver, penalty))\n",
      "ValueError: Solver lbfgs supports only 'l2' or 'none' penalties, got l1 penalty.\n",
      "\n",
      "  FitFailedWarning)\n",
      "C:\\Users\\TJ\\anaconda3\\envs\\ml01-02\\lib\\site-packages\\sklearn\\model_selection\\_validation.py:552: FitFailedWarning: Estimator fit failed. The score on this train-test partition for these parameters will be set to nan. Details: \n",
      "Traceback (most recent call last):\n",
      "  File \"C:\\Users\\TJ\\anaconda3\\envs\\ml01-02\\lib\\site-packages\\sklearn\\model_selection\\_validation.py\", line 531, in _fit_and_score\n",
      "    estimator.fit(X_train, y_train, **fit_params)\n",
      "  File \"C:\\Users\\TJ\\anaconda3\\envs\\ml01-02\\lib\\site-packages\\sklearn\\linear_model\\_logistic.py\", line 1304, in fit\n",
      "    solver = _check_solver(self.solver, self.penalty, self.dual)\n",
      "  File \"C:\\Users\\TJ\\anaconda3\\envs\\ml01-02\\lib\\site-packages\\sklearn\\linear_model\\_logistic.py\", line 443, in _check_solver\n",
      "    \"got %s penalty.\" % (solver, penalty))\n",
      "ValueError: Solver lbfgs supports only 'l2' or 'none' penalties, got l1 penalty.\n",
      "\n",
      "  FitFailedWarning)\n",
      "C:\\Users\\TJ\\anaconda3\\envs\\ml01-02\\lib\\site-packages\\sklearn\\model_selection\\_validation.py:552: FitFailedWarning: Estimator fit failed. The score on this train-test partition for these parameters will be set to nan. Details: \n",
      "Traceback (most recent call last):\n",
      "  File \"C:\\Users\\TJ\\anaconda3\\envs\\ml01-02\\lib\\site-packages\\sklearn\\model_selection\\_validation.py\", line 531, in _fit_and_score\n",
      "    estimator.fit(X_train, y_train, **fit_params)\n",
      "  File \"C:\\Users\\TJ\\anaconda3\\envs\\ml01-02\\lib\\site-packages\\sklearn\\linear_model\\_logistic.py\", line 1304, in fit\n",
      "    solver = _check_solver(self.solver, self.penalty, self.dual)\n",
      "  File \"C:\\Users\\TJ\\anaconda3\\envs\\ml01-02\\lib\\site-packages\\sklearn\\linear_model\\_logistic.py\", line 443, in _check_solver\n",
      "    \"got %s penalty.\" % (solver, penalty))\n",
      "ValueError: Solver lbfgs supports only 'l2' or 'none' penalties, got l1 penalty.\n",
      "\n",
      "  FitFailedWarning)\n",
      "C:\\Users\\TJ\\anaconda3\\envs\\ml01-02\\lib\\site-packages\\sklearn\\model_selection\\_validation.py:552: FitFailedWarning: Estimator fit failed. The score on this train-test partition for these parameters will be set to nan. Details: \n",
      "Traceback (most recent call last):\n",
      "  File \"C:\\Users\\TJ\\anaconda3\\envs\\ml01-02\\lib\\site-packages\\sklearn\\model_selection\\_validation.py\", line 531, in _fit_and_score\n",
      "    estimator.fit(X_train, y_train, **fit_params)\n",
      "  File \"C:\\Users\\TJ\\anaconda3\\envs\\ml01-02\\lib\\site-packages\\sklearn\\linear_model\\_logistic.py\", line 1304, in fit\n",
      "    solver = _check_solver(self.solver, self.penalty, self.dual)\n",
      "  File \"C:\\Users\\TJ\\anaconda3\\envs\\ml01-02\\lib\\site-packages\\sklearn\\linear_model\\_logistic.py\", line 443, in _check_solver\n",
      "    \"got %s penalty.\" % (solver, penalty))\n",
      "ValueError: Solver lbfgs supports only 'l2' or 'none' penalties, got l1 penalty.\n",
      "\n",
      "  FitFailedWarning)\n",
      "C:\\Users\\TJ\\anaconda3\\envs\\ml01-02\\lib\\site-packages\\sklearn\\model_selection\\_validation.py:552: FitFailedWarning: Estimator fit failed. The score on this train-test partition for these parameters will be set to nan. Details: \n",
      "Traceback (most recent call last):\n",
      "  File \"C:\\Users\\TJ\\anaconda3\\envs\\ml01-02\\lib\\site-packages\\sklearn\\model_selection\\_validation.py\", line 531, in _fit_and_score\n",
      "    estimator.fit(X_train, y_train, **fit_params)\n",
      "  File \"C:\\Users\\TJ\\anaconda3\\envs\\ml01-02\\lib\\site-packages\\sklearn\\linear_model\\_logistic.py\", line 1304, in fit\n",
      "    solver = _check_solver(self.solver, self.penalty, self.dual)\n",
      "  File \"C:\\Users\\TJ\\anaconda3\\envs\\ml01-02\\lib\\site-packages\\sklearn\\linear_model\\_logistic.py\", line 443, in _check_solver\n",
      "    \"got %s penalty.\" % (solver, penalty))\n",
      "ValueError: Solver lbfgs supports only 'l2' or 'none' penalties, got l1 penalty.\n",
      "\n",
      "  FitFailedWarning)\n"
     ]
    }
   ],
   "source": [
    "from sklearn.model_selection import GridSearchCV\n",
    "from sklearn.linear_model import LogisticRegression\n",
    "\n",
    "# 파라미터 튜닝 (GridSearchCV)\n",
    "#1. patameter 설정\n",
    "params = {\n",
    "      'penalty' : ['l2','l1']\n",
    "    , 'C' : [0.01, 0.1, 1, 5, 10] # 1/alpha   \n",
    "}\n",
    "\n",
    "#2. 적용할 모델 객체 생성 : Logistic Regression\n",
    "lr_clf = LogisticRegression()\n",
    "\n",
    "#3. GridSearch object create\n",
    "grid_clf = GridSearchCV(\n",
    "      lr_clf\n",
    "    , param_grid=params\n",
    "    , scoring='accuracy'\n",
    "    , cv=3\n",
    ")\n",
    "\n",
    "grid_clf.fit(data_scaled, cancer.target)\n",
    "\n",
    "b_param = grid_clf.best_params_\n",
    "b_accu = grid_clf.best_score_\n",
    "out_str = 'Best Param : {0:}, Best Accu: {1:.3f}'\n",
    "print(out_str.format(b_param, b_accu))"
   ]
  },
  {
   "cell_type": "markdown",
   "metadata": {},
   "source": [
    "### Regression Tree Predict\n",
    "- Boston House Price "
   ]
  },
  {
   "cell_type": "code",
   "execution_count": 15,
   "metadata": {},
   "outputs": [],
   "source": [
    "import warnings\n",
    "warnings.filterwarnings('ignore')"
   ]
  },
  {
   "cell_type": "code",
   "execution_count": 16,
   "metadata": {},
   "outputs": [],
   "source": [
    "import numpy as np\n",
    "import pandas as pd\n",
    "from sklearn.datasets import load_boston"
   ]
  },
  {
   "cell_type": "code",
   "execution_count": 18,
   "metadata": {},
   "outputs": [],
   "source": [
    "from sklearn.ensemble import RandomForestRegressor\n",
    "from sklearn.model_selection import cross_val_score"
   ]
  },
  {
   "cell_type": "code",
   "execution_count": 20,
   "metadata": {},
   "outputs": [],
   "source": [
    "# 데이터 셋 생성\n",
    "# 1. 데이터 로딩\n",
    "boston = load_boston()\n",
    "# 2. DataFrame 생성\n",
    "boston_df = pd.DataFrame(\n",
    "      boston.data\n",
    "    , columns=boston.feature_names\n",
    ")\n",
    "boston_df['PRICE'] = boston.target\n",
    "# 3. 데이터, 답 생성\n",
    "y_target = boston_df['PRICE']\n",
    "X_data = boston_df.drop(['PRICE'], axis=1)"
   ]
  },
  {
   "cell_type": "code",
   "execution_count": 24,
   "metadata": {},
   "outputs": [
    {
     "name": "stdout",
     "output_type": "stream",
     "text": [
      "5 교차 검증의 개별 RMSE :  [2.81 3.63 4.54 6.8  4.34]\n",
      "평균 RMSE :  4.42\n"
     ]
    }
   ],
   "source": [
    "# 모델 생성\n",
    "rf_reg = RandomForestRegressor(\n",
    "      n_estimators=1000\n",
    "    , random_state=0\n",
    ")\n",
    "\n",
    "# 교차검증\n",
    "neg_mse_scores = cross_val_score(\n",
    "      rf_reg\n",
    "    , X_data\n",
    "    , y_target\n",
    "    , scoring='neg_mean_squared_error' # 평가지표 - 점수\n",
    "    , cv=5 \n",
    ")\n",
    "# 결과 처리\n",
    "rmse_scores = np.sqrt(-1 * neg_mse_scores)\n",
    "avg_rmse = np.mean(rmse_scores)\n",
    "\n",
    "# 결과 출력\n",
    "print('5 교차 검증의 개별 RMSE : ', np.round(rmse_scores,2))\n",
    "print('평균 RMSE : ', np.round(avg_rmse,2) )"
   ]
  },
  {
   "cell_type": "code",
   "execution_count": 30,
   "metadata": {},
   "outputs": [],
   "source": [
    "# DT, GB, XGB, LGBM 반복 처리 -> cross_val_score 출력\n",
    "\n",
    "def get_model_cv_prediction(model, X_data_p, y_target_p):\n",
    "    neg_scores = cross_val_score(model, X_data_p, y_target_p\n",
    "                                , scoring='neg_mean_squared_error'\n",
    "                                , cv=5\n",
    "                                )\n",
    "    rmse_scores = np.sqrt(-1 * neg_scores)\n",
    "    avg_rmse = np.mean(rmse_scores)\n",
    "    print('#####', model.__class__.__name__, '#####')\n",
    "    print('AVG RMSE : {0:.3f}'.format(avg_rmse))"
   ]
  },
  {
   "cell_type": "code",
   "execution_count": 26,
   "metadata": {},
   "outputs": [],
   "source": [
    "from sklearn.tree import DecisionTreeRegressor\n",
    "from sklearn.ensemble import GradientBoostingRegressor\n",
    "from xgboost import XGBRegressor\n",
    "from lightgbm import LGBMRegressor\n",
    "from sklearn.ensemble import RandomForestRegressor"
   ]
  },
  {
   "cell_type": "code",
   "execution_count": 31,
   "metadata": {},
   "outputs": [
    {
     "name": "stdout",
     "output_type": "stream",
     "text": [
      "##### DecisionTreeRegressor #####\n",
      "AVG RMSE : 5.978\n",
      "##### RandomForestRegressor #####\n",
      "AVG RMSE : 4.423\n",
      "##### GradientBoostingRegressor #####\n",
      "AVG RMSE : 4.269\n",
      "[12:45:55] WARNING: src/objective/regression_obj.cu:152: reg:linear is now deprecated in favor of reg:squarederror.\n",
      "[12:45:55] WARNING: src/objective/regression_obj.cu:152: reg:linear is now deprecated in favor of reg:squarederror.\n",
      "[12:45:56] WARNING: src/objective/regression_obj.cu:152: reg:linear is now deprecated in favor of reg:squarederror.\n",
      "[12:45:56] WARNING: src/objective/regression_obj.cu:152: reg:linear is now deprecated in favor of reg:squarederror.\n",
      "[12:45:56] WARNING: src/objective/regression_obj.cu:152: reg:linear is now deprecated in favor of reg:squarederror.\n",
      "##### XGBRegressor #####\n",
      "AVG RMSE : 4.089\n",
      "##### LGBMRegressor #####\n",
      "AVG RMSE : 4.646\n"
     ]
    }
   ],
   "source": [
    "# 5개 모델 객체 생성\n",
    "dt_reg = DecisionTreeRegressor(max_depth=4, random_state=0)\n",
    "rf_reg = RandomForestRegressor(n_estimators=1000, random_state=0)\n",
    "gb_reg = GradientBoostingRegressor(n_estimators=1000, random_state=0)\n",
    "xgb_reg = XGBRegressor(n_estimators=1000)\n",
    "lgb_reg = LGBMRegressor(n_estimators=1000)\n",
    "# 교차검증 처리\n",
    "\n",
    "models = [dt_reg, rf_reg, gb_reg, xgb_reg, lgb_reg]\n",
    "for model in models:\n",
    "    get_model_cv_prediction(model, X_data, y_target)"
   ]
  },
  {
   "cell_type": "markdown",
   "metadata": {},
   "source": [
    "### 시각화"
   ]
  },
  {
   "cell_type": "code",
   "execution_count": 35,
   "metadata": {},
   "outputs": [
    {
     "data": {
      "text/plain": [
       "<matplotlib.axes._subplots.AxesSubplot at 0x1a674ab90c8>"
      ]
     },
     "execution_count": 35,
     "metadata": {},
     "output_type": "execute_result"
    },
    {
     "data": {
      "image/png": "[encoded data removed]",
      "text/plain": [
       "<Figure size 432x288 with 1 Axes>"
      ]
     },
     "metadata": {
      "needs_background": "light"
     },
     "output_type": "display_data"
    }
   ],
   "source": [
    "# max_depth\n",
    "# LinearRegression, max_depth=2, max_depth=7 시각화\n",
    "# 피처(컬럼) 중요도\n",
    "import seaborn as sns\n",
    "\n",
    "# 1. 학습 -> 중요도 추출\n",
    "rf_reg = RandomForestRegressor(n_estimators=1000)\n",
    "rf_reg.fit(X_data, y_target)\n",
    "\n",
    "# 2. 중요도 추출 -> sort => Series.sort_values()\n",
    "# rf_reg.feature_importances_ # 피처 중요도 값\n",
    "feature_ser = pd.Series(\n",
    "    data=rf_reg.feature_importances_ # 피처 중요도 값\n",
    "    , index=X_data.columns # df의 컬럼명\n",
    ")\n",
    "feature_ser_desc = feature_ser.sort_values(ascending=False)\n",
    "\n",
    "# 시각화\n",
    "sns.barplot(\n",
    "      x=feature_ser_desc # 중요도 값\n",
    "    , y=feature_ser_desc.index # 피처명 \n",
    ")\n",
    "\n"
   ]
  },
  {
   "cell_type": "code",
   "execution_count": 39,
   "metadata": {},
   "outputs": [
    {
     "name": "stdout",
     "output_type": "stream",
     "text": [
      "Sample shape :  (100, 2)\n"
     ]
    },
    {
     "data": {
      "text/plain": [
       "<matplotlib.collections.PathCollection at 0x1a67a7898c8>"
      ]
     },
     "execution_count": 39,
     "metadata": {},
     "output_type": "execute_result"
    },
    {
     "data": {
      "image/png": "[encoded data removed]",
      "text/plain": [
       "<Figure size 432x288 with 1 Axes>"
      ]
     },
     "metadata": {
      "needs_background": "light"
     },
     "output_type": "display_data"
    }
   ],
   "source": [
    "# RM feature(가격 영향을 주었다) => data, 답 : PRICE\n",
    "# 100개 추출 -> 산점도(분포확인)\n",
    "boston_df_sample = boston_df[['RM','PRICE']]\n",
    "boston_df_sample = boston_df_sample.sample(\n",
    "      n=100 # 추출할 데이터 개수\n",
    "    , random_state=0\n",
    ")\n",
    "\n",
    "print('Sample shape : ', boston_df_sample.shape)\n",
    "\n",
    "# 산점도(분포확인)\n",
    "plt.figure()\n",
    "plt.scatter(\n",
    "      boston_df_sample.RM\n",
    "    , boston_df_sample.PRICE\n",
    "    , c='darkorange'\n",
    ")\n",
    "\n",
    "\n",
    "from sklearn.linear_model import LinearRegression\n",
    "from sklearn.tree import DecisionTreeRegressor\n",
    "\n",
    "# 1. 모델 객체 3개 생성\n",
    "lr_reg = LinearRegression()\n",
    "dt_reg_depth_2 = DecisionTreeRegressor(max_depth=2)\n",
    "dt_reg_depth_7 = DecisionTreeRegressor(max_depth=7)\n",
    "\n"
   ]
  },
  {
   "cell_type": "code",
   "execution_count": 40,
   "metadata": {},
   "outputs": [],
   "source": [
    "from sklearn.linear_model import LinearRegression\n",
    "from sklearn.tree import DecisionTreeRegressor\n",
    "\n",
    "# 1. 모델 객체 3개 생성\n",
    "lr_reg = LinearRegression()\n",
    "dt_reg_depth_2 = DecisionTreeRegressor(max_depth=2)\n",
    "dt_reg_depth_7 = DecisionTreeRegressor(max_depth=7)"
   ]
  },
  {
   "cell_type": "code",
   "execution_count": 64,
   "metadata": {},
   "outputs": [],
   "source": [
    "# Test Data create\n",
    "# X_test = np.linspace(4.5, 8,5, 100) : 100개 생성\n",
    "X_test = np.arange(4.5, 8.5, 0.04).reshape(-1,1)"
   ]
  },
  {
   "cell_type": "code",
   "execution_count": 65,
   "metadata": {},
   "outputs": [
    {
     "data": {
      "text/html": [
       "<div>\n",
       "<style scoped>\n",
       "    .dataframe tbody tr th:only-of-type {\n",
       "        vertical-align: middle;\n",
       "    }\n",
       "\n",
       "    .dataframe tbody tr th {\n",
       "        vertical-align: top;\n",
       "    }\n",
       "\n",
       "    .dataframe thead th {\n",
       "        text-align: right;\n",
       "    }\n",
       "</style>\n",
       "<table border=\"1\" class=\"dataframe\">\n",
       "  <thead>\n",
       "    <tr style=\"text-align: right;\">\n",
       "      <th></th>\n",
       "      <th>RM</th>\n",
       "      <th>PRICE</th>\n",
       "    </tr>\n",
       "  </thead>\n",
       "  <tbody>\n",
       "    <tr>\n",
       "      <th>329</th>\n",
       "      <td>6.333</td>\n",
       "      <td>22.6</td>\n",
       "    </tr>\n",
       "    <tr>\n",
       "      <th>371</th>\n",
       "      <td>6.216</td>\n",
       "      <td>50.0</td>\n",
       "    </tr>\n",
       "    <tr>\n",
       "      <th>219</th>\n",
       "      <td>6.373</td>\n",
       "      <td>23.0</td>\n",
       "    </tr>\n",
       "  </tbody>\n",
       "</table>\n",
       "</div>"
      ],
      "text/plain": [
       "        RM  PRICE\n",
       "329  6.333   22.6\n",
       "371  6.216   50.0\n",
       "219  6.373   23.0"
      ]
     },
     "execution_count": 65,
     "metadata": {},
     "output_type": "execute_result"
    }
   ],
   "source": [
    "boston_df_sample.head(3)"
   ]
  },
  {
   "cell_type": "code",
   "execution_count": 66,
   "metadata": {},
   "outputs": [],
   "source": [
    "# Train Data, Label 추출 -> 2차원 변환=> 학습에 사용\n",
    "X_train = boston_df_sample.RM.values.reshape(-1,1)\n",
    "y_train = boston_df_sample.PRICE.values.reshape(-1,1)\n",
    "\n",
    "# Train Data, Label 추출 -> 2차원 변환\n",
    "X_train = boston_df_sample['RM'].values.reshape(-1,1)\n",
    "y_train = boston_df_sample['PRICE'].values.reshape(-1,1)"
   ]
  },
  {
   "cell_type": "code",
   "execution_count": 67,
   "metadata": {},
   "outputs": [],
   "source": [
    "# 학습\n",
    "lr_reg.fit(X_train, y_train)\n",
    "dt_reg_depth_2.fit(X_train, y_train)\n",
    "dt_reg_depth_7.fit(X_train, y_train)\n",
    "# 예측 추출\n",
    "lr_pred = lr_reg.predict(X_test)\n",
    "dt2_pred = dt_reg_depth_2.predict(X_test)\n",
    "dt7_pred = dt_reg_depth_7.predict(X_test)\n",
    "\n"
   ]
  },
  {
   "cell_type": "code",
   "execution_count": 75,
   "metadata": {},
   "outputs": [
    {
     "data": {
      "text/plain": [
       "<matplotlib.legend.Legend at 0x1a67a6c41c8>"
      ]
     },
     "execution_count": 75,
     "metadata": {},
     "output_type": "execute_result"
    },
    {
     "data": {
      "image/png": "[encoded data removed]",
      "text/plain": [
       "<Figure size 1008x288 with 3 Axes>"
      ]
     },
     "metadata": {
      "needs_background": "light"
     },
     "output_type": "display_data"
    }
   ],
   "source": [
    "# 시각화\n",
    "fig, (ax1,ax2,ax3) = plt.subplots(\n",
    "      figsize=(14,4)\n",
    "    , nrows=1\n",
    "    , ncols=3\n",
    ")\n",
    "\n",
    "# LinearRegression 첫번째(ax1) 축에 적용\n",
    "ax1.set_title(\"Linear Regression\")\n",
    "# 1, 산점도 (데이터 분포)\n",
    "ax1.scatter(\n",
    "    boston_df_sample.RM\n",
    "    , boston_df_sample.PRICE\n",
    "    , c='darkorange'\n",
    ")\n",
    "# 2. 회귀선 표시\n",
    "ax1.plot(X_test, lr_pred, lw=2, label='linear')\n",
    "ax1.legend()\n",
    "\n",
    "# Decision Tree Regression \\n max_depth=2 (ax2) 축에 적용\n",
    "ax2.set_title(\"Decision Tree Regression \\n max_depth=2\")\n",
    "ax2.scatter(\n",
    "    boston_df_sample.RM\n",
    "    , boston_df_sample.PRICE\n",
    "    , c='darkorange'\n",
    ")\n",
    "ax2.plot(X_test, dt2_pred, lw=2, label='max_depth=2')\n",
    "ax2.legend()\n",
    "\n",
    "# Decision Tree Regression \\n max_depth=7 (ax3) 축에 적용\n",
    "ax3.set_title(\"Decision Tree Regression \\n max_depth=7\")\n",
    "ax3.scatter(\n",
    "    boston_df_sample.RM\n",
    "    , boston_df_sample.PRICE\n",
    "    , c='darkorange'\n",
    ")\n",
    "ax3.plot(X_test, dt7_pred, lw=2, label='max_depth=7')\n",
    "ax3.legend()"
   ]
  }
 ],
 "metadata": {
  "kernelspec": {
   "display_name": "ml01-02",
   "language": "python",
   "name": "ml01-02"
  },
  "language_info": {
   "codemirror_mode": {
    "name": "ipython",
    "version": 3
   },
   "file_extension": ".py",
   "mimetype": "text/x-python",
   "name": "python",
   "nbconvert_exporter": "python",
   "pygments_lexer": "ipython3",
   "version": "3.7.7"
  }
 },
 "nbformat": 4,
 "nbformat_minor": 4
}
